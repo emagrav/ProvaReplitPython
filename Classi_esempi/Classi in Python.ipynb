{
 "cells": [
  {
   "cell_type": "markdown",
   "metadata": {
    "slideshow": {
     "slide_type": "slide"
    }
   },
   "source": [
    "# CLASSI IN PYTHON\n",
    "\n",
    "### Notebook by\n",
    "\n",
    "**emagrav**<br>\n",
    "mailto: emagrav@gmail.com"
   ]
  },
  {
   "cell_type": "markdown",
   "metadata": {},
   "source": [
    "## Se non inizializzi le variabili di classe...\n",
    "Di seguito due versioni della medesima classe Cane, con due comportamenti molto diversi a fronte di un'unica differenza: l'inizializzazione o meno di una variaile di classe in `__init__`\n",
    "Nella versione 1, dal momento che la variabile attributi è inizializzata in `__init__`, ogni cane ha i suoi attributi e li mantiene anche qualora vengano definiti altri cani con altri attributi"
   ]
  },
  {
   "cell_type": "markdown",
   "metadata": {},
   "source": [
    "Nella versione 1, dal momento che la variabile attributi è inizializzata in `__init__`, ogni cane ha i suoi attributi e li mantiene anche qualora vengano definiti altri cani con altri attributi"
   ]
  },
  {
   "cell_type": "code",
   "execution_count": 1,
   "metadata": {
    "slideshow": {
     "slide_type": "fragment"
    }
   },
   "outputs": [],
   "source": [
    "class Cane_ver1: \n",
    "  # questa variabile dell'oggetto self è condivisa con tutte le istanze se non inizializzata in __init__\n",
    "  attributi=[]\n",
    "\n",
    "  def __init__(self, nome):\n",
    "    self.nome = nome\n",
    "    \n",
    "    # Quì la variabile di self è inizializzata; pertanto \n",
    "    # il contenuto non sarà condiviso tra le diverse istanze della classe\n",
    "    self.attributi = [] \n",
    "  \n",
    "  def add_attributo(self, attributo):\n",
    "    self.attributi.append(attributo)\n",
    "  \n",
    "  def __str__(self):\n",
    "    return f\"{self.nome} {self.attributi}\"\n"
   ]
  },
  {
   "cell_type": "code",
   "execution_count": 3,
   "metadata": {},
   "outputs": [
    {
     "name": "stdout",
     "output_type": "stream",
     "text": [
      "<Cane ver. 1> Woody ['Meticcio', 'Nero e bianco']\n",
      "<Cane ver. 1> Toby ['Bassotto', 'Nero']\n",
      "<Cane ver. 1> Woody ['Meticcio', 'Nero e bianco']\n",
      "\n"
     ]
    }
   ],
   "source": [
    "\n",
    "d1=Cane_ver1('Woody')\n",
    "d1.add_attributo('Meticcio')\n",
    "d1.add_attributo('Nero e bianco')\n",
    "print(\"<Cane ver. 1>\", d1)\n",
    "\n",
    "d2=Cane_ver1('Toby')\n",
    "d2.add_attributo('Bassotto')\n",
    "d2.add_attributo('Nero')\n",
    "print(\"<Cane ver. 1>\", d2)\n",
    "\n",
    "# di nuovo Woody (che non è cambiato nel frattempo)\n",
    "print(\"<Cane ver. 1>\", d1)\n",
    "print()"
   ]
  },
  {
   "cell_type": "markdown",
   "metadata": {},
   "source": [
    "In quest'altra versione di Cane, la variabile attributi non la stiamo inizializzando come invece viene fatto nella versione 1, pertanto il suo contenuto sarà lo stesso per tutte le istanze. Lo stesso dicasi anche nel caso la utilizzassimo nell'`__init__`, ad es. con un'istruzione tipo:\n",
    "``` python\n",
    "def __init__(self, nome):\n",
    "    self.nome = nome\n",
    "    self.attributi.append(nome)\n",
    "```"
   ]
  },
  {
   "cell_type": "code",
   "execution_count": 4,
   "metadata": {},
   "outputs": [],
   "source": [
    "class Cane_ver2:\n",
    "  attributi=[]  \n",
    "  \n",
    "  def __init__(self, nome):\n",
    "    self.nome = nome\n",
    "  \n",
    "  def add_attributo(self, attributo):\n",
    "    self.attributi.append(attributo)\n",
    "  \n",
    "  def __str__(self):\n",
    "    return f\"{self.nome} {self.attributi}\""
   ]
  },
  {
   "cell_type": "code",
   "execution_count": 5,
   "metadata": {},
   "outputs": [
    {
     "name": "stdout",
     "output_type": "stream",
     "text": [
      "<Cane ver. 2> Rex ['Pastore tedesco', 'Beige']\n",
      "<Cane ver. 2> Gigi ['Pastore tedesco', 'Beige', 'Maltese', 'Bianco']\n",
      "<Cane ver. 2> Rex ['Pastore tedesco', 'Beige', 'Maltese', 'Bianco']\n",
      "\n"
     ]
    }
   ],
   "source": [
    "# Nella versione 2, invece, i cani condividono la stessa lista di attributi\n",
    "d3=Cane_ver2('Rex')\n",
    "d3.add_attributo('Pastore tedesco')\n",
    "d3.add_attributo('Beige')\n",
    "print(\"<Cane ver. 2>\", d3)\n",
    "\n",
    "d4=Cane_ver2('Gigi')\n",
    "d4.add_attributo('Maltese')\n",
    "d4.add_attributo('Bianco')\n",
    "print(\"<Cane ver. 2>\", d4)\n",
    "\n",
    "# di nuovo Rex (che nel frattempo è cambiato)\n",
    "print(\"<Cane ver. 2>\", d3)\n",
    "print()"
   ]
  },
  {
   "cell_type": "markdown",
   "metadata": {},
   "source": [
    "## Pertanto, sintetizzando, se una variabile in una classe viene inizializzata nell'`__init__` allora questa diventa una variabile d'istanza, altrimenti rimane una variabile di classe condivisa tra le varie istanze della classe stessa."
   ]
  },
  {
   "cell_type": "markdown",
   "metadata": {},
   "source": [
    "***"
   ]
  },
  {
   "cell_type": "code",
   "execution_count": 2,
   "metadata": {
    "slideshow": {
     "slide_type": "fragment"
    }
   },
   "outputs": [
    {
     "name": "stdout",
     "output_type": "stream",
     "text": [
      "Ho indovinato al 5° tentativo!\n"
     ]
    }
   ],
   "source": [
    "import random\n",
    "\n",
    "x = int(input('Inserisci un numero da 1 a 10: '))\n",
    "guesses = list(range(1, 11))\n",
    "while len(guesses) > 0:\n",
    "    j = random.randrange(0, len(guesses))\n",
    "    guess = guesses.pop(j)\n",
    "    if x == guess:\n",
    "        print(f'Ho indovinato al {10-len(guesses)}° tentativo!')\n",
    "        break # esco dal ciclo\n",
    "else:\n",
    "    print('Non sono riuscito a indovinare')"
   ]
  },
  {
   "cell_type": "markdown",
   "metadata": {
    "collapsed": true,
    "slideshow": {
     "slide_type": "slide"
    }
   },
   "source": [
    "## Funzioni\n",
    "\n",
    "Le funzioni servono a raggruppare un insieme di istruzioni che eseguono un compito specifico. In questo modo si evita la ripetizione dello stesso codice in più punti del programma rendendolo più ordinato, leggibile, manutenibile e meno incline a errori.\n",
    "\n",
    "Analogamente alle funzioni matematiche, le funzioni accettano in input zero o più argomenti (o parametri) e restituiscono un risultato."
   ]
  },
  {
   "cell_type": "code",
   "execution_count": 30,
   "metadata": {
    "slideshow": {
     "slide_type": "subslide"
    }
   },
   "outputs": [
    {
     "name": "stdout",
     "output_type": "stream",
     "text": [
      "area = 45.47\n"
     ]
    }
   ],
   "source": [
    "import math\n",
    "\n",
    "# definizione di funzione\n",
    "def area_triangolo(a, b, c): # intestazione\n",
    "    \"\"\" calcola l'area di un triangolo a partire dalle misure dei lati \"\"\"\n",
    "    # corpo\n",
    "    p = (a + b + c) / 2\n",
    "    q = p * (p - a) * (p - b) * (p - c)\n",
    "    \n",
    "    if q <= 0:\n",
    "        print('I lati in input non sono quelli di un triangolo!')\n",
    "        return  # resituisce None\n",
    "    \n",
    "    area = math.sqrt(q)\n",
    "    return round(area, 2)\n",
    "\n",
    "x = area_triangolo(13, 7, 15) # chiamata di funzione\n",
    "print('area =', x)"
   ]
  },
  {
   "cell_type": "markdown",
   "metadata": {
    "slideshow": {
     "slide_type": "slide"
    }
   },
   "source": [
    "### La documentazione è fondamentale\n",
    "\n",
    "La stringa che segue l'intestazione della funzione è detta *docstring*. Oltre a commentare ciò che fa la funzione, la *docstring* è il testo che viene mostrato dal comando help dell'interprete python, come anche da ipython digitando il nome della funzione seguito da un punto interrogativo.\n",
    "\n",
    "Le convenzioni sulle docstring, cosa scrivere o cosa non scrivere con degli esempi sono contenuti nella [PEP 257](https://www.python.org/dev/peps/pep-0257).\n",
    "\n",
    "I commenti sono una parte molto importante del codice, non solo come docstring, ma in tutti i punti del codice dove possono essere d'aiuto. Soprattutto in linguaggi compatti e altamente espressivi come Python.\n",
    "\n",
    "Oltre a far comprendere il codice a una persona diversa da quella che lo ha progettato, i commenti sono molto utili anche per chi ha realizzato il codice per poterlo comprendere meglio anche a distanza di tempo. Un codice ben commentato è più manutenibile e riduce la probabilità di introdurre errori nella sua evoluzione durante tutto il suo ciclo di vita."
   ]
  },
  {
   "cell_type": "code",
   "execution_count": 31,
   "metadata": {
    "slideshow": {
     "slide_type": "slide"
    }
   },
   "outputs": [
    {
     "name": "stdout",
     "output_type": "stream",
     "text": [
      "Help on function area_triangolo in module __main__:\n",
      "\n",
      "area_triangolo(a, b, c)\n",
      "    calcola l'area di un triangolo a partire dalle misure dei lati\n",
      "\n"
     ]
    }
   ],
   "source": [
    "help(area_triangolo) # oppure con ipython: area_triangolo?"
   ]
  },
  {
   "cell_type": "markdown",
   "metadata": {
    "slideshow": {
     "slide_type": "slide"
    }
   },
   "source": [
    "### Passaggio dei parametri\n",
    "\n",
    "In Python i parametri sono sempre passati *per riferimento*.\n",
    "Di conseguenza se si modifica un oggetto all'interno di una funzione la modifica permane dopo averla eseguita."
   ]
  },
  {
   "cell_type": "code",
   "execution_count": 32,
   "metadata": {
    "slideshow": {
     "slide_type": "subslide"
    }
   },
   "outputs": [
    {
     "name": "stdout",
     "output_type": "stream",
     "text": [
      "l = []\n",
      "p = 120\n"
     ]
    }
   ],
   "source": [
    "# passaggio per riferimento\n",
    "\n",
    "def produttoria(lista):\n",
    "    ''' moltiplica gli elementi di una lista numerica '''\n",
    "    \n",
    "    if lista is None or len(lista) == 0:\n",
    "        return None\n",
    "    \n",
    "    t = 1\n",
    "    while len(lista) > 0:\n",
    "        t = t * lista.pop()\n",
    "    return t\n",
    "\n",
    "l = [1, 2, 3, 4, 5]\n",
    "p = produttoria(l)\n",
    "\n",
    "print('l =', l)\n",
    "print('p =', p)"
   ]
  },
  {
   "cell_type": "markdown",
   "metadata": {
    "slideshow": {
     "slide_type": "fragment"
    }
   },
   "source": [
    "E' buona regola generale di programmazione evitare quando possibile funzioni di questo tipo e preferire funzioni in cui l'unico valore modificato è quello restituito."
   ]
  },
  {
   "cell_type": "code",
   "execution_count": 33,
   "metadata": {
    "slideshow": {
     "slide_type": "slide"
    }
   },
   "outputs": [
    {
     "name": "stdout",
     "output_type": "stream",
     "text": [
      "l = [1, 2, 3, 4, 5]\n",
      "p = 120\n"
     ]
    }
   ],
   "source": [
    "def produttoria2(lista):\n",
    "    ''' moltiplica gli elementi di una lista numerica '''\n",
    "    \n",
    "    if lista is None or len(lista) == 0:\n",
    "        return None\n",
    "    \n",
    "    t = 1\n",
    "    for e in lista:\n",
    "        t = t * e\n",
    "    return t\n",
    "\n",
    "l = [1, 2, 3, 4, 5]\n",
    "p = produttoria2(l)\n",
    "\n",
    "print('l =', l)\n",
    "print('p =', p)"
   ]
  },
  {
   "cell_type": "markdown",
   "metadata": {
    "collapsed": true,
    "slideshow": {
     "slide_type": "slide"
    }
   },
   "source": [
    "I parametri possono essere passati per posizione o per nome."
   ]
  },
  {
   "cell_type": "code",
   "execution_count": 34,
   "metadata": {
    "slideshow": {
     "slide_type": "fragment"
    }
   },
   "outputs": [
    {
     "name": "stdout",
     "output_type": "stream",
     "text": [
      "3.56\n",
      "3.56\n"
     ]
    }
   ],
   "source": [
    "def cstr(n, d, s):\n",
    "    ''' converte un numero \"n\" in stringa,\n",
    "        formattandolo con \"d\" decimali\n",
    "        e usando il separatore \"s\" '''\n",
    "    \n",
    "    i1 = int(n)\n",
    "    i2 = n - i1 \n",
    "    \n",
    "    if i2 == 0:\n",
    "        return str(i1)\n",
    "    \n",
    "    i2 = int(i2*pow(10,d))\n",
    "    \n",
    "    return str(i1) + s + str(i2)\n",
    "    \n",
    "print(cstr(3.562131, 2, '.'))\n",
    "print(cstr(3.562131, s='.', d=2))"
   ]
  },
  {
   "cell_type": "markdown",
   "metadata": {
    "slideshow": {
     "slide_type": "slide"
    }
   },
   "source": [
    "Il passaggio per nome risulta molto utile quando nella definizione dei parametri ci sono dei valori di default."
   ]
  },
  {
   "cell_type": "code",
   "execution_count": 35,
   "metadata": {
    "slideshow": {
     "slide_type": "fragment"
    }
   },
   "outputs": [
    {
     "name": "stdout",
     "output_type": "stream",
     "text": [
      "3.56\n",
      "3.562\n",
      "3|56\n"
     ]
    }
   ],
   "source": [
    "def cstr(n, d=2, s='.'):\n",
    "    ''' converte un numero \"n\" in stringa,\n",
    "        formattandolo con \"d\" decimali\n",
    "        e usando il separatore \"s\" '''\n",
    "    \n",
    "    i1 = int(n)\n",
    "    i2 = n - i1 \n",
    "    \n",
    "    if i2 == 0:\n",
    "        return str(i1)\n",
    "    \n",
    "    i2 = int(i2*pow(10,d))\n",
    "    \n",
    "    return str(i1) + s + str(i2)\n",
    "    \n",
    "print(cstr(3.562131))\n",
    "print(cstr(3.562131, 3))\n",
    "print(cstr(3.562131, s='|'))"
   ]
  },
  {
   "cell_type": "markdown",
   "metadata": {
    "slideshow": {
     "slide_type": "slide"
    }
   },
   "source": [
    "E' anche possibile definire funzioni che abbiano una lista di parametri variabile, sia posizionali che per nome.<br>\n",
    "Nel caso siano presenti entrambe le tipologie i parametri per nome devono seguire quelli posizionali."
   ]
  },
  {
   "cell_type": "code",
   "execution_count": 36,
   "metadata": {
    "slideshow": {
     "slide_type": "subslide"
    }
   },
   "outputs": [
    {
     "name": "stdout",
     "output_type": "stream",
     "text": [
      "Ciao a tutti, sono Paolo e ho 33 anni\n",
      "Ciao a tutti, sono Maria Laura, ho 35 anni, vengo da Roma e il mio colore preferito è blu\n"
     ]
    }
   ],
   "source": [
    "def presentazione(*nomi, **info):\n",
    "    ''' stampa un messaggio di presentazione '''\n",
    "\n",
    "    msg = 'Ciao a tutti, sono {}'.format(' '.join(nomi))\n",
    "    for k, v in info.items():\n",
    "        if k == 'eta':\n",
    "            msg += f', ho {v} anni'\n",
    "        elif k == 'citta':\n",
    "            msg += f', vengo da {v}'\n",
    "        elif k == 'colore':\n",
    "            msg += f', il mio colore preferito è {v}'\n",
    "    \n",
    "    print(' e'.join(msg.rsplit(',', 1)))\n",
    "        \n",
    "presentazione('Paolo', eta=33)\n",
    "presentazione('Maria', 'Laura', eta=35, citta='Roma', colore='blu')"
   ]
  },
  {
   "cell_type": "markdown",
   "metadata": {
    "collapsed": true,
    "slideshow": {
     "slide_type": "slide"
    }
   },
   "source": [
    "### Scope delle variabili\n",
    "\n",
    "Tutte le variabili create all’interno di una funzione possono essere usate solo dal codice della funzione stessa. Tali variabili sono dette *locali*.\n",
    "\n",
    "Le variabili definite all'esterno della funzione sono invece accessibili anche all'interno della funzione e sono dette *globali*."
   ]
  },
  {
   "cell_type": "code",
   "execution_count": 37,
   "metadata": {
    "slideshow": {
     "slide_type": "slide"
    }
   },
   "outputs": [
    {
     "name": "stdout",
     "output_type": "stream",
     "text": [
      "x = 2.5\n",
      "a = 39.25\n",
      "x = 3\n"
     ]
    },
    {
     "ename": "NameError",
     "evalue": "name 'y' is not defined",
     "output_type": "error",
     "traceback": [
      "\u001b[0;31m---------------------------------------------------------------------------\u001b[0m",
      "\u001b[0;31mNameError\u001b[0m                                 Traceback (most recent call last)",
      "\u001b[0;32m<ipython-input-37-4ae159e70b6f>\u001b[0m in \u001b[0;36m<module>\u001b[0;34m()\u001b[0m\n\u001b[1;32m     13\u001b[0m \u001b[0mprint\u001b[0m\u001b[0;34m(\u001b[0m\u001b[0;34m'a ='\u001b[0m\u001b[0;34m,\u001b[0m \u001b[0ma\u001b[0m\u001b[0;34m)\u001b[0m\u001b[0;34m\u001b[0m\u001b[0m\n\u001b[1;32m     14\u001b[0m \u001b[0mprint\u001b[0m\u001b[0;34m(\u001b[0m\u001b[0;34m'x ='\u001b[0m\u001b[0;34m,\u001b[0m \u001b[0mx\u001b[0m\u001b[0;34m)\u001b[0m\u001b[0;34m\u001b[0m\u001b[0m\n\u001b[0;32m---> 15\u001b[0;31m \u001b[0mprint\u001b[0m\u001b[0;34m(\u001b[0m\u001b[0;34m'y ='\u001b[0m\u001b[0;34m,\u001b[0m \u001b[0my\u001b[0m\u001b[0;34m)\u001b[0m\u001b[0;34m\u001b[0m\u001b[0m\n\u001b[0m",
      "\u001b[0;31mNameError\u001b[0m: name 'y' is not defined"
     ]
    }
   ],
   "source": [
    "PI_GRECO = 3.14\n",
    "\n",
    "def area_ellisse(a1, a2):\n",
    "    ''' calcola l'area di un elisse dati gli assi '''\n",
    "    x = a1 / 2\n",
    "    y = a2 / 2\n",
    "    print('x =', x)\n",
    "    return x * y * PI_GRECO\n",
    "\n",
    "x = 3\n",
    "a = area_ellisse(5, 10)\n",
    "\n",
    "print('a =', a)\n",
    "print('x =', x)\n",
    "print('y =', y)"
   ]
  },
  {
   "cell_type": "markdown",
   "metadata": {
    "slideshow": {
     "slide_type": "slide"
    }
   },
   "source": [
    "### Funzioni ricorsive\n",
    "\n",
    "Una funzione può richiamare altre funzioni e in particolare anche se stessa. In questo caso si parla di funzione *ricorsiva*.\n",
    "\n",
    "Affinchè una funzione ricorsiva termini bisogna che esista una *condizione di terminazione* al verificarsi della quale si è in grado di restituire immediatamente il risultato. Il risultato finale viene calcolato riconducendo progressivamente i parametri iniziali ad una situazione in cui la condizione di terminazione risulta vera.\n",
    "\n",
    "Le ricorsione consente di risolvere dei problemi complessi in poche e semplici linee di codice, ma spesso risulta inefficiente o inapplicabile per l'elevato utilizzo delle risorse del sistema."
   ]
  },
  {
   "cell_type": "code",
   "execution_count": 79,
   "metadata": {
    "slideshow": {
     "slide_type": "slide"
    }
   },
   "outputs": [
    {
     "name": "stdout",
     "output_type": "stream",
     "text": [
      "Fattoriale di 10 = 3628800\n"
     ]
    }
   ],
   "source": [
    "# classico esempio del fattoriale\n",
    "\n",
    "def fatt(x):\n",
    "    return 1 if x<=1 else x*fatt(x-1)\n",
    "\n",
    "print('Fattoriale di 10 =', fatt(10))"
   ]
  },
  {
   "cell_type": "code",
   "execution_count": 80,
   "metadata": {
    "slideshow": {
     "slide_type": "slide"
    }
   },
   "outputs": [
    {
     "ename": "RecursionError",
     "evalue": "maximum recursion depth exceeded in comparison",
     "output_type": "error",
     "traceback": [
      "\u001b[0;31m---------------------------------------------------------------------------\u001b[0m",
      "\u001b[0;31mRecursionError\u001b[0m                            Traceback (most recent call last)",
      "\u001b[0;32m<ipython-input-80-1ce0a1d85cb2>\u001b[0m in \u001b[0;36m<module>\u001b[0;34m()\u001b[0m\n\u001b[0;32m----> 1\u001b[0;31m \u001b[0mprint\u001b[0m\u001b[0;34m(\u001b[0m\u001b[0;34m'Fattoriale di 1000 ='\u001b[0m\u001b[0;34m,\u001b[0m \u001b[0mfatt\u001b[0m\u001b[0;34m(\u001b[0m\u001b[0;36m1000\u001b[0m\u001b[0;34m)\u001b[0m\u001b[0;34m)\u001b[0m\u001b[0;34m\u001b[0m\u001b[0m\n\u001b[0m",
      "\u001b[0;32m<ipython-input-79-0e89979b655a>\u001b[0m in \u001b[0;36mfatt\u001b[0;34m(x)\u001b[0m\n\u001b[1;32m      2\u001b[0m \u001b[0;34m\u001b[0m\u001b[0m\n\u001b[1;32m      3\u001b[0m \u001b[0;32mdef\u001b[0m \u001b[0mfatt\u001b[0m\u001b[0;34m(\u001b[0m\u001b[0mx\u001b[0m\u001b[0;34m)\u001b[0m\u001b[0;34m:\u001b[0m\u001b[0;34m\u001b[0m\u001b[0m\n\u001b[0;32m----> 4\u001b[0;31m     \u001b[0;32mreturn\u001b[0m \u001b[0;36m1\u001b[0m \u001b[0;32mif\u001b[0m \u001b[0mx\u001b[0m\u001b[0;34m<=\u001b[0m\u001b[0;36m1\u001b[0m \u001b[0;32melse\u001b[0m \u001b[0mx\u001b[0m\u001b[0;34m*\u001b[0m\u001b[0mfatt\u001b[0m\u001b[0;34m(\u001b[0m\u001b[0mx\u001b[0m\u001b[0;34m-\u001b[0m\u001b[0;36m1\u001b[0m\u001b[0;34m)\u001b[0m\u001b[0;34m\u001b[0m\u001b[0m\n\u001b[0m\u001b[1;32m      5\u001b[0m \u001b[0;34m\u001b[0m\u001b[0m\n\u001b[1;32m      6\u001b[0m \u001b[0mprint\u001b[0m\u001b[0;34m(\u001b[0m\u001b[0;34m'Fattoriale di 10 ='\u001b[0m\u001b[0;34m,\u001b[0m \u001b[0mfatt\u001b[0m\u001b[0;34m(\u001b[0m\u001b[0;36m10\u001b[0m\u001b[0;34m)\u001b[0m\u001b[0;34m)\u001b[0m\u001b[0;34m\u001b[0m\u001b[0m\n",
      "... last 1 frames repeated, from the frame below ...\n",
      "\u001b[0;32m<ipython-input-79-0e89979b655a>\u001b[0m in \u001b[0;36mfatt\u001b[0;34m(x)\u001b[0m\n\u001b[1;32m      2\u001b[0m \u001b[0;34m\u001b[0m\u001b[0m\n\u001b[1;32m      3\u001b[0m \u001b[0;32mdef\u001b[0m \u001b[0mfatt\u001b[0m\u001b[0;34m(\u001b[0m\u001b[0mx\u001b[0m\u001b[0;34m)\u001b[0m\u001b[0;34m:\u001b[0m\u001b[0;34m\u001b[0m\u001b[0m\n\u001b[0;32m----> 4\u001b[0;31m     \u001b[0;32mreturn\u001b[0m \u001b[0;36m1\u001b[0m \u001b[0;32mif\u001b[0m \u001b[0mx\u001b[0m\u001b[0;34m<=\u001b[0m\u001b[0;36m1\u001b[0m \u001b[0;32melse\u001b[0m \u001b[0mx\u001b[0m\u001b[0;34m*\u001b[0m\u001b[0mfatt\u001b[0m\u001b[0;34m(\u001b[0m\u001b[0mx\u001b[0m\u001b[0;34m-\u001b[0m\u001b[0;36m1\u001b[0m\u001b[0;34m)\u001b[0m\u001b[0;34m\u001b[0m\u001b[0m\n\u001b[0m\u001b[1;32m      5\u001b[0m \u001b[0;34m\u001b[0m\u001b[0m\n\u001b[1;32m      6\u001b[0m \u001b[0mprint\u001b[0m\u001b[0;34m(\u001b[0m\u001b[0;34m'Fattoriale di 10 ='\u001b[0m\u001b[0;34m,\u001b[0m \u001b[0mfatt\u001b[0m\u001b[0;34m(\u001b[0m\u001b[0;36m10\u001b[0m\u001b[0;34m)\u001b[0m\u001b[0;34m)\u001b[0m\u001b[0;34m\u001b[0m\u001b[0m\n",
      "\u001b[0;31mRecursionError\u001b[0m: maximum recursion depth exceeded in comparison"
     ]
    }
   ],
   "source": [
    "print('Fattoriale di 1000 =', fatt(1000))"
   ]
  },
  {
   "cell_type": "code",
   "execution_count": 78,
   "metadata": {
    "slideshow": {
     "slide_type": "slide"
    }
   },
   "outputs": [
    {
     "name": "stdout",
     "output_type": "stream",
     "text": [
      "Fattoriale di 10 = 3628800\n",
      "Fattoriale di 1000 = 402387260077093773543702433923003985719374864210714632543799910429938512398629020592044208486969404800479988610197196058631666872994808558901323829669944590997424504087073759918823627727188732519779505950995276120874975462497043601418278094646496291056393887437886487337119181045825783647849977012476632889835955735432513185323958463075557409114262417474349347553428646576611667797396668820291207379143853719588249808126867838374559731746136085379534524221586593201928090878297308431392844403281231558611036976801357304216168747609675871348312025478589320767169132448426236131412508780208000261683151027341827977704784635868170164365024153691398281264810213092761244896359928705114964975419909342221566832572080821333186116811553615836546984046708975602900950537616475847728421889679646244945160765353408198901385442487984959953319101723355556602139450399736280750137837615307127761926849034352625200015888535147331611702103968175921510907788019393178114194545257223865541461062892187960223838971476088506276862967146674697562911234082439208160153780889893964518263243671616762179168909779911903754031274622289988005195444414282012187361745992642956581746628302955570299024324153181617210465832036786906117260158783520751516284225540265170483304226143974286933061690897968482590125458327168226458066526769958652682272807075781391858178889652208164348344825993266043367660176999612831860788386150279465955131156552036093988180612138558600301435694527224206344631797460594682573103790084024432438465657245014402821885252470935190620929023136493273497565513958720559654228749774011413346962715422845862377387538230483865688976461927383814900140767310446640259899490222221765904339901886018566526485061799702356193897017860040811889729918311021171229845901641921068884387121855646124960798722908519296819372388642614839657382291123125024186649353143970137428531926649875337218940694281434118520158014123344828015051399694290153483077644569099073152433278288269864602789864321139083506217095002597389863554277196742822248757586765752344220207573630569498825087968928162753848863396909959826280956121450994871701244516461260379029309120889086942028510640182154399457156805941872748998094254742173582401063677404595741785160829230135358081840096996372524230560855903700624271243416909004153690105933983835777939410970027753472000000000000000000000000000000000000000000000000000000000000000000000000000000000000000000000000000000000000000000000000000000000000000000000000000000000000000000000000000000000000000000000000000000000000000000000000000000000000000000000000000000000\n"
     ]
    }
   ],
   "source": [
    "def fatt2(x):\n",
    "    r = 1\n",
    "    for i in range(2, x+1):\n",
    "        r *= i\n",
    "    return r\n",
    "\n",
    "print('Fattoriale di 10 =', fatt2(10))\n",
    "print('Fattoriale di 1000 =', fatt2(1000))"
   ]
  },
  {
   "cell_type": "markdown",
   "metadata": {
    "slideshow": {
     "slide_type": "slide"
    }
   },
   "source": [
    "## Comprehension\n",
    "\n",
    "Le *comprehension* permettono di creare rapidamente nuove liste, set, e dizionari partendo da una sequenza di valori esistenti, eventualmente trasformandone gli elementi e filtrandole."
   ]
  },
  {
   "cell_type": "code",
   "execution_count": 1,
   "metadata": {
    "slideshow": {
     "slide_type": "fragment"
    }
   },
   "outputs": [
    {
     "name": "stdout",
     "output_type": "stream",
     "text": [
      "t1 = (3, 4, 1, 4, 5, 1, 8, 6)\n",
      "l1 = [27, 64, 1, 64, 125, 1, 512, 216]\n",
      "l2 = [64, 64, 512, 216]\n",
      "s1 = {64, 512, 216}\n",
      "d1 = {'Cubo di 4': 64, 'Cubo di 8': 512, 'Cubo di 6': 216}\n"
     ]
    }
   ],
   "source": [
    "t1 = (3, 4, 1, 4, 5, 1, 8, 6)\n",
    "l1 = [x**3 for x in t1]\n",
    "l2 = [x**3 for x in t1 if x%2 == 0]\n",
    "s1 = {x**3 for x in t1 if x%2 == 0}\n",
    "d1 = {f'Cubo di {x}': x**3 for x in t1 if x%2 == 0}\n",
    "\n",
    "print('t1 =', t1)\n",
    "print('l1 =', l1)\n",
    "print('l2 =', l2)\n",
    "print('s1 =', s1)\n",
    "print('d1 =', d1)"
   ]
  },
  {
   "cell_type": "markdown",
   "metadata": {
    "slideshow": {
     "slide_type": "slide"
    }
   },
   "source": [
    "## Map e Filter\n",
    "\n",
    "In Python ci sono due funzioni bult-in che possono svolgere un ruolo simile alle comprehension, che si rifanno a dei costrutti tipici della programmazione funzionale."
   ]
  },
  {
   "cell_type": "code",
   "execution_count": 39,
   "metadata": {
    "slideshow": {
     "slide_type": "slide"
    }
   },
   "outputs": [
    {
     "name": "stdout",
     "output_type": "stream",
     "text": [
      "t1 = (3, 4, 1, 4, 5, 1, 8, 6)\n",
      "l1 = [27, 64, 1, 64, 125, 1, 512, 216]\n",
      "l2 = [64, 64, 512, 216]\n",
      "s1 = {64, 512, 216}\n",
      "d1 = {'Cubo di 4': 64, 'Cubo di 8': 512, 'Cubo di 6': 216}\n"
     ]
    }
   ],
   "source": [
    "def cubo(x):\n",
    "    return x**3\n",
    "\n",
    "def pari(x):\n",
    "    return x%2 == 0\n",
    "\n",
    "def kv(x):\n",
    "    return (f'Cubo di {x}', cubo(x))\n",
    "\n",
    "t1 = (3, 4, 1, 4, 5, 1, 8, 6)\n",
    "l1 = list(map(cubo, t1))\n",
    "l2 = list(map(cubo, filter(pari, t1)))\n",
    "s1 = set(map(cubo, filter(pari, t1)))\n",
    "d1 = dict(map(kv, filter(pari, t1)))\n",
    "\n",
    "print('t1 =', t1)\n",
    "print('l1 =', l1)\n",
    "print('l2 =', l2)\n",
    "print('s1 =', s1)\n",
    "print('d1 =', d1)"
   ]
  },
  {
   "cell_type": "markdown",
   "metadata": {
    "slideshow": {
     "slide_type": "slide"
    }
   },
   "source": [
    "## Funzioni lambda\n",
    "\n",
    "Le funzioni *lambda* sono delle funzioni anonime, che possono essere definite e utilizzate \"al volo\"."
   ]
  },
  {
   "cell_type": "code",
   "execution_count": 40,
   "metadata": {
    "slideshow": {
     "slide_type": "fragment"
    }
   },
   "outputs": [
    {
     "name": "stdout",
     "output_type": "stream",
     "text": [
      "t1 = (3, 4, 1, 4, 5, 1, 8, 6)\n",
      "l1 = [27, 64, 1, 64, 125, 1, 512, 216]\n",
      "l2 = [64, 64, 512, 216]\n",
      "s1 = {64, 512, 216}\n",
      "d1 = {'Cubo di 4': 64, 'Cubo di 8': 512, 'Cubo di 6': 216}\n"
     ]
    }
   ],
   "source": [
    "t1 = (3, 4, 1, 4, 5, 1, 8, 6)\n",
    "l1 = list(map(lambda x: x**3, t1))\n",
    "l2 = list(map(lambda x: x**3, filter(lambda x: x%2==0, t1)))\n",
    "s1 = set(map(lambda x: x**3, filter(lambda x: x%2==0, t1)))\n",
    "d1 = dict(map(lambda x: (f'Cubo di {x}', x**3), filter(lambda x: x%2==0, t1)))\n",
    "\n",
    "print('t1 =', t1)\n",
    "print('l1 =', l1)\n",
    "print('l2 =', l2)\n",
    "print('s1 =', s1)\n",
    "print('d1 =', d1)"
   ]
  },
  {
   "cell_type": "markdown",
   "metadata": {
    "collapsed": true,
    "slideshow": {
     "slide_type": "slide"
    }
   },
   "source": [
    "## Le eccezioni\n",
    "\n",
    "Quando in un programma si verifica un errore viene generata un'*eccezione*.<br>\n",
    "Le eccezioni si propagano dal blocco di codice dove si verifica verso il blocco di codice o funzione più esterna.<br>\n",
    "Se un'eccezione si propaga fino al modulo principale senza essere gestita causa l'arresto del programma."
   ]
  },
  {
   "cell_type": "code",
   "execution_count": 41,
   "metadata": {
    "slideshow": {
     "slide_type": "slide"
    }
   },
   "outputs": [
    {
     "name": "stdout",
     "output_type": "stream",
     "text": [
      "x = 1.5\n"
     ]
    }
   ],
   "source": [
    "def somma(x, y):\n",
    "    s = x + y + (x-2)/(x-2) - 1\n",
    "    return s\n",
    "\n",
    "def moltiplica(x, y):\n",
    "    t = 0\n",
    "    for i in range(0, x):\n",
    "        t = somma(t, y)\n",
    "    return t\n",
    "\n",
    "def dividi(x, y):\n",
    "    i = 1 / y\n",
    "    return moltiplica(x, i)\n",
    "    \n",
    "x = dividi(3, 2)\n",
    "print('x =', x)"
   ]
  },
  {
   "cell_type": "code",
   "execution_count": 42,
   "metadata": {
    "slideshow": {
     "slide_type": "slide"
    }
   },
   "outputs": [
    {
     "ename": "ZeroDivisionError",
     "evalue": "division by zero",
     "output_type": "error",
     "traceback": [
      "\u001b[0;31m---------------------------------------------------------------------------\u001b[0m",
      "\u001b[0;31mZeroDivisionError\u001b[0m                         Traceback (most recent call last)",
      "\u001b[0;32m<ipython-input-42-7d59493be878>\u001b[0m in \u001b[0;36m<module>\u001b[0;34m()\u001b[0m\n\u001b[0;32m----> 1\u001b[0;31m \u001b[0mdividi\u001b[0m\u001b[0;34m(\u001b[0m\u001b[0;36m3\u001b[0m\u001b[0;34m,\u001b[0m \u001b[0;36m0\u001b[0m\u001b[0;34m)\u001b[0m\u001b[0;34m\u001b[0m\u001b[0m\n\u001b[0m",
      "\u001b[0;32m<ipython-input-41-7c085e2b4c97>\u001b[0m in \u001b[0;36mdividi\u001b[0;34m(x, y)\u001b[0m\n\u001b[1;32m     10\u001b[0m \u001b[0;34m\u001b[0m\u001b[0m\n\u001b[1;32m     11\u001b[0m \u001b[0;32mdef\u001b[0m \u001b[0mdividi\u001b[0m\u001b[0;34m(\u001b[0m\u001b[0mx\u001b[0m\u001b[0;34m,\u001b[0m \u001b[0my\u001b[0m\u001b[0;34m)\u001b[0m\u001b[0;34m:\u001b[0m\u001b[0;34m\u001b[0m\u001b[0m\n\u001b[0;32m---> 12\u001b[0;31m     \u001b[0mi\u001b[0m \u001b[0;34m=\u001b[0m \u001b[0;36m1\u001b[0m \u001b[0;34m/\u001b[0m \u001b[0my\u001b[0m\u001b[0;34m\u001b[0m\u001b[0m\n\u001b[0m\u001b[1;32m     13\u001b[0m     \u001b[0;32mreturn\u001b[0m \u001b[0mmoltiplica\u001b[0m\u001b[0;34m(\u001b[0m\u001b[0mx\u001b[0m\u001b[0;34m,\u001b[0m \u001b[0mi\u001b[0m\u001b[0;34m)\u001b[0m\u001b[0;34m\u001b[0m\u001b[0m\n\u001b[1;32m     14\u001b[0m \u001b[0;34m\u001b[0m\u001b[0m\n",
      "\u001b[0;31mZeroDivisionError\u001b[0m: division by zero"
     ]
    }
   ],
   "source": [
    "dividi(3, 0)"
   ]
  },
  {
   "cell_type": "code",
   "execution_count": 43,
   "metadata": {
    "slideshow": {
     "slide_type": "slide"
    }
   },
   "outputs": [
    {
     "ename": "ZeroDivisionError",
     "evalue": "float division by zero",
     "output_type": "error",
     "traceback": [
      "\u001b[0;31m---------------------------------------------------------------------------\u001b[0m",
      "\u001b[0;31mZeroDivisionError\u001b[0m                         Traceback (most recent call last)",
      "\u001b[0;32m<ipython-input-43-230043917b05>\u001b[0m in \u001b[0;36m<module>\u001b[0;34m()\u001b[0m\n\u001b[0;32m----> 1\u001b[0;31m \u001b[0mdividi\u001b[0m\u001b[0;34m(\u001b[0m\u001b[0;36m5\u001b[0m\u001b[0;34m,\u001b[0m \u001b[0;36m2\u001b[0m\u001b[0;34m)\u001b[0m\u001b[0;34m\u001b[0m\u001b[0m\n\u001b[0m",
      "\u001b[0;32m<ipython-input-41-7c085e2b4c97>\u001b[0m in \u001b[0;36mdividi\u001b[0;34m(x, y)\u001b[0m\n\u001b[1;32m     11\u001b[0m \u001b[0;32mdef\u001b[0m \u001b[0mdividi\u001b[0m\u001b[0;34m(\u001b[0m\u001b[0mx\u001b[0m\u001b[0;34m,\u001b[0m \u001b[0my\u001b[0m\u001b[0;34m)\u001b[0m\u001b[0;34m:\u001b[0m\u001b[0;34m\u001b[0m\u001b[0m\n\u001b[1;32m     12\u001b[0m     \u001b[0mi\u001b[0m \u001b[0;34m=\u001b[0m \u001b[0;36m1\u001b[0m \u001b[0;34m/\u001b[0m \u001b[0my\u001b[0m\u001b[0;34m\u001b[0m\u001b[0m\n\u001b[0;32m---> 13\u001b[0;31m     \u001b[0;32mreturn\u001b[0m \u001b[0mmoltiplica\u001b[0m\u001b[0;34m(\u001b[0m\u001b[0mx\u001b[0m\u001b[0;34m,\u001b[0m \u001b[0mi\u001b[0m\u001b[0;34m)\u001b[0m\u001b[0;34m\u001b[0m\u001b[0m\n\u001b[0m\u001b[1;32m     14\u001b[0m \u001b[0;34m\u001b[0m\u001b[0m\n\u001b[1;32m     15\u001b[0m \u001b[0mx\u001b[0m \u001b[0;34m=\u001b[0m \u001b[0mdividi\u001b[0m\u001b[0;34m(\u001b[0m\u001b[0;36m3\u001b[0m\u001b[0;34m,\u001b[0m \u001b[0;36m2\u001b[0m\u001b[0;34m)\u001b[0m\u001b[0;34m\u001b[0m\u001b[0m\n",
      "\u001b[0;32m<ipython-input-41-7c085e2b4c97>\u001b[0m in \u001b[0;36mmoltiplica\u001b[0;34m(x, y)\u001b[0m\n\u001b[1;32m      6\u001b[0m     \u001b[0mt\u001b[0m \u001b[0;34m=\u001b[0m \u001b[0;36m0\u001b[0m\u001b[0;34m\u001b[0m\u001b[0m\n\u001b[1;32m      7\u001b[0m     \u001b[0;32mfor\u001b[0m \u001b[0mi\u001b[0m \u001b[0;32min\u001b[0m \u001b[0mrange\u001b[0m\u001b[0;34m(\u001b[0m\u001b[0;36m0\u001b[0m\u001b[0;34m,\u001b[0m \u001b[0mx\u001b[0m\u001b[0;34m)\u001b[0m\u001b[0;34m:\u001b[0m\u001b[0;34m\u001b[0m\u001b[0m\n\u001b[0;32m----> 8\u001b[0;31m         \u001b[0mt\u001b[0m \u001b[0;34m=\u001b[0m \u001b[0msomma\u001b[0m\u001b[0;34m(\u001b[0m\u001b[0mt\u001b[0m\u001b[0;34m,\u001b[0m \u001b[0my\u001b[0m\u001b[0;34m)\u001b[0m\u001b[0;34m\u001b[0m\u001b[0m\n\u001b[0m\u001b[1;32m      9\u001b[0m     \u001b[0;32mreturn\u001b[0m \u001b[0mt\u001b[0m\u001b[0;34m\u001b[0m\u001b[0m\n\u001b[1;32m     10\u001b[0m \u001b[0;34m\u001b[0m\u001b[0m\n",
      "\u001b[0;32m<ipython-input-41-7c085e2b4c97>\u001b[0m in \u001b[0;36msomma\u001b[0;34m(x, y)\u001b[0m\n\u001b[1;32m      1\u001b[0m \u001b[0;32mdef\u001b[0m \u001b[0msomma\u001b[0m\u001b[0;34m(\u001b[0m\u001b[0mx\u001b[0m\u001b[0;34m,\u001b[0m \u001b[0my\u001b[0m\u001b[0;34m)\u001b[0m\u001b[0;34m:\u001b[0m\u001b[0;34m\u001b[0m\u001b[0m\n\u001b[0;32m----> 2\u001b[0;31m     \u001b[0ms\u001b[0m \u001b[0;34m=\u001b[0m \u001b[0mx\u001b[0m \u001b[0;34m+\u001b[0m \u001b[0my\u001b[0m \u001b[0;34m+\u001b[0m \u001b[0;34m(\u001b[0m\u001b[0mx\u001b[0m\u001b[0;34m-\u001b[0m\u001b[0;36m2\u001b[0m\u001b[0;34m)\u001b[0m\u001b[0;34m/\u001b[0m\u001b[0;34m(\u001b[0m\u001b[0mx\u001b[0m\u001b[0;34m-\u001b[0m\u001b[0;36m2\u001b[0m\u001b[0;34m)\u001b[0m \u001b[0;34m-\u001b[0m \u001b[0;36m1\u001b[0m\u001b[0;34m\u001b[0m\u001b[0m\n\u001b[0m\u001b[1;32m      3\u001b[0m     \u001b[0;32mreturn\u001b[0m \u001b[0ms\u001b[0m\u001b[0;34m\u001b[0m\u001b[0m\n\u001b[1;32m      4\u001b[0m \u001b[0;34m\u001b[0m\u001b[0m\n\u001b[1;32m      5\u001b[0m \u001b[0;32mdef\u001b[0m \u001b[0mmoltiplica\u001b[0m\u001b[0;34m(\u001b[0m\u001b[0mx\u001b[0m\u001b[0;34m,\u001b[0m \u001b[0my\u001b[0m\u001b[0;34m)\u001b[0m\u001b[0;34m:\u001b[0m\u001b[0;34m\u001b[0m\u001b[0m\n",
      "\u001b[0;31mZeroDivisionError\u001b[0m: float division by zero"
     ]
    }
   ],
   "source": [
    "dividi(5, 2)"
   ]
  },
  {
   "cell_type": "markdown",
   "metadata": {
    "slideshow": {
     "slide_type": "slide"
    }
   },
   "source": [
    "### Gestire le eccezioni\n",
    "\n",
    "Le eccezioni possono essere catturate e gestitite utilzzando il costrutto **try / except**."
   ]
  },
  {
   "cell_type": "code",
   "execution_count": 82,
   "metadata": {
    "slideshow": {
     "slide_type": "fragment"
    }
   },
   "outputs": [
    {
     "name": "stdout",
     "output_type": "stream",
     "text": [
      "Iterazione n.1: t = 0.5\n",
      "Iterazione n.2: t = 1.0\n",
      "Iterazione n.3: t = 1.5\n",
      "Iterazione n.4: t = 2.0\n",
      "La funzione somma va in errore per x = 2.0\n",
      "Iterazione n.5: t = 2.5\n",
      "dividi(5, 2) = 2.5\n"
     ]
    }
   ],
   "source": [
    "# gestione dell'eccezione\n",
    "\n",
    "def moltiplica(x, y):\n",
    "    t = 0\n",
    "    for i in range(0, x):\n",
    "        try:\n",
    "            t = somma(t, y)\n",
    "        except:\n",
    "            print(f'La funzione somma va in errore per x = {t}')\n",
    "            t = t + y\n",
    "        finally:\n",
    "            print(f'Iterazione n.{i+1}: t = {t}')\n",
    "    return t\n",
    "\n",
    "print('dividi(5, 2) =', dividi(5, 2))"
   ]
  },
  {
   "cell_type": "code",
   "execution_count": 45,
   "metadata": {
    "slideshow": {
     "slide_type": "slide"
    }
   },
   "outputs": [
    {
     "name": "stdout",
     "output_type": "stream",
     "text": [
      "Parametri non validi\n",
      "Impossibile eseguire il calcolo: valore troppo grande\n",
      "Errore: 0.0 cannot be raised to a negative power\n",
      "Il risultato è 2350988701644575015937473074444491355637331113544175043017503412556834518909454345703125\n"
     ]
    }
   ],
   "source": [
    "# gestire diverse eccezioni\n",
    "\n",
    "def potenza(x, y):\n",
    "    try:\n",
    "        r = x**y\n",
    "    except TypeError:\n",
    "        print('Parametri non validi')\n",
    "    except OverflowError:\n",
    "        print('Impossibile eseguire il calcolo: valore troppo grande')\n",
    "    except Exception as e:\n",
    "        print(\"Errore:\", e)\n",
    "    else:\n",
    "        print('Il risultato è', r)\n",
    "        \n",
    "potenza(2.1, 'a')\n",
    "potenza(2.1, 999)\n",
    "potenza(0, -1)\n",
    "potenza(5, 125)"
   ]
  },
  {
   "cell_type": "markdown",
   "metadata": {
    "slideshow": {
     "slide_type": "slide"
    }
   },
   "source": [
    "### Sollevare un'eccezione\n",
    "\n",
    "Le eccezioni possono essere sollevate intenzionalmente mediante l'istruzione **raise**."
   ]
  },
  {
   "cell_type": "code",
   "execution_count": 46,
   "metadata": {
    "slideshow": {
     "slide_type": "subslide"
    }
   },
   "outputs": [
    {
     "name": "stdout",
     "output_type": "stream",
     "text": [
      "Il risultato è 2350988701644575015937473074444491355637331113544175043017503412556834518909454345703125\n"
     ]
    }
   ],
   "source": [
    "# lanciare intenzionalmente un'eccezione\n",
    "\n",
    "def potenza(x, y):\n",
    "    accepted_types = {int, float}\n",
    "    if type(x) not in accepted_types:\n",
    "        raise TypeError(f'Parametro non valido: {x}')\n",
    "    if type(y) not in accepted_types:\n",
    "        raise TypeError(f'Parametro non valido: {y}')\n",
    "    \n",
    "    try:\n",
    "        r = x**y\n",
    "    except Exception as e:\n",
    "        print(\"Errore:\", e)\n",
    "    else:\n",
    "        print('Il risultato è', r)\n",
    "\n",
    "potenza(5, 125)"
   ]
  },
  {
   "cell_type": "code",
   "execution_count": 47,
   "metadata": {
    "slideshow": {
     "slide_type": "slide"
    }
   },
   "outputs": [
    {
     "ename": "TypeError",
     "evalue": "Parametro non valido: a",
     "output_type": "error",
     "traceback": [
      "\u001b[0;31m---------------------------------------------------------------------------\u001b[0m",
      "\u001b[0;31mTypeError\u001b[0m                                 Traceback (most recent call last)",
      "\u001b[0;32m<ipython-input-47-2fd0751ead19>\u001b[0m in \u001b[0;36m<module>\u001b[0;34m()\u001b[0m\n\u001b[0;32m----> 1\u001b[0;31m \u001b[0mpotenza\u001b[0m\u001b[0;34m(\u001b[0m\u001b[0;36m2.1\u001b[0m\u001b[0;34m,\u001b[0m \u001b[0;34m'a'\u001b[0m\u001b[0;34m)\u001b[0m\u001b[0;34m\u001b[0m\u001b[0m\n\u001b[0m",
      "\u001b[0;32m<ipython-input-46-cbb0486df26b>\u001b[0m in \u001b[0;36mpotenza\u001b[0;34m(x, y)\u001b[0m\n\u001b[1;32m      6\u001b[0m         \u001b[0;32mraise\u001b[0m \u001b[0mTypeError\u001b[0m\u001b[0;34m(\u001b[0m\u001b[0;34mf'Parametro non valido: {x}'\u001b[0m\u001b[0;34m)\u001b[0m\u001b[0;34m\u001b[0m\u001b[0m\n\u001b[1;32m      7\u001b[0m     \u001b[0;32mif\u001b[0m \u001b[0mtype\u001b[0m\u001b[0;34m(\u001b[0m\u001b[0my\u001b[0m\u001b[0;34m)\u001b[0m \u001b[0;32mnot\u001b[0m \u001b[0;32min\u001b[0m \u001b[0maccepted_types\u001b[0m\u001b[0;34m:\u001b[0m\u001b[0;34m\u001b[0m\u001b[0m\n\u001b[0;32m----> 8\u001b[0;31m         \u001b[0;32mraise\u001b[0m \u001b[0mTypeError\u001b[0m\u001b[0;34m(\u001b[0m\u001b[0;34mf'Parametro non valido: {y}'\u001b[0m\u001b[0;34m)\u001b[0m\u001b[0;34m\u001b[0m\u001b[0m\n\u001b[0m\u001b[1;32m      9\u001b[0m \u001b[0;34m\u001b[0m\u001b[0m\n\u001b[1;32m     10\u001b[0m     \u001b[0;32mtry\u001b[0m\u001b[0;34m:\u001b[0m\u001b[0;34m\u001b[0m\u001b[0m\n",
      "\u001b[0;31mTypeError\u001b[0m: Parametro non valido: a"
     ]
    }
   ],
   "source": [
    "potenza(2.1, 'a')"
   ]
  },
  {
   "cell_type": "markdown",
   "metadata": {
    "collapsed": true,
    "slideshow": {
     "slide_type": "slide"
    }
   },
   "source": [
    "## Gestione dei file\n",
    "\n",
    "Per interagire col file system python fornisce la funzione `open` che consente di accedere a un file secondo diverse modalità:\n",
    "\n",
    "<table align=\"left\">\n",
    "<tr>\n",
    "<th style=\"text-align: left\">Modalità</th>\n",
    "<th style=\"text-align: left\">Descrizione</th>\n",
    "</tr>\n",
    "<tr>\n",
    "<td style=\"text-align: left\"><code>'r'</code></td>\n",
    "<td style=\"text-align: left\">Apre un file di testo in lettura. Modo di apertura di default dei file.</td>\n",
    "</tr>\n",
    "<tr>\n",
    "<td style=\"text-align: left\"><code>'w'</code></td>\n",
    "<td style=\"text-align: left\">Apre un file di testo in scrittura.  Se il file non esiste lo crea, altrimenti ne cancella il contenuto.</td>\n",
    "</tr>\n",
    "<tr>\n",
    "<td style=\"text-align: left\"><code>'a'</code></td>\n",
    "<td style=\"text-align: left\">Apre un file di testo in <em>append</em>.  Il contenuto viene scritto alla fine del file, senza modificare il contenuto esistente.</td>\n",
    "</tr>\n",
    "<tr>\n",
    "<td style=\"text-align: left\"><code>'x'</code></td>\n",
    "<td style=\"text-align: left\">Apre un file di testo in creazione esclusiva.  Se il file non esiste, restituisce un errore, altrimenti apre in scrittura cancellandone il contenuto.</td>\n",
    "</tr>\n",
    "<tr>\n",
    "<td style=\"text-align: left\"><code>'r+'</code></td>\n",
    "<td style=\"text-align: left\">Apre un file di testo in modifica. Permette di leggere e scrivere.</td>\n",
    "</tr>\n",
    "<tr>\n",
    "<td style=\"text-align: left\"><code>'w+'</code></td>\n",
    "<td style=\"text-align: left\">Apre un file di testo in modifica.  Permette di leggere e scrivere e cancella il contenuto del file.</td>\n",
    "</tr>\n",
    "</table> "
   ]
  },
  {
   "cell_type": "markdown",
   "metadata": {
    "slideshow": {
     "slide_type": "slide"
    }
   },
   "source": [
    "Queste modalità valgono per i file di testo. Per i file binari per ciascuna modalità bisogna aggiungere la lettera *b* alla fine.\n",
    "\n",
    "La funzione `open` restituisce un oggetto file che ci consente di eseguire le funzioni per accedere ai dati contenuti e modificarli."
   ]
  },
  {
   "cell_type": "markdown",
   "metadata": {
    "collapsed": true,
    "slideshow": {
     "slide_type": "slide"
    }
   },
   "source": [
    "<table align=\"left\">\n",
    "<tr>\n",
    "<th style=\"text-align: left\">Metodo</th>\n",
    "<th style=\"text-align: left\">Descrizione</th>\n",
    "</tr>\n",
    "<tr>\n",
    "<td style=\"text-align: left\"><code>file.read()</code></td>\n",
    "<td style=\"text-align: left\">Legge e restituisce l’intero contenuto del file come una singola stringa.</td>\n",
    "</tr>\n",
    "<tr>\n",
    "<td style=\"text-align: left\"><code>file.read(n)</code></td>\n",
    "<td style=\"text-align: left\">Legge e restituisce <code>n</code> caratteri (o byte).</td>\n",
    "</tr>\n",
    "<tr>\n",
    "<td style=\"text-align: left\"><code>file.readline()</code></td>\n",
    "<td style=\"text-align: left\">Legge e restituisce una riga del file.</td>\n",
    "</tr>\n",
    "<tr>\n",
    "<td style=\"text-align: left\"><code>file.readlines()</code></td>\n",
    "<td style=\"text-align: left\">Legge e restuisce l’intero contenuto del file come lista di righe (stringhe).</td>\n",
    "</tr>\n",
    "<tr>\n",
    "<td style=\"text-align: left\"><code>file.write(s)</code></td>\n",
    "<td style=\"text-align: left\">Scrive nel file la stringa <code>s</code> e ritorna il numero di caratteri (o byte) scritti.</td>\n",
    "</tr>\n",
    "<tr>\n",
    "<td style=\"text-align: left\"><code>file.writelines(lines)</code></td>\n",
    "<td style=\"text-align: left\">Scrive nel file la lista in righe <code>lines</code>.</td>\n",
    "</tr>\n",
    "<tr>\n",
    "<td style=\"text-align: left\"><code>file.tell()</code></td>\n",
    "<td style=\"text-align: left\">Restituisce la posizione corrente memorizzata dal file object.</td>\n",
    "</tr>\n",
    "<tr>\n",
    "<td style=\"text-align: left\"><code>file.seek(offset)</code></td>\n",
    "<td style=\"text-align: left\">Modifica la posizione corrente memorizzata dal file object.</td>\n",
    "</tr>\n",
    "<tr>\n",
    "<td style=\"text-align: left\"><code>file.close()</code></td>\n",
    "<td style=\"text-align: left\">Chiude il file.</td>\n",
    "</tr>\n",
    "</table>"
   ]
  },
  {
   "cell_type": "markdown",
   "metadata": {
    "slideshow": {
     "slide_type": "slide"
    }
   },
   "source": [
    "Vediamo alcuni esempi con un file avente il seguente contenuto:\n",
    "\n",
    "```\n",
    "riga1\n",
    "riga2\n",
    "riga3\n",
    "```"
   ]
  },
  {
   "cell_type": "code",
   "execution_count": 57,
   "metadata": {
    "slideshow": {
     "slide_type": "slide"
    }
   },
   "outputs": [
    {
     "name": "stdout",
     "output_type": "stream",
     "text": [
      "riga2\n",
      "\n"
     ]
    }
   ],
   "source": [
    "# lettura di una riga\n",
    "\n",
    "f1 = open('data/file1.txt', 'r')\n",
    "\n",
    "r1 = f1.readline()\n",
    "r2 = f1.readline()\n",
    "f1.close() # il file va sempre chiuso!\n",
    "\n",
    "print(r2)"
   ]
  },
  {
   "cell_type": "code",
   "execution_count": 59,
   "metadata": {
    "slideshow": {
     "slide_type": "slide"
    }
   },
   "outputs": [
    {
     "name": "stdout",
     "output_type": "stream",
     "text": [
      "riga1\n",
      "\n",
      "riga2\n",
      "\n",
      "riga3\n",
      "\n"
     ]
    }
   ],
   "source": [
    "# lettura dell'intero file 1\n",
    "\n",
    "f1 = open('data/file1.txt', 'r')\n",
    "for riga in f1:\n",
    "    print(riga)\n",
    "f1.close() # il file va sempre chiuso!"
   ]
  },
  {
   "cell_type": "code",
   "execution_count": 60,
   "metadata": {
    "slideshow": {
     "slide_type": "slide"
    }
   },
   "outputs": [
    {
     "name": "stdout",
     "output_type": "stream",
     "text": [
      "['riga1\\n', 'riga2\\n', 'riga3\\n']\n"
     ]
    }
   ],
   "source": [
    "# lettura dell'intero file 2\n",
    "\n",
    "f1 = open('data/file1.txt', 'r')\n",
    "righe = f1.readlines()\n",
    "f1.close() # il file va sempre chiuso!\n",
    "\n",
    "print(righe)"
   ]
  },
  {
   "cell_type": "code",
   "execution_count": 61,
   "metadata": {
    "slideshow": {
     "slide_type": "slide"
    }
   },
   "outputs": [
    {
     "name": "stdout",
     "output_type": "stream",
     "text": [
      "-riga2-\n"
     ]
    }
   ],
   "source": [
    "# posizionamento e lettura di alcuni caratteri\n",
    "\n",
    "f1 = open('data/file1.txt', 'r')\n",
    "f1.seek(6)\n",
    "txt = f1.read(5)\n",
    "f1.close() # il file va sempre chiuso!\n",
    "\n",
    "print(f'-{txt}-')"
   ]
  },
  {
   "cell_type": "code",
   "execution_count": 62,
   "metadata": {
    "slideshow": {
     "slide_type": "slide"
    }
   },
   "outputs": [
    {
     "name": "stdout",
     "output_type": "stream",
     "text": [
      "riga1\n",
      "riga2\n",
      "riga3\n",
      "riga4\n",
      "\n"
     ]
    }
   ],
   "source": [
    "# scrittura in coda\n",
    "\n",
    "f1 = open('data/file1.txt', 'a')\n",
    "f1.write('riga4\\n')\n",
    "f1.close() # il file va sempre chiuso!\n",
    "\n",
    "f1 = open('data/file1.txt', 'r')\n",
    "print(f1.read())\n",
    "f1.close() # il file va sempre chiuso!"
   ]
  },
  {
   "cell_type": "code",
   "execution_count": 64,
   "metadata": {
    "slideshow": {
     "slide_type": "slide"
    }
   },
   "outputs": [
    {
     "name": "stdout",
     "output_type": "stream",
     "text": [
      "riga1\n",
      "riga2\n",
      "riga3\n",
      "\n"
     ]
    }
   ],
   "source": [
    "# ripristiniamo il file iniziale\n",
    "\n",
    "f1 = open('data/file1.txt', 'w+')\n",
    "f1.writelines(righe)\n",
    "f1.seek(0)\n",
    "print(f1.read())\n",
    "f1.close() # il file va sempre chiuso!"
   ]
  },
  {
   "cell_type": "markdown",
   "metadata": {
    "slideshow": {
     "slide_type": "slide"
    }
   },
   "source": [
    "Che succede se si verificano errori prima di chiudere il file?\n",
    "Per gestire la cosa in maniera pulita bisognerebbe gestire le eccezioni, ad esempio:"
   ]
  },
  {
   "cell_type": "code",
   "execution_count": 65,
   "metadata": {
    "collapsed": true,
    "slideshow": {
     "slide_type": "fragment"
    }
   },
   "outputs": [],
   "source": [
    "def elab_file(f):\n",
    "    # ...\n",
    "    return\n",
    "\n",
    "f1 = open('data/file1.txt', 'r')\n",
    "try:\n",
    "    elab_file(f1)\n",
    "except Exception as e:\n",
    "    print(\"Errore:\", e)\n",
    "finally:\n",
    "    f1.close()"
   ]
  },
  {
   "cell_type": "markdown",
   "metadata": {
    "slideshow": {
     "slide_type": "slide"
    }
   },
   "source": [
    "## Il costrutto *with*\n",
    "\n",
    "Per risolvere i problemi analoghi a quelli della chiusura del file, python mette a disposizione il costrutto `with`. Con tale costrutto è possibile gestire gli oggetti (come il file) che richiedono l'esecuzione di determinate operazioni all'inizio e/o alla fine del loro utilizzo (`file.close`)."
   ]
  },
  {
   "cell_type": "code",
   "execution_count": 66,
   "metadata": {
    "collapsed": true,
    "slideshow": {
     "slide_type": "fragment"
    }
   },
   "outputs": [],
   "source": [
    "with open('data/file1.txt', 'r') as f1:\n",
    "    elab_file(f1)"
   ]
  },
  {
   "cell_type": "markdown",
   "metadata": {
    "slideshow": {
     "slide_type": "fragment"
    }
   },
   "source": [
    "Immediatamente dopo l'apertura del file sarà eseguito il metodo interno `f1.__enter__()` (che nel caso del file non fa niente); mentre dopo l'esecuzione del blocco di codice, anche in presenza di errori, sarà eseguito il metodo interno `f1.__exit__()` (che chiama il metodo `f1.close()`)."
   ]
  },
  {
   "cell_type": "markdown",
   "metadata": {
    "collapsed": true,
    "slideshow": {
     "slide_type": "slide"
    }
   },
   "source": [
    "## Programmazione a oggetti - cenni\n",
    "\n",
    "A differenza della classica programmazione procedurale in cui gli elementi organizzativi sono procedure e funzioni, nella programmazione ad oggetti gli elementi organizzativi principali sono gli oggetti. Nell'oggetto confluiscono dati e funzioni che invece nella programmazione procedurale sono separati.\n",
    "\n",
    "\n",
    "I dati di un oggetto sono memorizzati nelle sue *proprietà* e costituiscono lo *stato * dell'oggetto. L'insieme delle funzioni di un oggetto, dette *metodi*, ne definiscono invece il *comportamento*."
   ]
  },
  {
   "cell_type": "code",
   "execution_count": 67,
   "metadata": {
    "slideshow": {
     "slide_type": "slide"
    }
   },
   "outputs": [
    {
     "name": "stdout",
     "output_type": "stream",
     "text": [
      "Area cerchio = 314.1592653589793\n",
      "Circonferenza cerchio = 62.83185307179586\n"
     ]
    }
   ],
   "source": [
    "# versione procedurale\n",
    "\n",
    "def area_cerchio(r):\n",
    "    return r**2 * math.pi\n",
    "\n",
    "def circonferenza_cerchio(r):\n",
    "    return 2 * r * math.pi\n",
    "\n",
    "raggio = 10\n",
    "a = area_cerchio(raggio)\n",
    "c = circonferenza_cerchio(raggio)\n",
    "\n",
    "print('Area cerchio =', a)\n",
    "print('Circonferenza cerchio =', c)"
   ]
  },
  {
   "cell_type": "code",
   "execution_count": 68,
   "metadata": {
    "slideshow": {
     "slide_type": "slide"
    }
   },
   "outputs": [
    {
     "name": "stdout",
     "output_type": "stream",
     "text": [
      "Raggio cerchio = 10\n",
      "Area cerchio = 314.1592653589793\n",
      "Circonferenza cerchio = 62.83185307179586\n"
     ]
    }
   ],
   "source": [
    "# versione a oggetti\n",
    "\n",
    "class Cerchio: \n",
    "    \n",
    "    def __init__(self, r):\n",
    "        self.raggio = r\n",
    "        \n",
    "    def area(self):\n",
    "        return self.raggio**2 * math.pi\n",
    "\n",
    "    def circonferenza(self):\n",
    "        return 2 * self.raggio * math.pi\n",
    "\n",
    "mio_cerchio = Cerchio(10) \n",
    "a = mio_cerchio.area();\n",
    "c = mio_cerchio.circonferenza()\n",
    "\n",
    "print('Raggio cerchio =', mio_cerchio.raggio)\n",
    "print('Area cerchio =', a)\n",
    "print('Circonferenza cerchio =', c)"
   ]
  },
  {
   "cell_type": "code",
   "execution_count": 1,
   "metadata": {
    "slideshow": {
     "slide_type": "slide"
    }
   },
   "outputs": [],
   "source": [
    "class Veicolo:\n",
    "    def __init__(self, ruote):\n",
    "        self.ruote = ruote\n",
    "        self.velocita = 0\n",
    "        \n",
    "    def fermo(self):\n",
    "        return self.velocita==0\n",
    "        \n",
    "    def parti(self, velocita=1):\n",
    "        if self.fermo():\n",
    "            self.velocita = velocita\n",
    "            \n",
    "    def fermati(self):\n",
    "        self.velocita = 0\n",
    "        \n",
    "    def accelera(self, velocita):\n",
    "        if velocita <= 0:\n",
    "            raise ValueError(\"La velocità dev'essere maggiore di zero\")\n",
    "\n",
    "        if not self.fermo():\n",
    "            self.velocita += velocita\n",
    "        \n",
    "    def rallenta(self, velocita):\n",
    "        if velocita <= 0:\n",
    "            raise ValueError(\"La velocità dev'essere maggiore di zero\") \n",
    "            \n",
    "        if not self.fermo() and self.velocita - velocita <= 0:\n",
    "            self.fermati()\n",
    "        else:\n",
    "            self.velocita -= velocita"
   ]
  },
  {
   "cell_type": "code",
   "execution_count": 2,
   "metadata": {
    "slideshow": {
     "slide_type": "slide"
    }
   },
   "outputs": [
    {
     "name": "stdout",
     "output_type": "stream",
     "text": [
      "Il veicolo apecar ha 3 ruote\n",
      "L'apecar è fermo\n",
      "La velocità dell'apecar è ora 1\n",
      "La velocità dell'apecar è ora 21\n",
      "L'apecar è fermo\n"
     ]
    }
   ],
   "source": [
    "apecar = Veicolo(3)\n",
    "print(f'Il veicolo apecar ha {apecar.ruote} ruote')\n",
    "print(f\"L'apecar {'è fermo' if apecar.fermo() else 'si muove'}\")\n",
    "\n",
    "apecar.parti()\n",
    "print(\"La velocità dell'apecar è ora\", apecar.velocita)\n",
    "\n",
    "apecar.accelera(20)\n",
    "print(\"La velocità dell'apecar è ora\", apecar.velocita)\n",
    "\n",
    "apecar.rallenta(25)\n",
    "print(f\"L'apecar {'è fermo' if apecar.fermo() else 'si muove'}\")"
   ]
  },
  {
   "cell_type": "markdown",
   "metadata": {
    "slideshow": {
     "slide_type": "slide"
    }
   },
   "source": [
    "## Duck typing\n",
    "\n",
    "> \"Se sembra un'anatra, nuota come un'anatra e starnazza come un'anatra,<br>\n",
    "allora probabilmente è un'anatra!\"\n",
    "\n",
    "In Python i tipi sono inferiti dinamicamente, cioè dedotti dal contesto a runtime (*tipizzazione dinamica*). Inoltre i tipi delle variabili possono cambiare durante l'esecuzione del programma (*tipizzazione dinamica debole*).\n",
    "\n",
    "Per *duck typing* si intende che la semantica di un oggetto è determinata dal suo comportamento e dalle sue proprietà non dal fatto di appartenere a una certa classe."
   ]
  },
  {
   "cell_type": "code",
   "execution_count": 70,
   "metadata": {
    "collapsed": true,
    "slideshow": {
     "slide_type": "slide"
    }
   },
   "outputs": [],
   "source": [
    "class Anatra:\n",
    "    def cammina(self):\n",
    "        print(\"Anatra che cammina\")\n",
    "    def nuota(self):\n",
    "        print(\"Anatra che nuota\")\n",
    "    def starnazza(self):\n",
    "        print(\"Anatra che fa quack!\")\n",
    "        \n",
    "class Persona:\n",
    "    def cammina(self):\n",
    "        print(\"Persona che imita un'anatra che cammina\")\n",
    "    def nuota(self):\n",
    "        print(\"Persona che imita un'anatra che nuota\")\n",
    "    def starnazza(self):\n",
    "        print(\"Persona che imita un'anatra che fa quack!\")"
   ]
  },
  {
   "cell_type": "code",
   "execution_count": 71,
   "metadata": {
    "slideshow": {
     "slide_type": "slide"
    }
   },
   "outputs": [
    {
     "name": "stdout",
     "output_type": "stream",
     "text": [
      "Anatra che cammina\n",
      "Anatra che nuota\n",
      "Anatra che fa quack!\n",
      "Persona che imita un'anatra che cammina\n",
      "Persona che imita un'anatra che nuota\n",
      "Persona che imita un'anatra che fa quack!\n"
     ]
    }
   ],
   "source": [
    "def vai_anatra(a):\n",
    "    a.cammina()\n",
    "    a.nuota()\n",
    "    a.starnazza()\n",
    "\n",
    "x = Anatra()\n",
    "vai_anatra(x)\n",
    "\n",
    "x = Persona()\n",
    "vai_anatra(x)"
   ]
  },
  {
   "cell_type": "markdown",
   "metadata": {
    "slideshow": {
     "slide_type": "slide"
    }
   },
   "source": [
    "## I moduli\n",
    "\n",
    "Il modulo è un insieme costanti, funzioni e classi raggruppati in un file. I moduli consentono di suddividere e organizzare meglio il codice.\n",
    "\n",
    "Python include già un'ampia lista di moduli standard (python standard library), ma è anche possibile scaricarne o definirne di nuovi. Ad esempio uno dei moduli standard è il modulo `math` che contiene diverse costanti e funzioni matematiche.\n",
    "\n",
    "Tutti i moduli disponibili nella libreria standard sono descritti nella [documentazione ufficiale](https://docs.python.org/3.7/library/index.html).\n",
    "\n",
    "Per poter uitilizzare gli elementi contenuti in un certo modulo è necessario *importarlo*."
   ]
  },
  {
   "cell_type": "code",
   "execution_count": 72,
   "metadata": {
    "slideshow": {
     "slide_type": "fragment"
    }
   },
   "outputs": [
    {
     "name": "stdout",
     "output_type": "stream",
     "text": [
      "Pi greco vale 3.141592653589793\n",
      "Il seno di 90 gradi è 1.0\n"
     ]
    }
   ],
   "source": [
    "import math\n",
    "\n",
    "print('Pi greco vale', math.pi)\n",
    "print('Il seno di 90 gradi è', math.sin(math.pi/2))"
   ]
  },
  {
   "cell_type": "markdown",
   "metadata": {
    "slideshow": {
     "slide_type": "slide"
    }
   },
   "source": [
    "Si possono anche importare solo i nomi che interessano e usarli direttamente. "
   ]
  },
  {
   "cell_type": "code",
   "execution_count": 73,
   "metadata": {
    "slideshow": {
     "slide_type": "fragment"
    }
   },
   "outputs": [
    {
     "name": "stdout",
     "output_type": "stream",
     "text": [
      "La radice quadrata di 16 è 4.0\n"
     ]
    }
   ],
   "source": [
    "from math import sqrt\n",
    "\n",
    "print('La radice quadrata di 16 è', sqrt(16))"
   ]
  },
  {
   "cell_type": "markdown",
   "metadata": {
    "slideshow": {
     "slide_type": "slide"
    }
   },
   "source": [
    "Si può rinominare ciò che si importa per evitare conflitti di nomi o semplicemente per comodità."
   ]
  },
  {
   "cell_type": "code",
   "execution_count": 74,
   "metadata": {
    "slideshow": {
     "slide_type": "fragment"
    }
   },
   "outputs": [
    {
     "name": "stdout",
     "output_type": "stream",
     "text": [
      "Oggi è il 11-02-2021\n"
     ]
    }
   ],
   "source": [
    "import datetime as dt\n",
    "\n",
    "print('Oggi è il', dt.date.today().strftime('%d-%m-%Y'))"
   ]
  },
  {
   "cell_type": "markdown",
   "metadata": {
    "slideshow": {
     "slide_type": "slide"
    }
   },
   "source": [
    "Per ottenere tutti i nomi definiti in un modulo si può usare il comando `dir`."
   ]
  },
  {
   "cell_type": "code",
   "execution_count": 75,
   "metadata": {
    "slideshow": {
     "slide_type": "fragment"
    }
   },
   "outputs": [
    {
     "data": {
      "text/plain": [
       "['MAXYEAR',\n",
       " 'MINYEAR',\n",
       " '__builtins__',\n",
       " '__cached__',\n",
       " '__doc__',\n",
       " '__file__',\n",
       " '__loader__',\n",
       " '__name__',\n",
       " '__package__',\n",
       " '__spec__',\n",
       " 'date',\n",
       " 'datetime',\n",
       " 'datetime_CAPI',\n",
       " 'time',\n",
       " 'timedelta',\n",
       " 'timezone',\n",
       " 'tzinfo']"
      ]
     },
     "execution_count": 75,
     "metadata": {},
     "output_type": "execute_result"
    }
   ],
   "source": [
    "dir(dt)"
   ]
  },
  {
   "cell_type": "markdown",
   "metadata": {
    "slideshow": {
     "slide_type": "slide"
    }
   },
   "source": [
    "Se i nomi non sono molti e non vanno in conflitto, si possono importare tutti i nomi *visibili* (cioè che non iniziano con `_` ) di un modulo. Ad esempio:"
   ]
  },
  {
   "cell_type": "code",
   "execution_count": 76,
   "metadata": {
    "slideshow": {
     "slide_type": "fragment"
    }
   },
   "outputs": [
    {
     "name": "stdout",
     "output_type": "stream",
     "text": [
      "Domani è il 12-02-2021\n"
     ]
    }
   ],
   "source": [
    "from datetime import *\n",
    "\n",
    "domani = date.today() + timedelta(days=1)\n",
    "print('Domani è il', domani.strftime('%d-%m-%Y'))"
   ]
  },
  {
   "cell_type": "markdown",
   "metadata": {
    "slideshow": {
     "slide_type": "fragment"
    }
   },
   "source": [
    "`dir()` senza parametri mostra i nomi visibili dallo script/modulo corrente."
   ]
  },
  {
   "cell_type": "markdown",
   "metadata": {
    "slideshow": {
     "slide_type": "slide"
    }
   },
   "source": [
    "### Creare un nuovo modulo\n",
    "\n",
    "Per creare un nuovo modulo è sufficiente definire gli elementi che lo costituiscono (costanti, funzioni e oggetti) all'interno di uno stesso file di testo e salvarlo col nome *&lt;nome_modulo&gt;.py*.\n",
    "\n",
    "Affinchè un modulo (non facente parte di un *package*) sia individuabile dall'interprete python e *importabile* il percorso della cartella che lo contiene deve trovarsi nella variabile d'ambiente *PYTHONPATH* opure il modulo deve trovarsi nella directory corrente.\n",
    "\n",
    "Non c'è nessuna distinzione, se non quella logica, tra un modulo e un file contenente del codice python che si vuole eseguire."
   ]
  },
  {
   "cell_type": "markdown",
   "metadata": {
    "slideshow": {
     "slide_type": "slide"
    }
   },
   "source": [
    "## I package\n",
    "\n",
    "Un *package* python è una raccolta di moduli organizzati in maniera gerarchica a partire (quasi sempre) da una stessa cartella del filesystem. La cartella e le eventuali sottocartelle appartenenti al *package* devono contenere oltre ai moduli il file `__init__.py` (anche vuoto).\n",
    "\n",
    "Tale file è destinato a contenere l'eventuale codice di inizializzazione del package o la semplice definizione della variabile speciale `__ALL__`.\n",
    "\n",
    "Questa variabile è una sequenza contenente la lista dei nomi definiti all'interno dei moduli del package ed visibili all'esterno.\n",
    "\n",
    "Se la variabile `__ALL__` non è definita tutti i nomi che non iniziano per `'_'` risultano visibili.\n",
    "\n",
    "Affinchè un package (con tutti i suoi moduli) sia individuabile dall'interprete python e *importabile* il percorso della cartella che lo contiene deve trovarsi nella variabile d'ambiente *PYTHONPATH* oppure il package deve trovarsi nella directory corrente."
   ]
  },
  {
   "cell_type": "markdown",
   "metadata": {
    "slideshow": {
     "slide_type": "slide"
    }
   },
   "source": [
    "### Esempio di struttura di un package\n",
    "\n",
    "<br>\n",
    "\n",
    "```\n",
    "miopack/                     Package principale\n",
    "      __init__.py            Inizializza il package miopack\n",
    "      mod1.py\n",
    "      sub1/                  Sottopackage sub1\n",
    "            __init__.py\n",
    "            mod11.py\n",
    "            mod12.py\n",
    "      sub2/                  Sottopackage sub2\n",
    "            __init__.py\n",
    "            mod21.py\n",
    "            mod22.py\n",
    "            mod23.py\n",
    "```"
   ]
  },
  {
   "cell_type": "markdown",
   "metadata": {
    "collapsed": true,
    "slideshow": {
     "slide_type": "slide"
    }
   },
   "source": [
    "## Il Python Package Index e pip\n",
    "\n",
    "Il Python Package Index (`PyPI`) è un repository che contiene decine di migliaia di package scritti in Python. Chiunque può scaricare package esistenti o condividere nuovi package su PyPI. PyPI è anche conosciuto con il nome di Cheese Shop, dallo sketch del cheese shop di Monty Python.\n",
    "\n",
    "È possibile accedere ai package del Python Package Index sia tramite un browser (all’indirizzo https://pypi.org), sia tramite un il comando `pip`.\n",
    "\n",
    "`pip` è un comando che ci consente di cercare, scaricare ed installare package Python che si trovano sul Python Package Index. Il nome è un acronimo ricorsivo, che significa Pip Installs Packages. `pip` ci consente inoltre di gestire i package che abbiamo già scaricato, permettendonci di aggiornarli o rimuoverli."
   ]
  },
  {
   "cell_type": "code",
   "execution_count": 77,
   "metadata": {
    "slideshow": {
     "slide_type": "slide"
    }
   },
   "outputs": [
    {
     "name": "stdout",
     "output_type": "stream",
     "text": [
      "\r\n",
      "Usage:   \r\n",
      "  pip <command> [options]\r\n",
      "\r\n",
      "Commands:\r\n",
      "  install                     Install packages.\r\n",
      "  download                    Download packages.\r\n",
      "  uninstall                   Uninstall packages.\r\n",
      "  freeze                      Output installed packages in requirements format.\r\n",
      "  list                        List installed packages.\r\n",
      "  show                        Show information about installed packages.\r\n",
      "  check                       Verify installed packages have compatible dependencies.\r\n",
      "  config                      Manage local and global configuration.\r\n",
      "  search                      Search PyPI for packages.\r\n",
      "  wheel                       Build wheels from your requirements.\r\n",
      "  hash                        Compute hashes of package archives.\r\n",
      "  completion                  A helper command used for command completion.\r\n",
      "  debug                       Show information useful for debugging.\r\n",
      "  help                        Show help for commands.\r\n",
      "\r\n",
      "General Options:\r\n",
      "  -h, --help                  Show help.\r\n",
      "  --isolated                  Run pip in an isolated mode, ignoring\r\n",
      "                              environment variables and user configuration.\r\n",
      "  -v, --verbose               Give more output. Option is additive, and can be\r\n",
      "                              used up to 3 times.\r\n",
      "  -V, --version               Show version and exit.\r\n",
      "  -q, --quiet                 Give less output. Option is additive, and can be\r\n",
      "                              used up to 3 times (corresponding to WARNING,\r\n",
      "                              ERROR, and CRITICAL logging levels).\r\n",
      "  --log <path>                Path to a verbose appending log.\r\n",
      "  --proxy <proxy>             Specify a proxy in the form\r\n",
      "                              [user:passwd@]proxy.server:port.\r\n",
      "  --retries <retries>         Maximum number of retries each connection should\r\n",
      "                              attempt (default 5 times).\r\n",
      "  --timeout <sec>             Set the socket timeout (default 15 seconds).\r\n",
      "  --exists-action <action>    Default action when a path already exists:\r\n",
      "                              (s)witch, (i)gnore, (w)ipe, (b)ackup, (a)bort.\r\n",
      "  --trusted-host <hostname>   Mark this host or host:port pair as trusted,\r\n",
      "                              even though it does not have valid or any HTTPS.\r\n",
      "  --cert <path>               Path to alternate CA bundle.\r\n",
      "  --client-cert <path>        Path to SSL client certificate, a single file\r\n",
      "                              containing the private key and the certificate\r\n",
      "                              in PEM format.\r\n",
      "  --cache-dir <dir>           Store the cache data in <dir>.\r\n",
      "  --no-cache-dir              Disable the cache.\r\n",
      "  --disable-pip-version-check\r\n",
      "                              Don't periodically check PyPI to determine\r\n",
      "                              whether a new version of pip is available for\r\n",
      "                              download. Implied with --no-index.\r\n",
      "  --no-color                  Suppress colored output\r\n",
      "  --no-python-version-warning\r\n",
      "                              Silence deprecation warnings for upcoming\r\n",
      "                              unsupported Pythons.\r\n"
     ]
    }
   ],
   "source": [
    "!pip help"
   ]
  }
 ],
 "metadata": {
  "celltoolbar": "Slideshow",
  "interpreter": {
   "hash": "34e585552094451cae220991e1ed44caa02093cab9026cc2bf65cee2cb2e025c"
  },
  "kernelspec": {
   "display_name": "Python 3.9.7 64-bit ('python_dev': conda)",
   "name": "python3"
  },
  "language_info": {
   "codemirror_mode": {
    "name": "ipython",
    "version": 3
   },
   "file_extension": ".py",
   "mimetype": "text/x-python",
   "name": "python",
   "nbconvert_exporter": "python",
   "pygments_lexer": "ipython3",
   "version": "3.9.7"
  }
 },
 "nbformat": 4,
 "nbformat_minor": 2
}
