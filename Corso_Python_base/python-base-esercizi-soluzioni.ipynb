{
 "cells": [
  {
   "cell_type": "markdown",
   "metadata": {},
   "source": [
    "# PYTHON BASE - Esercizi\n",
    "\n",
    "### Notebook by\n",
    "\n",
    "**Pietro Corte**<br>\n",
    "Divisione Supporto Informatico (IDE)<br>\n",
    "Dipartimento Economia e Statistica (ECS)<br>\n",
    "mailto: pietro.corte@bancaditalia.it"
   ]
  },
  {
   "cell_type": "markdown",
   "metadata": {},
   "source": [
    "## Python su Osiride\n",
    "\n",
    "Su Osiride è disponibile la [ditribuzione Intel di Python](https://software.intel.com/en-us/distribution-for-python) che è una distribuzione di Python per il calcolo scientifico ottimizzata per i processori Intel."
   ]
  },
  {
   "cell_type": "markdown",
   "metadata": {},
   "source": [
    "### Versioni disponibili"
   ]
  },
  {
   "cell_type": "code",
   "execution_count": 1,
   "metadata": {},
   "outputs": [
    {
     "name": "stdout",
     "output_type": "stream",
     "text": [
      "\r\n",
      "Versioni disponibili di intel Python:\r\n",
      "\r\n",
      "          intelpython3-2020.2\r\n",
      "          intelpython3-2020.0\r\n",
      "          intelpython3-2019.0\r\n",
      "          intelpython3-2018.1\r\n",
      "          intelpython3-2017.3\r\n",
      "\r\n",
      "          intelpython2-2019.0\r\n",
      "          intelpython2-2018.1\r\n",
      "          intelpython2-2017.3\r\n",
      "\r\n",
      "Per maggiori dettagli vedere la pagina di documentazione:\r\n",
      "https://osiride-public/~pkgadm/doc/nav/Manuali_Sviluppo_SW/Python.html#IntelPythons\r\n",
      "\r\n"
     ]
    }
   ],
   "source": [
    "! intelpython versions"
   ]
  },
  {
   "cell_type": "markdown",
   "metadata": {},
   "source": [
    "La versione di default si invoca col comando `intelpython`, che in realtà fa partire [IPython](https://ipython.org), una shell interattiva per python arricchita di diverse funzionalità aggiuntive."
   ]
  },
  {
   "cell_type": "markdown",
   "metadata": {},
   "source": [
    "## Jupyter notebook\n",
    "\n",
    "Jupyter Notebook è una web-application che permette di creare e condividere documenti testuali interattivi, contenenti elementi descrittivi (testo, equazioni, immagini, grafici) e codice sorgente eseguibile comprensivo dell'eventuale output. Jupyter notebook fa parte del [Project Jupyter](https://jupyter.org/)\n",
    "\n",
    "Un notebook è costintuito da una sequenza di celle di due tipologie:\n",
    "* elementi descrittivi\n",
    "* codice sorgente e relativo output\n",
    "\n",
    "Le celle descrittive possono contenere testo in linguaggio [Markdown](https://commonmark.org/) o anche direttamente in [HTML](https://developer.mozilla.org/it/docs/Web/HTML).\n",
    "\n",
    "Le celle di codice sorgente nel linguaggio configurato, nel nostro caso Python.<br>\n",
    "La documentazione ufficiale dell'ultima versione di Python è disponibile su http://docs.python.org, far riferimento alla versione corretta.\n",
    "\n",
    "Ciascuna cella del notebook, sia descrittiva che di codice, può trovarsi in due modalità.\n",
    "\n",
    "### Edit mode (riquadro cella verde)\n",
    "\n",
    "In questa modalità è possibile modificare il testo della cella. I comandi supportati sono:\n",
    "* `Tab`: completamento automatico del codice o indentazione\n",
    "* `Shift-Tab`: help contestuale\n",
    "* `Esc`: cambia modalità in *Command mode*\n",
    "\n",
    "### Command mode (riquadro cella azzurro)\n",
    "\n",
    "In questa modalità è possibile eseguire dei comandi; i principali sono:\n",
    "* `Ctrl-Enter`: esegue il contenuto della cella\n",
    "* `Shift-Enter`: esegue il contenuto della cella e passa alla successiva\n",
    "* `Alt-Enter`: esegue il contenuto della cella e ne inserisce una nuova dopo\n",
    "* `m`: cambia il tipo cella in *Markdown*\n",
    "* `y`: cambia il tipo cella in *Code*\n",
    "* `dd`: elimina una cella\n",
    "* `a`: inserisce una nuova cella prima della corrente\n",
    "* `b`: inserisce una nuova cella dopo della corrente\n",
    "* `h`: mostra le scorciatoie da tastiera\n",
    "* `Enter`: cambia modalità in *Edit mode*\n",
    "\n",
    "In entrambe le modalità è possibile eseguire il comando:\n",
    "* `Ctrl-Shift-F`: apre la palette dei comandi"
   ]
  },
  {
   "cell_type": "markdown",
   "metadata": {},
   "source": [
    "# Esercizi"
   ]
  },
  {
   "cell_type": "markdown",
   "metadata": {},
   "source": [
    "## Liste\n",
    "\n",
    "Data la lista `l = [0.0, \"a\", [5], [2, 3]]`, scrivere le istruzioni per rispondere alle seguenti domande.\n",
    "\n",
    "* Quanto è lunga la lista?\n",
    "* Di che tipo è il primo elemento della lista?\n",
    "* Quanto è lungo il secondo elemento della lista?\n",
    "* Quanto è lungo il terzo elemento della lista?\n",
    "* Quanto vale l'ultimo elemento della lista? Quanto è lungo?\n",
    "* La lista ha un elemento di valore `\"a\"`?\n",
    "* La lista ha un elemento di valore `2`?\n",
    "\n",
    "Creare una nuova lista `l1` concatenando gli ultimi due elementi della lista `l`.<br>\n",
    "Facendo riferimento alla nuova lista `l1`:\n",
    "\n",
    "* da quanti elementi è formata?\n",
    "* qual è il suo elemento di valore massimo?\n",
    "* aggiungervi l'elemento `1`\n",
    "* ordinarla disponendone gli elementi in ordine crescente"
   ]
  },
  {
   "cell_type": "code",
   "execution_count": 2,
   "metadata": {},
   "outputs": [
    {
     "name": "stdout",
     "output_type": "stream",
     "text": [
      "4\n",
      "<class 'float'>\n",
      "1\n",
      "1\n",
      "[2, 3] 2\n",
      "True\n",
      "False\n",
      "3\n",
      "5\n",
      "[1, 2, 3, 5]\n"
     ]
    }
   ],
   "source": [
    "l = [0.0, \"a\", [5], [2, 3]]\n",
    "print( len(l) )\n",
    "print( type(l[0]) )\n",
    "print( len(l[1]) )\n",
    "print( len(l[2]) )\n",
    "print( l[-1], len(l[-1]) )\n",
    "print( 'a' in l )\n",
    "print( 2 in l )\n",
    "\n",
    "l1 = l[-2] + l[-1]\n",
    "print( len(l1) )\n",
    "print( max(l1) )\n",
    "l1.append(1)\n",
    "print( sorted(l1) )"
   ]
  },
  {
   "cell_type": "markdown",
   "metadata": {},
   "source": [
    "## Stringhe\n",
    "\n",
    "Scrivere le istruzioni per eseguire le seguenti operazioni.\n",
    "\n",
    "* Creare una stringa formata da dieci spazi e un punto.\n",
    "* Controllare che la stringa contenga almeno uno spazio.\n",
    "* Controllare che una stringa contenga esattamente cinque caratteri.\n",
    "* Creare una stringa vuota, e controllare che sia vuota.\n",
    "* Controllare se la stringa `\"13325\"` comincia con `\"1\"` e finisce con `\"5\"`.\n",
    "* Controllare se la stringa `\"\\\\\"` contiene due elementi.\n",
    "* Data la stringa `\"123456789\"` trasformarla nella stringa `\"1.2.3.4.5.6.7.8.9\"`\n",
    "* Data la stringa con l'orario `\"23:45:59\"` ottenere una lista di tre stringhe con le ore e i minuti e i secondi.\n",
    "* Data la stringa `\"09-10-2019 11:22:33\"` trasformarla in `09/10/2019 11.22.33`.\n",
    "* Concatenare le stringhe `\"Due stringhe\"`, `\" diventano una sola\"`.\n",
    "* Creare una stringa di venti ripetizioni di `\"la\"` e trovare la posizione della prima e seconda occorrenza di `\"ala\"`."
   ]
  },
  {
   "cell_type": "code",
   "execution_count": 3,
   "metadata": {},
   "outputs": [
    {
     "name": "stdout",
     "output_type": "stream",
     "text": [
      "True\n",
      "False\n",
      "True\n",
      "True\n",
      "False\n",
      "1.2.3.4.5.6.7.8.9\n",
      "['23', '45', '59']\n",
      "09/10/2019 11.22.33\n",
      "Due stringhe diventano una sola\n",
      "lalalalalalalalalalalalalalalalalalalala\n",
      "1\n",
      "3\n"
     ]
    }
   ],
   "source": [
    "s = ' '*10 + '.'\n",
    "print(' ' in s)\n",
    "print( len(s)==5 )\n",
    "\n",
    "s1 = ''\n",
    "print( len(s1)==0 )\n",
    "\n",
    "s2 = '13325'\n",
    "print( s2[0]=='1' and s2[-1]=='5' )\n",
    "\n",
    "s3 = '\\\\'\n",
    "print( len(s3)==2 )\n",
    "\n",
    "s4 = '123456789'\n",
    "print( '.'.join(s4) )\n",
    "\n",
    "s5 = '23:45:59'\n",
    "print( s5.split(':') )\n",
    "\n",
    "s6 = '09-10-2019 11:22:33'\n",
    "print( s6.replace('-','/').replace(':','.') )\n",
    "\n",
    "s7 = \"Due stringhe\" + \" diventano una sola\"\n",
    "print( s7 )\n",
    "\n",
    "s8 = 'la'*20\n",
    "print( s8 )\n",
    "print( s8.find('ala') )\n",
    "print( s8.find('ala', 2) )"
   ]
  },
  {
   "cell_type": "markdown",
   "metadata": {},
   "source": [
    "## Tuple\n",
    "\n",
    "Data la tupla `t = (0, 4, 5, [6, 7, 8], 1, 9, 'u')`, scrivere le istruzioni per rispondere alle seguenti domande.\n",
    "\n",
    "* Quanti elementi contiene la tupla?\n",
    "* Di che tipo è il terzo elemento della tupla? Quanto vale?\n",
    "* Di che tipo è il quarto elemento della tupla? Quanto vale?\n",
    "* Quanti elementi contiene il quarto elemento?\n",
    "* In quale posizione si trova l'elemento `9`?\n",
    "* Cambiare l'elemento `8` in `\"ultimo\"`. (E' possibile?)\n",
    "* Cambiare l'elemento `'u'` in `\"ultimo\"`. (E' possibile?)\n"
   ]
  },
  {
   "cell_type": "code",
   "execution_count": 4,
   "metadata": {},
   "outputs": [
    {
     "name": "stdout",
     "output_type": "stream",
     "text": [
      "7\n",
      "<class 'int'> 5\n",
      "<class 'list'> [6, 7, 8]\n",
      "3\n",
      "5\n",
      "(0, 4, 5, [6, 7, 'ultimo'], 1, 9, 'u')\n"
     ]
    },
    {
     "ename": "TypeError",
     "evalue": "'tuple' object does not support item assignment",
     "output_type": "error",
     "traceback": [
      "\u001b[0;31m\u001b[0m",
      "\u001b[0;31mTypeError\u001b[0mTraceback (most recent call last)",
      "\u001b[0;32m<ipython-input-4-dbeba8ac8ea5>\u001b[0m in \u001b[0;36m<module>\u001b[0;34m()\u001b[0m\n\u001b[1;32m     12\u001b[0m \u001b[0;34m\u001b[0m\u001b[0m\n\u001b[1;32m     13\u001b[0m \u001b[0;31m# non è possibile: le tuple sono immutabili!\u001b[0m\u001b[0;34m\u001b[0m\u001b[0;34m\u001b[0m\u001b[0m\n\u001b[0;32m---> 14\u001b[0;31m \u001b[0mt\u001b[0m\u001b[0;34m[\u001b[0m\u001b[0;34m-\u001b[0m\u001b[0;36m1\u001b[0m\u001b[0;34m]\u001b[0m \u001b[0;34m=\u001b[0m \u001b[0;34m\"ultimo\"\u001b[0m\u001b[0;34m\u001b[0m\u001b[0m\n\u001b[0m",
      "\u001b[0;31mTypeError\u001b[0m: 'tuple' object does not support item assignment"
     ]
    }
   ],
   "source": [
    "t = (0, 4, 5, [6, 7, 8], 1, 9, 'u')\n",
    "\n",
    "print( len(t))\n",
    "print( type(t[2]), t[2])\n",
    "print( type(t[3]), t[3])\n",
    "print( len(t[3]) )\n",
    "print( t.index(9) )\n",
    "\n",
    "# è possibile\n",
    "t[3][-1] = \"ultimo\"\n",
    "print( t )\n",
    "\n",
    "# non è possibile: le tuple sono immutabili!\n",
    "t[-1] = \"ultimo\""
   ]
  },
  {
   "cell_type": "markdown",
   "metadata": {},
   "source": [
    "## Set\n",
    "\n",
    "Dato il set `s = {4, 3, 2, 5, (6, 7)}`, scrivere le istruzioni per risolvere i seguenti punti.\n",
    "\n",
    "* Qual è la sua dimensione?\n",
    "* Mostare che i set non contengono duplicati\n",
    "* E' possibile accedere al terzo elemento?\n",
    "* Creare il set `s1` dei primi 4 numeri pari, in modo diverso da come è stato creato `s`\n",
    "* Quali sono gli elementi in comune tra `s` e `s1`?\n",
    "* Qual è la differenza tra `s` e `s1`?\n",
    "* Unire i due set creando il nuovo set `u` e rimuovere l'unico elemento tupla\n",
    "* Creare una lista ordinata a partire da `u` \n"
   ]
  },
  {
   "cell_type": "code",
   "execution_count": 5,
   "metadata": {},
   "outputs": [
    {
     "name": "stdout",
     "output_type": "stream",
     "text": [
      "5\n",
      "{2, 3, 4, 5, (6, 7)}\n",
      "{8, 2, 10, 4}\n",
      "{2, 4}\n",
      "{3, (6, 7), 5}\n"
     ]
    },
    {
     "data": {
      "text/plain": [
       "list"
      ]
     },
     "execution_count": 5,
     "metadata": {},
     "output_type": "execute_result"
    }
   ],
   "source": [
    "s = {4, 3, 2, 5, (6, 7)}\n",
    "print( len(s) )\n",
    "\n",
    "s.add(5)\n",
    "print( s )\n",
    "\n",
    "# i set non supportano l'indexing!\n",
    "\n",
    "s1 = set([2, 4, 8, 10])\n",
    "print( s1 )\n",
    "\n",
    "print( s.intersection(s1) )\n",
    "print( s.difference(s1) )\n",
    "u = s.union(s1)\n",
    "u.remove((6,7))\n",
    "su = sorted(u)\n",
    "type(su)"
   ]
  },
  {
   "cell_type": "markdown",
   "metadata": {},
   "source": [
    "## Dizionari\n",
    "\n",
    "Dato il dizionario dei punteggi `p = {'Paul': 5, 'Mary': 9, 'Susy': 6, 'John': 7}` , scrivere le istruzioni per rispondere alle seguenti domande.\n",
    "\n",
    "* Quanti elementi ha il dizionario?\n",
    "* Qual è il punteggio di Paul?\n",
    "* Come si ottengono le chiavi del dizionario?\n",
    "* Chi è l'ultimo nominativo in ordine alfabetico?\n",
    "\n",
    "Quindi eseguire le seguenti operazioni\n",
    "\n",
    "* Aumentare di 2 il punteggio di Susy.\n",
    "* Aggiungere il punteggio di 7 ottenuto da Luis.\n",
    "* Stampare il massimo punteggio.\n",
    "* Eliminare e stampare l'ultimo elemento del dizionario."
   ]
  },
  {
   "cell_type": "code",
   "execution_count": 6,
   "metadata": {},
   "outputs": [
    {
     "name": "stdout",
     "output_type": "stream",
     "text": [
      "4\n",
      "5\n",
      "dict_keys(['Paul', 'Mary', 'Susy', 'John'])\n",
      "Susy\n",
      "8\n",
      "{'Paul': 5, 'Mary': 9, 'Susy': 8, 'John': 7, 'Luis': 7}\n",
      "9\n",
      "('Luis', 7)\n",
      "{'Paul': 5, 'Mary': 9, 'Susy': 8, 'John': 7}\n"
     ]
    }
   ],
   "source": [
    "p = {'Paul': 5, 'Mary': 9, 'Susy': 6, 'John': 7}\n",
    "\n",
    "print( len(p) )\n",
    "print( p['Paul'] )\n",
    "print( p.keys() )\n",
    "print( max(p) )\n",
    "i = p.items()\n",
    "\n",
    "#p['Susy'] += 2\n",
    "p['Susy'] = p['Susy'] + 2\n",
    "print( p['Susy'] )\n",
    "\n",
    "p['Luis'] = 7\n",
    "print( p )\n",
    "\n",
    "print( max(p.values()) )\n",
    "print( p.popitem() )\n",
    "print( p )"
   ]
  },
  {
   "cell_type": "markdown",
   "metadata": {},
   "source": [
    "## Dispari?\n",
    "\n",
    "Scrivere una funzione `is_odd` che dato un numero x restituisca il valore `True` se x è dispari `False` altrimenti.\n",
    "    \n",
    "Provarla con i seguenti numeri: 1, 132, 8, 77, 5, 20"
   ]
  },
  {
   "cell_type": "code",
   "execution_count": 7,
   "metadata": {},
   "outputs": [
    {
     "name": "stdout",
     "output_type": "stream",
     "text": [
      "1 -> True\n",
      "132 -> False\n",
      "8 -> False\n",
      "77 -> True\n",
      "5 -> True\n",
      "20 -> False\n"
     ]
    }
   ],
   "source": [
    "def is_odd(x):\n",
    "    return x%2==1\n",
    "\n",
    "for x in [1, 132, 8, 77, 5, 20]:\n",
    "    print(x, '->', is_odd(x))"
   ]
  },
  {
   "cell_type": "markdown",
   "metadata": {},
   "source": [
    "## Divisori\n",
    "\n",
    "Scrivere una funzione `divisors` che dato un intero positivo restituisca la lista dei suoi divisori."
   ]
  },
  {
   "cell_type": "code",
   "execution_count": 8,
   "metadata": {},
   "outputs": [
    {
     "name": "stdout",
     "output_type": "stream",
     "text": [
      "1 -> [1]\n",
      "132 -> [1, 2, 3, 4, 6, 11, 12, 22, 33, 44, 66, 132]\n",
      "77 -> [1, 7, 11, 77]\n",
      "5 -> [1, 5]\n",
      "20 -> [1, 2, 4, 5, 10, 20]\n"
     ]
    }
   ],
   "source": [
    "def divisors(x):\n",
    "    d = []\n",
    "    for n in range(1,x+1):\n",
    "        if x%n==0:\n",
    "            d.append(n)\n",
    "    return d\n",
    "    \n",
    "for x in [1, 132, 77, 5, 20]:\n",
    "    print(x, '->', divisors(x))"
   ]
  },
  {
   "cell_type": "markdown",
   "metadata": {},
   "source": [
    "## Barre orizzontali\n",
    "\n",
    "Scrivere una funzione `bargraf` che data una sequenza di interi positivi stampi a video un grafico a barre orizzontali fatto di asterischi.\n",
    "\n",
    "Ad esempio se la sequenza in input è [3,5,2] il risultato sarà:\n",
    "    \n",
    "`***`<br>\n",
    "`*****`<br>\n",
    "`**`\n",
    "\n",
    "Provarla con i seguenti parametri:\n",
    "- [5,8,3,1]\n",
    "- [2,12,5]\n",
    "- []"
   ]
  },
  {
   "cell_type": "code",
   "execution_count": 9,
   "metadata": {},
   "outputs": [
    {
     "name": "stdout",
     "output_type": "stream",
     "text": [
      "[5, 8, 3, 1]\n",
      "*****\n",
      "********\n",
      "***\n",
      "*\n",
      "\n",
      "[2, 12, 5]\n",
      "**\n",
      "************\n",
      "*****\n",
      "\n",
      "[]\n",
      "\n"
     ]
    }
   ],
   "source": [
    "def bargraf(seq):\n",
    "    for n in seq:\n",
    "        print('*'*n)\n",
    "        \n",
    "for s in [[5,8,3,1], [2,12,5], []]:\n",
    "    print(s)\n",
    "    bargraf(s)\n",
    "    print()"
   ]
  },
  {
   "cell_type": "markdown",
   "metadata": {},
   "source": [
    "## Convertitore\n",
    "\n",
    "Scrivere una funzione `eur2usd` che data in input una lista di prezzi in euro restituisca la stessa lista di prezzi in dollari considerando il tasso di cambio di `1.2` dollari per 1 euro. Arrotondare a due decimali. Il corpo della funzione deve essere di una sola riga di codice.\n",
    "\n",
    "Infine provare la funzione con i seguenti parametri:\n",
    "* `[2.3, 80, 3.79, 52.4]`\n",
    "* `[2.51, 12, 53.1]`\n",
    "* `[22, 32.1, 8.5, 6]`"
   ]
  },
  {
   "cell_type": "code",
   "execution_count": 10,
   "metadata": {},
   "outputs": [
    {
     "name": "stdout",
     "output_type": "stream",
     "text": [
      "[2.3, 80, 3.79, 52.4] -> [2.76, 96.0, 4.55, 62.88]\n",
      "[2.51, 12, 53.1] -> [3.01, 14.4, 63.72]\n",
      "[22, 32.1, 8.5, 6] -> [26.4, 38.52, 10.2, 7.2]\n"
     ]
    }
   ],
   "source": [
    "def eur2usd(x):\n",
    "    return [round(1.2*p, 2) for p in x]\n",
    "\n",
    "for s in [[2.3, 80, 3.79, 52.4], [2.51, 12, 53.1], [22, 32.1, 8.5, 6]]:\n",
    "    print(s, '->', eur2usd(s))"
   ]
  },
  {
   "cell_type": "markdown",
   "metadata": {},
   "source": [
    "## Affettatrice\n",
    "\n",
    "Scrivere una funzione `split` che divida data una lista la divide a metà restituisce una tupla di due liste. Se la lista in input è di lunghezza dispari l'elemento in più va nella seconda metà.\n",
    "Il corpo della funzione `split` deve essere di due righe al massimo."
   ]
  },
  {
   "cell_type": "code",
   "execution_count": 11,
   "metadata": {},
   "outputs": [
    {
     "name": "stdout",
     "output_type": "stream",
     "text": [
      "([1, 2], [3, 4, 5])\n",
      "([5, 3], [1, 3])\n",
      "(['a'], ['c', 'k'])\n",
      "([], [])\n"
     ]
    }
   ],
   "source": [
    "def split(x):\n",
    "    m = len(x)//2\n",
    "    return (x[:m], x[m:])\n",
    "\n",
    "for s in [[1,2,3,4,5], [5,3,1,3], ['a','c','k'], []]:\n",
    "    print(split(s))"
   ]
  },
  {
   "cell_type": "markdown",
   "metadata": {},
   "source": [
    "## In comune\n",
    "\n",
    "Scrivere una funzione `intersect` che date due liste restituisca una lista contenente gli elementi in comune tra le due (senza duplicati).\n",
    "\n",
    "Infine provarla con i seguenti parametri:\n",
    "* `[1,2,1,5,2] [3,4,1,1]`\n",
    "* `[3,5,2,2,3] [2,5,1,2]`\n",
    "* `[1,1,2,3,5] []`"
   ]
  },
  {
   "cell_type": "code",
   "execution_count": 12,
   "metadata": {},
   "outputs": [
    {
     "name": "stdout",
     "output_type": "stream",
     "text": [
      "[1, 2, 1, 5, 2] [3, 4, 1, 1] -> [1]\n",
      "[3, 5, 2, 2, 3] [2, 5, 1, 2] -> [2, 5]\n",
      "[1, 1, 2, 3, 5] [] -> []\n"
     ]
    }
   ],
   "source": [
    "def intersect(x, y):\n",
    "    s = set(x)\n",
    "    return list(s.intersection(y))\n",
    "\n",
    "for s1, s2 in [([1,2,1,5,2], [3,4,1,1]), ([3,5,2,2,3], [2,5,1,2]), ([1,1,2,3,5], [])]:\n",
    "    print(s1, s2, '->', intersect(s1,s2))"
   ]
  },
  {
   "cell_type": "markdown",
   "metadata": {},
   "source": [
    "## Separatore\n",
    "\n",
    "Scrivere una funzione `separator` che data una lista di numeri restituisca una tupla di due liste contenenti rispettivamente i numeri pari e i numeri dispari della lista di partenza nello stesso ordine e con gli eventuali duplicati. Il corpo della funzione deve essere di una sola riga.\n",
    "\n",
    "Infine provare la funzione con i seguenti parametri:\n",
    "* `[2, 3, 8, 0, 3, 9, 2, 4]`\n",
    "* `[2, 5, 1, 1, 2, 5, 3, 1]`"
   ]
  },
  {
   "cell_type": "code",
   "execution_count": 13,
   "metadata": {},
   "outputs": [
    {
     "name": "stdout",
     "output_type": "stream",
     "text": [
      "[2, 3, 8, 0, 3, 9, 2, 4] -> ([2, 8, 0, 2, 4], [3, 3, 9])\n",
      "[2, 5, 1, 1, 2, 5, 3, 1] -> ([2, 2], [5, 1, 1, 5, 3, 1])\n"
     ]
    }
   ],
   "source": [
    "def separator(x):\n",
    "    #return ([n for n in x if n%2==0], [n for n in x if n%2==1])\n",
    "    return (list(filter(lambda n: n%2==0, x)), list(filter(lambda n: n%2==1, x)))\n",
    "\n",
    "for s in [[2, 3, 8, 0, 3, 9, 2, 4], [2, 5, 1, 1, 2, 5, 3, 1]]:\n",
    "    print(s, '->', separator(s))"
   ]
  },
  {
   "cell_type": "markdown",
   "metadata": {
    "collapsed": true
   },
   "source": [
    "## Palindromo?\n",
    "\n",
    "Scrivere una funzione `is_palindromic` che data una stringa restituisce `True` se è palindroma (il case delle lettere e gli spazi vanno ignorati), `False` altrimenti.\n",
    "\n",
    "Infine provarla con i seguenti parametri:\n",
    "\n",
    "- 'Anna'\n",
    "- 'ninnananna'\n",
    "- 176671\n",
    "- 'I topi non avevano nipoti'\n",
    "- ''"
   ]
  },
  {
   "cell_type": "code",
   "execution_count": 14,
   "metadata": {},
   "outputs": [
    {
     "name": "stdout",
     "output_type": "stream",
     "text": [
      "la stringa 'Anna' è palindroma\n",
      "Anna -> True\n",
      "la stringa 'ninnananna' non è palindroma\n",
      "ninnananna -> False\n",
      "la stringa '176671' è palindroma\n",
      "176671 -> True\n",
      "la stringa 'I topi non avevano nipoti' è palindroma\n",
      "I topi non avevano nipoti -> True\n",
      "la stringa '' è palindroma\n",
      " -> True\n"
     ]
    }
   ],
   "source": [
    "def is_palindromic(s):\n",
    "    w = str(s)\n",
    "    w = w.lower()\n",
    "    w = w.replace(' ', '')\n",
    "    return w == w[::-1]\n",
    "    \n",
    "for s in ['Anna','ninnananna',176671,'I topi non avevano nipoti','']: \n",
    "    print(f\"la stringa '{s}'{'' if is_palindromic(s) else ' non'} è palindroma\")\n",
    "    print(s, '->', is_palindromic(s))"
   ]
  },
  {
   "cell_type": "markdown",
   "metadata": {},
   "source": [
    "## Generatore di spam\n",
    "\n",
    "Scrivere una funzione `spam_generator` che dato un messaggio con 2 *placeholder* al e una lista di tuple di destinatari con email, nome e prezzo, invii il messaggio all'indirizzo email sostituendo i *placeholder* con il nome e il prezzo, per ciascuna tupla.<br>Come *placeholder* utilizzare le graffe aperta e chiusa `{}`.<br> Simulare l'invio della mail stampando un riga del tipo::<br>`<email>`<br>`<messaggio>`\n",
    "\n",
    "Infine provare la funzione con i parametri:\n",
    "* `'Ciao {}, solo per te una fantastica offerta a soli {} euro! Clicca qui: http://credulone.it'` `[('mario@dom.it','Mario',199.99), ('anna@dom.it','Anna',99.99), ('luigi@dom.it','Luigi',149.99)]`"
   ]
  },
  {
   "cell_type": "code",
   "execution_count": 15,
   "metadata": {},
   "outputs": [
    {
     "name": "stdout",
     "output_type": "stream",
     "text": [
      "mario@dom.it\n",
      "Ciao Mario, solo per te una fantastica offerta a soli 199.99 euro! Clicca qui: http://credulone.it \n",
      "\n",
      "anna@dom.it\n",
      "Ciao Anna, solo per te una fantastica offerta a soli 99.99 euro! Clicca qui: http://credulone.it \n",
      "\n",
      "luigi@dom.it\n",
      "Ciao Luigi, solo per te una fantastica offerta a soli 149.99 euro! Clicca qui: http://credulone.it \n",
      "\n"
     ]
    }
   ],
   "source": [
    "def spam_generator(m, data):\n",
    "    for d in data:\n",
    "        print(d[0])\n",
    "        print(m.format(d[1], d[2]), '\\n')\n",
    "        \n",
    "spam_generator(\n",
    "    'Ciao {}, solo per te una fantastica offerta a soli {} euro! Clicca qui: http://credulone.it',\n",
    "    [('mario@dom.it','Mario',199.99), ('anna@dom.it','Anna',99.99), ('luigi@dom.it','Luigi',149.99)]\n",
    ")"
   ]
  },
  {
   "cell_type": "markdown",
   "metadata": {},
   "source": [
    "## Contatore\n",
    "\n",
    "Scrivere una funzione `char_count` che data una stringa restituisce un dizionario avente come chiavi i caratteri contenuti nella stringa (il case va ignorato) e come valori la frequenza di ciascun carattere.\n",
    "\n",
    "Infine provarla con i seguenti parametri:\n",
    "\n",
    "- 'weyoqieqeppjdopwduwfij'\n",
    "- 'chissà che viene fuori'\n",
    "- 54052948523679912\n",
    "- ''"
   ]
  },
  {
   "cell_type": "code",
   "execution_count": 16,
   "metadata": {},
   "outputs": [
    {
     "name": "stdout",
     "output_type": "stream",
     "text": [
      "'weyoqieqeppjdopwduwfij'\n",
      "{'w': 3, 'e': 3, 'y': 1, 'o': 2, 'q': 2, 'i': 2, 'p': 3, 'j': 2, 'd': 2, 'u': 1, 'f': 1} \n",
      "\n",
      "'chissà che viene fuori'\n",
      "{'c': 2, 'h': 2, 'i': 3, 's': 2, 'à': 1, ' ': 3, 'e': 3, 'v': 1, 'n': 1, 'f': 1, 'u': 1, 'o': 1, 'r': 1} \n",
      "\n",
      "'54052948523679912'\n",
      "{'5': 3, '4': 2, '0': 1, '2': 3, '9': 3, '8': 1, '3': 1, '6': 1, '7': 1, '1': 1} \n",
      "\n",
      "''\n",
      "{} \n",
      "\n"
     ]
    }
   ],
   "source": [
    "def char_count(s):\n",
    "    freq = {}\n",
    "    w = str(s).lower()\n",
    "    for c in w:\n",
    "        if c in freq:\n",
    "            freq[c] += 1\n",
    "        else:\n",
    "            freq[c] = 1\n",
    "    return freq\n",
    "\n",
    "for s in ['weyoqieqeppjdopwduwfij','chissà che viene fuori',54052948523679912,'']:\n",
    "    print(f\"'{s}'\")\n",
    "    print(char_count(s), '\\n')"
   ]
  },
  {
   "cell_type": "markdown",
   "metadata": {},
   "source": [
    "## Parentesi\n",
    "\n",
    "Scrivere una funzione `check_parentheses` che data un'espressione verifichi se le parentesi tonde presenti sono correttamente bilanciate oppure no.\n",
    "\n",
    "Verificare la funzione con i seguenti parametri:\n",
    "\n",
    "* `3*(4+(5*2-1)*3)+2`\n",
    "* `2*((1+(3*4+1)*5)+1)`\n",
    "* `())()`\n",
    "* `((())())`"
   ]
  },
  {
   "cell_type": "code",
   "execution_count": 17,
   "metadata": {},
   "outputs": [
    {
     "name": "stdout",
     "output_type": "stream",
     "text": [
      "3*(4+(5*2-1)*3)+2 -> ok\n",
      "2*((1+(3*4+1)*5)+1) -> ok\n",
      "())() -> error!\n",
      "((())()) -> ok\n"
     ]
    }
   ],
   "source": [
    "def check_parentheses(e):\n",
    "    a = c = 0\n",
    "    for x in e:\n",
    "        if x == '(':\n",
    "            a += 1\n",
    "        elif x == ')':\n",
    "            c += 1\n",
    "        if c > a:\n",
    "             break\n",
    "    return a == c\n",
    "\n",
    "for e in ['3*(4+(5*2-1)*3)+2', '2*((1+(3*4+1)*5)+1)', '())()', '((())())']:\n",
    "    print(e, '->', 'ok' if check_parentheses(e) else 'error!')"
   ]
  },
  {
   "cell_type": "markdown",
   "metadata": {},
   "source": [
    "## Cifrario di Cesare\n",
    "\n",
    "Scrivere la funzione `crypt` che cifra la stringa passata come parametro applicando il \"cifrario di Cesare\" con scorrimento 7 e la restituisce in output. In altri termini ogni lettera della stringa dovrà essere sostituita con la settima lettera successiva nell'alfabeto (ricominciando dalla A se si raggiunge la Z). Gli eventuali caratteri non presenti nell'alfabeto e i numeri vanno lasciati inalterati, le lettere saranno tutte convertite in maiuscolo.\n",
    "\n",
    "Testare la funzione `crypt` scrivendo anche la funzione opposta `decrypt` che decifra una stringa e verificare che applicando in cascata le due funzioni si ottiene la stringa di partenza (tralasciando il case delle lettere)."
   ]
  },
  {
   "cell_type": "code",
   "execution_count": 18,
   "metadata": {},
   "outputs": [
    {
     "name": "stdout",
     "output_type": "stream",
     "text": [
      "CIFRARIO DI CESARE -> JPMYHYPV KP JLZHYL\n",
      "JPMYHYPV KP JLZHYL -> CIFRARIO DI CESARE\n"
     ]
    }
   ],
   "source": [
    "def caesar(s, p):\n",
    "    a = 'ABCDEFGHIJKLMNOPQRSTUVWXYZ'\n",
    "    t = ''\n",
    "    for x in s:\n",
    "        c = x.upper()\n",
    "        i = a.find(c)\n",
    "        if i >= 0:\n",
    "            c = a[(i+p)%26]\n",
    "        t += c\n",
    "    return t\n",
    "\n",
    "def crypt(s):\n",
    "    return caesar(s, 7)\n",
    "\n",
    "def decrypt(s):\n",
    "    return caesar(s, 19)\n",
    "\n",
    "crypted = crypt('CIFRARIO DI CESARE')\n",
    "plain = decrypt(crypted) \n",
    "print('CIFRARIO DI CESARE ->', crypted)\n",
    "print(crypted, '->', plain)"
   ]
  },
  {
   "cell_type": "markdown",
   "metadata": {},
   "source": [
    "### Robot\n",
    "\n",
    "Un robot si muove seguendo le istruzioni date con consistono in direzione e numero di passi. Scrivere la funzione vai_robot che calcola il movimento del robot data una senquenza di istruzioni a partire da una posizione iniziale data come coordinate (x,y) e da una lista di istruzioni, restituendo le coordinate finali.\n",
    "\n",
    "Quale sarà la posizione del robot partendo dalla posizione `(0, 0)` ed eseguendo i seguenti spostamenti:<br>\n",
    "`[('UP', 5), ('LEFT', 1), ('DOWN', 2), ('RIGHT', 4)]`"
   ]
  },
  {
   "cell_type": "code",
   "execution_count": 19,
   "metadata": {},
   "outputs": [
    {
     "data": {
      "text/plain": [
       "(3, 3)"
      ]
     },
     "execution_count": 19,
     "metadata": {},
     "output_type": "execute_result"
    }
   ],
   "source": [
    "def vai_robot(start, moves):\n",
    "    x, y = start\n",
    "    for d, p in moves:\n",
    "        if d == 'RIGHT':\n",
    "            x += p\n",
    "        elif d == 'LEFT':\n",
    "            x -= p\n",
    "        elif d == 'UP':\n",
    "            y += p\n",
    "        elif d == 'DOWN':\n",
    "            y -= p\n",
    "    return (x, y)\n",
    "\n",
    "vai_robot((0, 0), [('UP', 5), ('LEFT', 1), ('DOWN', 2), ('RIGHT', 4)])"
   ]
  },
  {
   "cell_type": "markdown",
   "metadata": {},
   "source": [
    "## Coppie\n",
    "\n",
    "Scrivere una funzione che data una lista di interi, restituisca l'insieme delle coppie di numeri la cui somma è divisibile per 3."
   ]
  },
  {
   "cell_type": "code",
   "execution_count": 20,
   "metadata": {},
   "outputs": [
    {
     "data": {
      "text/plain": [
       "{(-25, 4),\n",
       " (-25, 10),\n",
       " (-10, 4),\n",
       " (-10, 10),\n",
       " (-7, 4),\n",
       " (-7, 10),\n",
       " (2, 4),\n",
       " (2, 10),\n",
       " (4, 8)}"
      ]
     },
     "execution_count": 20,
     "metadata": {},
     "output_type": "execute_result"
    }
   ],
   "source": [
    "def coppie(x):\n",
    "    t = sorted(list(set(x)))\n",
    "    r = set()\n",
    "    for i in t:\n",
    "        for j in t[i+1:]:\n",
    "                if (i+j) % 3 == 0:\n",
    "                    r.add((i, j))\n",
    "    return r\n",
    "\n",
    "coppie([-25, -10, -7, -3, 2, 4, 8, 10])"
   ]
  },
  {
   "cell_type": "markdown",
   "metadata": {},
   "source": [
    "## Il \"classico\" MCD\n",
    "\n",
    "Scrivere una funzione `mcd` che dati due numeri naturali restituisca il massimo comune divisore.\n",
    "\n",
    "Scrivere una seconda versione della funzione implementando l'*agoritmo di euclide* basato sulla proprietà `se mcd(a, b)=c allora mcd(b, a%b)=c dato a >= b`\n",
    "\n",
    "Infine provarla con i seguenti parametri:\n",
    "\n",
    "- 1612 e 84\n",
    "- 81 e 125\n",
    "- 90 e 15\n",
    "- 0 e 2\n",
    "- 0 e 0"
   ]
  },
  {
   "cell_type": "code",
   "execution_count": 21,
   "metadata": {},
   "outputs": [
    {
     "name": "stdout",
     "output_type": "stream",
     "text": [
      "mcd(1612, 84) = 4\n",
      "mcd(81, 125) = 1\n",
      "mcd(90, 15) = 15\n",
      "mcd(0, 2) = 2\n",
      "mcd(0, 0) = None\n"
     ]
    }
   ],
   "source": [
    "# soluzione semplice\n",
    "def mcd_1(a, b):\n",
    "    for i in range(min(a, b), 0, -1):\n",
    "        if a % i == 0 and b % i == 0:\n",
    "            return i\n",
    "    return None if a==0 and b==0 else max(a, b)\n",
    "\n",
    "# algoritmo di euclide: mcd(a, b)=c => mcd(b, a%b)=c   \n",
    "def mcd_2(a, b):\n",
    "    x, y = a, b\n",
    "    while x > 0 and y > 0:\n",
    "        if x < y:\n",
    "            x, y = y%x, x\n",
    "        else:\n",
    "            x, y = y, x%y\n",
    "    return None if x==0 and y==0 else max(x, y)\n",
    "\n",
    "mcd = mcd_2\n",
    "\n",
    "for a, b in [(1612, 84), (81,125), (90, 15), (0, 2), (0, 0)]:\n",
    "    print(f'mcd({a}, {b}) = {mcd(a, b)}')"
   ]
  },
  {
   "cell_type": "code",
   "execution_count": 22,
   "metadata": {},
   "outputs": [
    {
     "name": "stdout",
     "output_type": "stream",
     "text": [
      "10.6 s ± 0 ns per loop (mean ± std. dev. of 1 run, 1 loop each)\n",
      "7.25 µs ± 0 ns per loop (mean ± std. dev. of 1 run, 1 loop each)\n"
     ]
    }
   ],
   "source": [
    "# Confronto tempi mcd_1 vs mcd_2\n",
    "\n",
    "%timeit -n1 -r1 mcd_1(123437885, 321842695)\n",
    "%timeit -n1 -r1 mcd_2(123437885, 321842695)"
   ]
  },
  {
   "cell_type": "markdown",
   "metadata": {},
   "source": [
    "## Barre verticali\n",
    "\n",
    "Scrivere una funzione `bargraf2` che data una sequenza di interi positivi stampi a video un grafico a barre verticali fatto di asterischi.\n",
    "\n",
    "Ad esempio se la sequenza in input è [3,5,2] il risultato sarà:\n",
    "\n",
    "```\n",
    "  *\n",
    "  *\n",
    "* *\n",
    "* * *\n",
    "* * *\n",
    "```\n",
    "\n",
    "Suggerimento: creare un oggetto che contenga le barre di asterischi in orizzontale; quindi \"navigarlo\" da destra verso sinistra e, considerando le barre sovrapposte, stampare le colonne.\n",
    "\n",
    "Infine provarla con i seguenti parametri:\n",
    "- [5,7,3,1]\n",
    "- [2,9,5]\n",
    "- []"
   ]
  },
  {
   "cell_type": "code",
   "execution_count": 23,
   "metadata": {},
   "outputs": [
    {
     "name": "stdout",
     "output_type": "stream",
     "text": [
      "[5, 7, 3, 1]\n",
      "  *     \n",
      "  *     \n",
      "* *     \n",
      "* *     \n",
      "* * *   \n",
      "* * *   \n",
      "* * * * \n",
      "\n",
      "[2, 9, 5]\n",
      "  *   \n",
      "  *   \n",
      "  *   \n",
      "  *   \n",
      "  * * \n",
      "  * * \n",
      "  * * \n",
      "* * * \n",
      "* * * \n",
      "\n",
      "[]\n",
      "\n"
     ]
    }
   ],
   "source": [
    "def bargraf2(seq):\n",
    "    if not seq:\n",
    "        return\n",
    "    h = max(seq)\n",
    "    l = len(seq)\n",
    "    bar = [n*'*' + (h-n)*' ' for n in seq]\n",
    "    '''['***  ',\n",
    "        '*****',\n",
    "        '**   ']'''\n",
    "    for j in range(h-1, -1, -1):\n",
    "        s = ''\n",
    "        for i in range(0, l):\n",
    "            s += bar[i][j] + ' '\n",
    "        print(s)\n",
    "        \n",
    "for s in [[5,7,3,1], [2,9,5], []]:\n",
    "    print(s)\n",
    "    bargraf2(s)\n",
    "    print()"
   ]
  },
  {
   "cell_type": "markdown",
   "metadata": {
    "collapsed": true
   },
   "source": [
    "## Generatore di password\n",
    "\n",
    "Scrivere una funzione `new_password` che data un intero `n` (maggiore o uguale a 4) restituisca una password casuale di lunghezza `n` che inizia con una lettera e contiene almeno una lettera maiuscola, una cifra e un carattere speciale. Se la lunghezza in input è minore di 4 generare un errore.\n",
    "\n",
    "Suggerimento: possono essere utili le costanti del modulo `string` e le funzioni `random.randrange` e `random.shuffle`.\n",
    "    \n",
    "Infine provarla con i sueguenti parametri: 5, 8, 69, 3"
   ]
  },
  {
   "cell_type": "code",
   "execution_count": 24,
   "metadata": {},
   "outputs": [
    {
     "name": "stdout",
     "output_type": "stream",
     "text": [
      "new_password(5) = u:T)2\n",
      "new_password(8) = vt>9U4=d\n",
      "new_password(69) = O8|qX:f8X,.3}tKqAgV:*4[0*l9,T6*mng4i9y5t:OJHdbdD8-E&Zzo)5OmAbFZfF&/KH\n"
     ]
    },
    {
     "ename": "ValueError",
     "evalue": "Attenzione! n deve essere maggiore o uguale a 4!",
     "output_type": "error",
     "traceback": [
      "\u001b[0;31m\u001b[0m",
      "\u001b[0;31mValueError\u001b[0mTraceback (most recent call last)",
      "\u001b[0;32m<ipython-input-24-6ad9916f4b20>\u001b[0m in \u001b[0;36m<module>\u001b[0;34m()\u001b[0m\n\u001b[1;32m     34\u001b[0m \u001b[0;34m\u001b[0m\u001b[0m\n\u001b[1;32m     35\u001b[0m \u001b[0;32mfor\u001b[0m \u001b[0mn\u001b[0m \u001b[0;32min\u001b[0m \u001b[0;34m[\u001b[0m\u001b[0;36m5\u001b[0m\u001b[0;34m,\u001b[0m \u001b[0;36m8\u001b[0m\u001b[0;34m,\u001b[0m \u001b[0;36m69\u001b[0m\u001b[0;34m,\u001b[0m \u001b[0;36m3\u001b[0m\u001b[0;34m]\u001b[0m\u001b[0;34m:\u001b[0m\u001b[0;34m\u001b[0m\u001b[0m\n\u001b[0;32m---> 36\u001b[0;31m     \u001b[0mprint\u001b[0m\u001b[0;34m(\u001b[0m\u001b[0;34mf'new_password({n}) = {new_password(n)}'\u001b[0m\u001b[0;34m)\u001b[0m\u001b[0;34m\u001b[0m\u001b[0m\n\u001b[0m",
      "\u001b[0;32m<ipython-input-24-6ad9916f4b20>\u001b[0m in \u001b[0;36mnew_password\u001b[0;34m(n)\u001b[0m\n\u001b[1;32m      4\u001b[0m \u001b[0;32mdef\u001b[0m \u001b[0mnew_password\u001b[0m\u001b[0;34m(\u001b[0m\u001b[0mn\u001b[0m\u001b[0;34m)\u001b[0m\u001b[0;34m:\u001b[0m\u001b[0;34m\u001b[0m\u001b[0m\n\u001b[1;32m      5\u001b[0m     \u001b[0;32mif\u001b[0m \u001b[0mn\u001b[0m \u001b[0;34m<\u001b[0m \u001b[0;36m4\u001b[0m\u001b[0;34m:\u001b[0m\u001b[0;34m\u001b[0m\u001b[0m\n\u001b[0;32m----> 6\u001b[0;31m         \u001b[0;32mraise\u001b[0m \u001b[0mValueError\u001b[0m\u001b[0;34m(\u001b[0m\u001b[0;34m'Attenzione! n deve essere maggiore o uguale a 4!'\u001b[0m\u001b[0;34m)\u001b[0m\u001b[0;34m\u001b[0m\u001b[0m\n\u001b[0m\u001b[1;32m      7\u001b[0m \u001b[0;34m\u001b[0m\u001b[0m\n\u001b[1;32m      8\u001b[0m     \u001b[0md\u001b[0m \u001b[0;34m=\u001b[0m \u001b[0mstring\u001b[0m\u001b[0;34m.\u001b[0m\u001b[0mascii_letters\u001b[0m \u001b[0;34m+\u001b[0m \u001b[0mstring\u001b[0m\u001b[0;34m.\u001b[0m\u001b[0mdigits\u001b[0m \u001b[0;34m+\u001b[0m \u001b[0mstring\u001b[0m\u001b[0;34m.\u001b[0m\u001b[0mpunctuation\u001b[0m\u001b[0;34m\u001b[0m\u001b[0m\n",
      "\u001b[0;31mValueError\u001b[0m: Attenzione! n deve essere maggiore o uguale a 4!"
     ]
    }
   ],
   "source": [
    "import string\n",
    "import random\n",
    "\n",
    "def new_password(n):\n",
    "    if n < 4:\n",
    "        raise ValueError('Attenzione! n deve essere maggiore o uguale a 4!')\n",
    "\n",
    "    d = string.ascii_letters + string.digits + string.punctuation\n",
    "\n",
    "    idx_n = len(string.ascii_letters)\n",
    "    idx_s = idx_n + len(string.digits)\n",
    "    len_d = len(d)\n",
    "\n",
    "    # prima lettera\n",
    "    p0 = d[random.randrange(0, idx_n)]\n",
    "    # un numero\n",
    "    p = d[random.randrange(idx_n, idx_s)]\n",
    "    # un simbolo\n",
    "    p += d[random.randrange(idx_s, len_d)]\n",
    "\n",
    "    # generiamo i restanti elementi a caso tra tutti\n",
    "    for i in range(n-3):\n",
    "        p += d[random.randrange(0, len_d)]\n",
    "\n",
    "    # se nessuna lettera è maiuscola forziamo la prima\n",
    "    if p.islower() and p0.islower():\n",
    "        p0 = p0.upper()\n",
    "\n",
    "    # mischiamo tutto a caso tranne la prima\n",
    "    plist = list(p)\n",
    "    random.shuffle(plist)\n",
    "\n",
    "    return p0 + ''.join(plist)\n",
    "\n",
    "for n in [5, 8, 69, 3]:\n",
    "    print(f'new_password({n}) = {new_password(n)}')"
   ]
  },
  {
   "cell_type": "markdown",
   "metadata": {},
   "source": [
    "## Appiattitore\n",
    "\n",
    "Scrivere una funzione flatlist che data una lista o una tupla la \"appiattisca\" eliminando le eventuali liste o tuple annidate presenti tra i suoi elementi. La funzione restituirà una lista.\n",
    "\n",
    "Provarla con i seguenti input:\n",
    "* `[1, 2, [3, 4, [5, 6, 7]], 8]`\n",
    "* `('a', 'b', ['c', 'd', 'e', (1, 2, [3, 4])], 'x', 'y')`"
   ]
  },
  {
   "cell_type": "code",
   "execution_count": null,
   "metadata": {
    "collapsed": true
   },
   "outputs": [],
   "source": [
    "def flatlist(l):\n",
    "    f = []\n",
    "    for x in l:\n",
    "        if type(x) in (list, tuple):\n",
    "            f += flatlist(x)\n",
    "        else:\n",
    "            f.append(x)\n",
    "            \n",
    "    return f\n",
    "\n",
    "for l in ( [1, 2, [3, 4, [5, 6, 7]], 8], ('a', 'b', ['c', 'd', 'e', (1, 2, [3, 4])], 'x', 'y') ):\n",
    "    print( flatlist(l) )"
   ]
  },
  {
   "cell_type": "markdown",
   "metadata": {
    "collapsed": true
   },
   "source": [
    "## Gestione file\n",
    "\n",
    "* Creare un file chiamato `pswlist.txt` e, utilizzando la precedente funzione `new_password`, inserirvi 10 password casuali di 8 caratteri, una per riga.\n",
    "\n",
    "\n",
    "* Riaprire il file `pswlist.txt` del punto precedente, leggere le password e riscriverlo ordinando le password in ordine alfabetico.\n",
    "\n",
    "\n",
    "* Generare una nuova password casuale di 8 caratteri, riaprire il file `pswlist.txt` e, tenendo in memoria al massimo due righe, aggiungervi la nuova password rispettando l'ordine alfabetico."
   ]
  },
  {
   "cell_type": "code",
   "execution_count": 25,
   "metadata": {
    "collapsed": true
   },
   "outputs": [],
   "source": [
    "with open('data/pswlist.txt', 'w') as f:\n",
    "    for i in range(10):\n",
    "        f.write(new_password(8)+'\\n')"
   ]
  },
  {
   "cell_type": "code",
   "execution_count": 26,
   "metadata": {},
   "outputs": [
    {
     "name": "stdout",
     "output_type": "stream",
     "text": [
      "VL26$|u-\n",
      "d64j^;J.\n",
      "l)z~$wL3\n",
      "J.WH3\"*n\n",
      "R[6d{^3<\n",
      "HeS:a._6\n",
      "B{fiCp96\n",
      "c6bC[|%8\n",
      "My)r3<M0\n",
      "UB7=Y7r=\n",
      "\n"
     ]
    }
   ],
   "source": [
    "with open('data/pswlist.txt', 'r') as f:\n",
    "    print(f.read())"
   ]
  },
  {
   "cell_type": "code",
   "execution_count": 27,
   "metadata": {
    "collapsed": true
   },
   "outputs": [],
   "source": [
    "with open('data/pswlist.txt', 'r+') as f:\n",
    "    pswlist = f.readlines()\n",
    "    f.seek(0)\n",
    "    for p in sorted(pswlist):\n",
    "        f.write(p)"
   ]
  },
  {
   "cell_type": "code",
   "execution_count": 28,
   "metadata": {},
   "outputs": [
    {
     "name": "stdout",
     "output_type": "stream",
     "text": [
      "B{fiCp96\n",
      "HeS:a._6\n",
      "J.WH3\"*n\n",
      "My)r3<M0\n",
      "R[6d{^3<\n",
      "UB7=Y7r=\n",
      "VL26$|u-\n",
      "c6bC[|%8\n",
      "d64j^;J.\n",
      "l)z~$wL3\n",
      "\n"
     ]
    }
   ],
   "source": [
    "with open('data/pswlist.txt', 'r') as f:\n",
    "    print(f.read())"
   ]
  },
  {
   "cell_type": "code",
   "execution_count": 31,
   "metadata": {},
   "outputs": [
    {
     "name": "stdout",
     "output_type": "stream",
     "text": [
      "newp = W#!5J{33\n",
      "\n"
     ]
    }
   ],
   "source": [
    "newp = new_password(8)+'\\n'\n",
    "print('newp =', newp)\n",
    "with open('data/pswlist.txt', 'r+') as f:\n",
    "    p = f.readline()\n",
    "    while p != '' and p < newp:\n",
    "        p = f.readline()\n",
    "    f.seek(f.tell()-len(p))\n",
    "    f.write(newp)\n",
    "    f.flush()\n",
    "    while p != '':\n",
    "        psucc = f.readline()\n",
    "        f.seek(f.tell()-len(psucc))\n",
    "        f.write(p)\n",
    "        f.flush()\n",
    "        p = psucc"
   ]
  },
  {
   "cell_type": "code",
   "execution_count": 32,
   "metadata": {},
   "outputs": [
    {
     "name": "stdout",
     "output_type": "stream",
     "text": [
      "B{fiCp96\n",
      "HeS:a._6\n",
      "J.WH3\"*n\n",
      "My)r3<M0\n",
      "R[6d{^3<\n",
      "UB7=Y7r=\n",
      "VL26$|u-\n",
      "W#!5J{33\n",
      "c6bC[|%8\n",
      "d64j^;J.\n",
      "l)z~$wL3\n",
      "\n"
     ]
    }
   ],
   "source": [
    "with open('data/pswlist.txt', 'r') as f:\n",
    "    print(f.read())"
   ]
  },
  {
   "cell_type": "markdown",
   "metadata": {},
   "source": [
    "## Robot 2\n",
    "\n",
    "Scrivere una versione a oggetti della soluzione dell'esercizio Robot."
   ]
  },
  {
   "cell_type": "code",
   "execution_count": 33,
   "metadata": {},
   "outputs": [
    {
     "data": {
      "text/plain": [
       "(3, 3)"
      ]
     },
     "execution_count": 33,
     "metadata": {},
     "output_type": "execute_result"
    }
   ],
   "source": [
    "class Robot:\n",
    "    def __init__(self, start=(0,0)):\n",
    "        self.x, self.y = start\n",
    "    \n",
    "    def right(self, steps):\n",
    "        self.x += steps\n",
    "        \n",
    "    def left(self, steps):\n",
    "        self.x -= steps\n",
    "    \n",
    "    def up(self, steps):\n",
    "        self.y += steps\n",
    "        \n",
    "    def down(self, steps):\n",
    "        self.y -= steps\n",
    "        \n",
    "    def get_position(self):\n",
    "        return (self.x, self.y)\n",
    "\n",
    "r = Robot()\n",
    "\n",
    "r.up(5)\n",
    "r.left(1)\n",
    "r.down(2)\n",
    "r.right(4)\n",
    "\n",
    "r.get_position()"
   ]
  },
  {
   "cell_type": "markdown",
   "metadata": {
    "collapsed": true
   },
   "source": [
    "## Conto Corrente\n",
    "\n",
    "Definire la classe `CC` i cui oggetti rappresentano i conti correnti. Si vuole tenere traccia del saldo  di un conto corrente.<br>\n",
    "Un oggetto conto corrente deve consentire di:\n",
    "* tenere traccia del saldo e dei movimenti effettuati\n",
    "* effettuare un prelievo\n",
    "* effettuare un versamento\n",
    "* stampare della lista degli ultimi `n` movimenti.\n",
    "\n",
    "Una volta definita la classe `CC` scrivere un breve frammento di codice per testarne le funzionalità."
   ]
  },
  {
   "cell_type": "code",
   "execution_count": 34,
   "metadata": {},
   "outputs": [
    {
     "name": "stdout",
     "output_type": "stream",
     "text": [
      "Impossibile prelevare: saldo (100) non sufficiente\n",
      "OK. Nuovo saldo = 150\n",
      "OK. Nuovo saldo = 40 \n",
      "\n",
      "Saldo = 40\n",
      "2021-02-01 15:05:05 - Prelievo: 110\n",
      "2021-02-01 15:05:05 - Versamento: 50\n",
      "2021-02-01 15:05:05 - Accensione: 100\n"
     ]
    }
   ],
   "source": [
    "from datetime import datetime\n",
    "\n",
    "class CC:\n",
    "    def __init__(self, x=0):\n",
    "        self.saldo = x\n",
    "        self.movimenti = [(datetime.now(), 'Accensione', x, x)]\n",
    "        \n",
    "    def prelievo(self, x):\n",
    "        if x <= self.saldo:\n",
    "            self.saldo -= x\n",
    "            self.movimenti.append((datetime.now(), 'Prelievo', x, self.saldo))\n",
    "            return f'OK. Nuovo saldo = {self.saldo}'\n",
    "        else:\n",
    "            return f'Impossibile prelevare: saldo ({self.saldo}) non sufficiente'\n",
    "        \n",
    "    def versamento(self, x):\n",
    "        self.saldo += x\n",
    "        self.movimenti.append((datetime.now(), 'Versamento', x, self.saldo))\n",
    "        return f'OK. Nuovo saldo = {self.saldo}'\n",
    "    \n",
    "    def stampa_movimenti(self, n):\n",
    "        print(f'Saldo = {self.saldo}')\n",
    "        for t, d, i, s in self.movimenti[::-1]:\n",
    "            print(f\"{t.strftime('%Y-%m-%d %H:%M:%S')} - {d}: {i}\")\n",
    "    \n",
    "    \n",
    "conto = CC(100)\n",
    "print(conto.prelievo(110))\n",
    "print(conto.versamento(50))\n",
    "print(conto.prelievo(110), '\\n')\n",
    "conto.stampa_movimenti(3)"
   ]
  },
  {
   "cell_type": "markdown",
   "metadata": {},
   "source": [
    "## Lampadine\n",
    "\n",
    "Definire la classe `Lampadina` i cui oggetti rappresentano le normali lampadine elettriche. Una lampadina può essere `accesa`, `spenta` o `rotta`, e mette a disposizione tre metodi:\n",
    "\n",
    "* `funzionante`: che restituisce un valore vero/falso in base al suo stato\n",
    "* `accendi`: che ne cambia lo stato da spenta ad accesa o la rompe\n",
    "* `spegni`: che ne cambia lo stato da accesa a spenta o la rompe\n",
    "\n",
    "Una lampadina si rompe dopo 10000 operazioni di accensione o spegnimento.\n",
    "\n",
    "A partire dalla classe `Lampadina` definire usando l'ereditarietà la classe `LampadinaRegolabile`. Questo tipo di lampadina, oltre alle funzioni della normale lampadina, consente di regolare la sua luminosità, da 20 a 100, attraverso:\n",
    "* un parametro aggiuntivo del metodo `accendi` che imposta il valore iniziale della luminosità dopo l'accenzione\n",
    "* un metodo `varia_luminosita` che modifica la luminosità della lampadina, all'interno dell'intervallo 20 - 100\n",
    "\n",
    "Inoltre la lampadina regolabile dura di meno della normale lampadina e si rompe dopo 5000 accensioni/spegnimenti.\n",
    "\n",
    "Una volta definite le classi `Lampadina` e `LampadinaRegolabile` scrivere un breve frammento di codice per testarne le funzionalità."
   ]
  },
  {
   "cell_type": "code",
   "execution_count": 35,
   "metadata": {},
   "outputs": [
    {
     "name": "stdout",
     "output_type": "stream",
     "text": [
      "La lampadina è spenta\n",
      "La lampadina è accesa con luminosità: 50\n",
      "La lampadina è accesa con luminosità: 90\n",
      "La lampadina è spenta\n",
      "La lampadina è rotta\n"
     ]
    }
   ],
   "source": [
    "class Lampadina:\n",
    "    \n",
    "    def __init__(self):\n",
    "        self.stato = 'spenta'\n",
    "        self.durata = 10000\n",
    "        \n",
    "    def funzionante(self):\n",
    "        return self.stato != 'rotta'\n",
    "    \n",
    "    def accendi(self):\n",
    "        if self.funzionante:\n",
    "            self.durata -= 1\n",
    "            self.stato = 'accesa' if self.durata>0 else 'rotta'\n",
    "            \n",
    "    def spegni(self):\n",
    "        if self.funzionante:\n",
    "            self.durata -= 1\n",
    "            self.stato = 'spenta' if self.durata>0 else 'rotta'\n",
    "            \n",
    "            \n",
    "class LampadinaRegolabile(Lampadina):\n",
    "    \n",
    "    def __init__(self):\n",
    "        super().__init__()\n",
    "        self.durata = 5000\n",
    "        self.luminosita = 0\n",
    "        \n",
    "    def accendi(self, x=50):\n",
    "        super().accendi()\n",
    "        self.varia_luminosita(x)\n",
    "        \n",
    "    def varia_luminosita(self, x):\n",
    "         if self.funzionante and 20 <= x <= 100:\n",
    "            self.luminosita = x\n",
    "\n",
    "\n",
    "l = LampadinaRegolabile()\n",
    "print('La lampadina è', l.stato)\n",
    "\n",
    "l.accendi()\n",
    "print('La lampadina è', l.stato, 'con luminosità:', l.luminosita)\n",
    "\n",
    "l.varia_luminosita(90)\n",
    "print('La lampadina è', l.stato, 'con luminosità:', l.luminosita)\n",
    "\n",
    "l.spegni()\n",
    "print('La lampadina è', l.stato)\n",
    "\n",
    "for i in range(2500):\n",
    "    l.accendi()\n",
    "    l.spegni()\n",
    "    \n",
    "print('La lampadina è', l.stato)"
   ]
  }
 ],
 "metadata": {
  "kernelspec": {
   "display_name": "Python 3",
   "language": "python",
   "name": "python3"
  },
  "language_info": {
   "codemirror_mode": {
    "name": "ipython",
    "version": 3
   },
   "file_extension": ".py",
   "mimetype": "text/x-python",
   "name": "python",
   "nbconvert_exporter": "python",
   "pygments_lexer": "ipython3",
   "version": "3.7.9"
  }
 },
 "nbformat": 4,
 "nbformat_minor": 2
}
