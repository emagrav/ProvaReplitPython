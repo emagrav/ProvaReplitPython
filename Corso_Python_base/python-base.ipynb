{
 "cells": [
  {
   "cell_type": "markdown",
   "metadata": {
    "slideshow": {
     "slide_type": "slide"
    }
   },
   "source": [
    "# PYTHON BASE\n",
    "\n",
    "### Notebook by\n",
    "\n",
    "**Pietro Corte**<br>\n",
    "Divisione Supporto Informatico (IDE)<br>\n",
    "Dipartimento Economia e Statistica (ECS)<br>\n",
    "mailto: pietro.corte@bancaditalia.it"
   ]
  },
  {
   "cell_type": "markdown",
   "metadata": {
    "collapsed": true,
    "slideshow": {
     "slide_type": "slide"
    }
   },
   "source": [
    "# Introduzione\n",
    "\n",
    "## Perché Python?\n",
    "\n",
    "- Facile da imparare, usare, approfondire \n",
    "- Multi-paradigma\n",
    "- Multi-piattaforma\n",
    "- Ricchissimo di librerie\n",
    "\n",
    "Utilizzato in molte grandi realtà del mercato informatico come Google, Youtube e RedHat.\n",
    "\n",
    "La NASA usa Python per lo sviluppo dei sistemi di controllo.\n",
    "\n"
   ]
  },
  {
   "cell_type": "markdown",
   "metadata": {
    "slideshow": {
     "slide_type": "slide"
    }
   },
   "source": [
    "## \"Hello World\" a confronto\n",
    "\n",
    "**Java**\n",
    "```java\n",
    "public class HelloWorld {\n",
    "    public static void main(String[] args) {\n",
    "        System.out.println(\"Hello, world!\");\n",
    "    }\n",
    "}\n",
    "```\n",
    "\n",
    "**C**\n",
    "```c\n",
    "#include <stdio.h>\n",
    "main() {\n",
    "    printf(\"Hello, world!\\n\");\n",
    "}\n",
    "```\n",
    "\n",
    "**Python**\n",
    "```python\n",
    "print(\"Hello, world!\")\n",
    "```\n"
   ]
  },
  {
   "cell_type": "markdown",
   "metadata": {
    "collapsed": true,
    "slideshow": {
     "slide_type": "slide"
    }
   },
   "source": [
    "> \"The joy of coding Python should be in seeing short, concise, readable\n",
    "classes that express a lot of action in a small amount of clear code<br>\n",
    "-- not in reams of trivial code that bores the reader to death\"\n",
    "<br><br>*Guido Van Rossum*."
   ]
  },
  {
   "cell_type": "markdown",
   "metadata": {
    "slideshow": {
     "slide_type": "slide"
    }
   },
   "source": [
    "## Un po' di storia\n",
    "\n",
    "- Creato nel 1991 da Guido Van Rossum\n",
    "- Prende il nome dai Monty Python\n",
    "- Coesistono due versioni: 2 e 3\n",
    "- Le Python Enhancement Proposals ( [PEPS](https://www.python.org/dev/peps) )\n",
    "- La [PEP 8](https://www.python.org/dev/peps/pep-0008): Style Guide for Python Code\n",
    "- La documentazione ufficiale: https://www.python.org/doc\n",
    "\n",
    "\n",
    "### Useremo Python 3!"
   ]
  },
  {
   "cell_type": "markdown",
   "metadata": {
    "slideshow": {
     "slide_type": "slide"
    }
   },
   "source": [
    "# Fondamenti del linguaggio\n",
    "\n",
    "## Python è un linguaggio interpretato\n",
    "\n",
    "Un programma interprete si occupa di analizzare il codice sorgente presenti in comuni file di testo con estensione  `.py`. Se sintatticamente corretto l'interprete esegue il codice presente nel file.\n",
    "\n",
    "L'interprete può anche essere utilizzato in modalità interattiva. In questo caso le istruzioni sono eseguite una a una man mano che l'utente le digita al prompt dell'interprete.\n",
    "\n",
    "In Python, non esiste una fase di compilazione separata, come avviene nei linguaggi compilati (come ad esempio il C), che generi un file eseguibile partendo dal codice sorgente."
   ]
  },
  {
   "cell_type": "markdown",
   "metadata": {
    "slideshow": {
     "slide_type": "slide"
    }
   },
   "source": [
    "## Variabili, espressioni, commenti"
   ]
  },
  {
   "cell_type": "code",
   "execution_count": 1,
   "metadata": {
    "slideshow": {
     "slide_type": "fragment"
    }
   },
   "outputs": [
    {
     "name": "stdout",
     "output_type": "stream",
     "text": [
      "punti = 153.5\n",
      "sufficiente = True\n"
     ]
    }
   ],
   "source": [
    "''' questa porzione di codice contiene\n",
    "    variabili, espressioni e commenti '''\n",
    "\n",
    "x = 101\n",
    "\n",
    "s = 'io sono una stringa'\n",
    "\n",
    "punti = (x/2 + 1)*3 - x%2   # determino il punteggio\n",
    "\n",
    "sufficiente = punti > 150\n",
    "\n",
    "print('punti =', punti)\n",
    "print('sufficiente =', sufficiente)"
   ]
  },
  {
   "cell_type": "markdown",
   "metadata": {
    "slideshow": {
     "slide_type": "slide"
    }
   },
   "source": [
    "## Operatori\n",
    "\n",
    "### Aritmetici\n",
    "```python\n",
    "+   -   *   /   **   //   %\n",
    "```\n",
    "\n",
    "### Di confronto\n",
    "```python\n",
    "==   !=   <   <=   >   >=   in   not in   is   is not    \n",
    "```\n",
    "\n",
    "### Booleani\n",
    "```python\n",
    "not   and   or\n",
    "```\n",
    "\n",
    "### Bit a bit\n",
    "```python\n",
    "~   &   |   <<   >>\n",
    "```"
   ]
  },
  {
   "cell_type": "markdown",
   "metadata": {
    "slideshow": {
     "slide_type": "slide"
    }
   },
   "source": [
    "## Operatore ternario"
   ]
  },
  {
   "cell_type": "code",
   "execution_count": 2,
   "metadata": {
    "collapsed": true,
    "slideshow": {
     "slide_type": "fragment"
    }
   },
   "outputs": [],
   "source": [
    "             # espr1   if    espr2    else    espr3   \n",
    "risultato = 'promosso' if sufficiente else 'bocciato'"
   ]
  },
  {
   "cell_type": "markdown",
   "metadata": {
    "slideshow": {
     "slide_type": "fragment"
    }
   },
   "source": [
    "Il risultato è:\n",
    "- *espr1* se la condizione *espr2* è vera \n",
    "- *espr3* altrimenti\n",
    "\n",
    "E' fortemente consigliato che *espr1* e *espr3* siano sempre dello stesso tipo!\n",
    "\n",
    "Da non confondere con l'*istruzione condizionale*"
   ]
  },
  {
   "cell_type": "markdown",
   "metadata": {
    "slideshow": {
     "slide_type": "slide"
    }
   },
   "source": [
    "## Tipi di dato\n",
    "\n",
    "La valutazione di un espressione produce un ***oggetto*** di un certo ***tipo***.\n",
    "#### I tipi base:"
   ]
  },
  {
   "cell_type": "code",
   "execution_count": 3,
   "metadata": {
    "slideshow": {
     "slide_type": "fragment"
    }
   },
   "outputs": [
    {
     "data": {
      "text/plain": [
       "int"
      ]
     },
     "execution_count": 3,
     "metadata": {},
     "output_type": "execute_result"
    }
   ],
   "source": [
    "# intero\n",
    "type(x)"
   ]
  },
  {
   "cell_type": "code",
   "execution_count": 4,
   "metadata": {
    "slideshow": {
     "slide_type": "fragment"
    }
   },
   "outputs": [
    {
     "data": {
      "text/plain": [
       "str"
      ]
     },
     "execution_count": 4,
     "metadata": {},
     "output_type": "execute_result"
    }
   ],
   "source": [
    "# stringa\n",
    "type(s)"
   ]
  },
  {
   "cell_type": "code",
   "execution_count": 5,
   "metadata": {
    "slideshow": {
     "slide_type": "fragment"
    }
   },
   "outputs": [
    {
     "data": {
      "text/plain": [
       "float"
      ]
     },
     "execution_count": 5,
     "metadata": {},
     "output_type": "execute_result"
    }
   ],
   "source": [
    "# virgola mobile\n",
    "type(punti)"
   ]
  },
  {
   "cell_type": "code",
   "execution_count": 6,
   "metadata": {
    "slideshow": {
     "slide_type": "fragment"
    }
   },
   "outputs": [
    {
     "data": {
      "text/plain": [
       "bool"
      ]
     },
     "execution_count": 6,
     "metadata": {},
     "output_type": "execute_result"
    }
   ],
   "source": [
    "# booleano \n",
    "type(sufficiente)"
   ]
  },
  {
   "cell_type": "markdown",
   "metadata": {
    "slideshow": {
     "slide_type": "slide"
    }
   },
   "source": [
    "<h3> La lista completa dei tipi built-in</h3>\n",
    "\n",
    "<table style=\"margin-left:0 !important\">\n",
    "<thead>\n",
    "<tr>\n",
    "<th style=\"text-align: left\">TIPO</th>\n",
    "<th style=\"text-align: left\">NOME</th>\n",
    "<th style=\"text-align: left\">DESCRIZIONE</th>\n",
    "<th style=\"text-align: left\">ESEMPIO</th>\n",
    "</tr>\n",
    "</thead>\n",
    "<tbody>\n",
    "<tr>\n",
    "<td style=\"text-align: left\">int</td>\n",
    "<td style=\"text-align: left\">Intero</td>\n",
    "<td style=\"text-align: left\">Numero intero</td>\n",
    "<td style=\"text-align: left\">-12, 0, 100, 9999999</td>\n",
    "</tr>\n",
    "<tr>\n",
    "<td style=\"text-align: left\">float</td>\n",
    "<td style=\"text-align: left\">Reale</td>\n",
    "<td style=\"text-align: left\">Numero in virgola mobile</td>\n",
    "<td style=\"text-align: left\">-1.2, 1.1, 5.43e-10, 2.0E110</td>\n",
    "</tr>\n",
    "<tr>\n",
    "<td style=\"text-align: left\">bool</td>\n",
    "<td style=\"text-align: left\">Booleano</td>\n",
    "<td style=\"text-align: left\">Valore vero/falso</td>\n",
    "<td style=\"text-align: left\">True, False</td>\n",
    "</tr>\n",
    "<tr>\n",
    "<td style=\"text-align: left\">complex</td>\n",
    "<td style=\"text-align: left\">Complesso</td>\n",
    "<td style=\"text-align: left\">Numero complesso</td>\n",
    "<td style=\"text-align: left\">1+2j, 1.1+2.3j, 2j</td>\n",
    "</tr>\n",
    "<tr>\n",
    "<td style=\"text-align: left\">str</td>\n",
    "<td style=\"text-align: left\">Stringa</td>\n",
    "<td style=\"text-align: left\">Stringa di testo</td>\n",
    "<td style=\"text-align: left\">'', '''', 'ape', ''l'ape''</td>\n",
    "</tr>\n",
    "<tr>\n",
    "<td style=\"text-align: left\">bytes</td>\n",
    "<td style=\"text-align: left\">Bytes</td>\n",
    "<td style=\"text-align: left\">Sequenza di byte</td>\n",
    "<td style=\"text-align: left\">b'', b'\\x00\\x01\\x02', b'ciao'</td>\n",
    "</tr>\n",
    "<tr>\n",
    "<td style=\"text-align: left\">list</td>\n",
    "<td style=\"text-align: left\">Lista</td>\n",
    "<td style=\"text-align: left\">Sequenza mutabile</td>\n",
    "<td style=\"text-align: left\">[], [1, 1, 2], ['uno', 2, 'tre']</td>\n",
    "</tr>\n",
    "<tr>\n",
    "<td style=\"text-align: left\">tuple</td>\n",
    "<td style=\"text-align: left\">Tupla</td>\n",
    "<td style=\"text-align: left\">Sequenza immutabile</td>\n",
    "<td style=\"text-align: left\">(), (1, 1, 2), ('uno', 2, 'tre')</td>\n",
    "</tr>\n",
    "<tr>\n",
    "<td style=\"text-align: left\">set</td>\n",
    "<td style=\"text-align: left\">Insieme</td>\n",
    "<td style=\"text-align: left\">Insieme di oggetti</td>\n",
    "<td style=\"text-align: left\">{1, 2, 3}, {'uno', 2, 'tre'}</td>\n",
    "</tr>\n",
    "<tr>\n",
    "<td style=\"text-align: left\">dict</td>\n",
    "<td style=\"text-align: left\">Dizionario</td>\n",
    "<td style=\"text-align: left\">Mappa chiave valore</td>\n",
    "<td style=\"text-align: left\">{}, {'uno': 1, 'due': 2, 'tre': 3}</td>\n",
    "</tr>\n",
    "</tbody>\n",
    "</table>"
   ]
  },
  {
   "cell_type": "markdown",
   "metadata": {
    "slideshow": {
     "slide_type": "slide"
    }
   },
   "source": [
    "## None\n",
    "\n",
    "`None` Indica il valore nullo in python. Equivale al `null` del `C` o di `java`.\n",
    "Il valore `None` si può testare con l'operatore `is`."
   ]
  },
  {
   "cell_type": "code",
   "execution_count": 7,
   "metadata": {
    "slideshow": {
     "slide_type": "fragment"
    }
   },
   "outputs": [
    {
     "name": "stdout",
     "output_type": "stream",
     "text": [
      "X è nullo?: True\n"
     ]
    },
    {
     "data": {
      "text/plain": [
       "NoneType"
      ]
     },
     "execution_count": 7,
     "metadata": {},
     "output_type": "execute_result"
    }
   ],
   "source": [
    "X = None\n",
    "print('X è nullo?:', X is None)\n",
    "type(X)"
   ]
  },
  {
   "cell_type": "markdown",
   "metadata": {
    "slideshow": {
     "slide_type": "slide"
    }
   },
   "source": [
    "## Liste\n",
    "\n",
    "Una lista è una sequenza mutabile di oggetti. "
   ]
  },
  {
   "cell_type": "code",
   "execution_count": 8,
   "metadata": {
    "slideshow": {
     "slide_type": "fragment"
    }
   },
   "outputs": [
    {
     "name": "stdout",
     "output_type": "stream",
     "text": [
      "lista1: []\n",
      "lista2: ['due']\n",
      "lista3: [1, 3]\n"
     ]
    }
   ],
   "source": [
    "# inizializzare una lista\n",
    "\n",
    "lista1 = []\n",
    "lista2 = list()\n",
    "lista3 = [3, 'due', 1]\n",
    "\n",
    "# alcuni dei metodi più usati\n",
    "\n",
    "lista2.append('due')\n",
    "lista3.remove('due')\n",
    "lista3.sort()\n",
    "\n",
    "print('lista1:', lista1)\n",
    "print('lista2:', lista2)\n",
    "print('lista3:', lista3)\n"
   ]
  },
  {
   "cell_type": "markdown",
   "metadata": {
    "slideshow": {
     "slide_type": "slide"
    }
   },
   "source": [
    "### Indexing, concatenazione e ripetizione\n",
    "\n",
    "L'indexing consiste nel poter riferire un elemento tramite un indice. Gli indici delle liste iniziano da 0.\n",
    "\n",
    "Le liste (come anche le altre sequenze) possone essere concatenate mediante l'operatore \"+\" e ripetute *n* volte \"moltiplicandole\" per un intero positivo. "
   ]
  },
  {
   "cell_type": "code",
   "execution_count": 9,
   "metadata": {
    "slideshow": {
     "slide_type": "fragment"
    }
   },
   "outputs": [
    {
     "name": "stdout",
     "output_type": "stream",
     "text": [
      "secondo elemento di lista4: 5\n",
      "ultimo elemento di lista4: 1\n"
     ]
    }
   ],
   "source": [
    "# accesso ai singoli elementi per indice\n",
    "\n",
    "lista4 = ['a', 5, 3, 1]\n",
    "\n",
    "print('secondo elemento di lista4:', lista4[1])\n",
    "print('ultimo elemento di lista4:', lista4[-1])"
   ]
  },
  {
   "cell_type": "code",
   "execution_count": 10,
   "metadata": {
    "slideshow": {
     "slide_type": "fragment"
    }
   },
   "outputs": [
    {
     "name": "stdout",
     "output_type": "stream",
     "text": [
      "['bla', 'bla', 'bla', 'è', \"un'omatopea\"]\n"
     ]
    }
   ],
   "source": [
    "# concatenazione e ripetizione\n",
    "\n",
    "frase = 3*['bla'] + ['è', \"un'omatopea\"]\n",
    "print(frase)"
   ]
  },
  {
   "cell_type": "markdown",
   "metadata": {
    "slideshow": {
     "slide_type": "slide"
    }
   },
   "source": [
    "### Slicing\n",
    "\n",
    "Lo slicing è una funzione che restituisce una parte di una sequenza. Ad esempio:"
   ]
  },
  {
   "cell_type": "code",
   "execution_count": 11,
   "metadata": {
    "slideshow": {
     "slide_type": "fragment"
    }
   },
   "outputs": [
    {
     "name": "stdout",
     "output_type": "stream",
     "text": [
      "dal secondo al terzo    -> ['uno', 4]\n",
      "dall'inizio al quarto   -> [1, 'uno', 4, 2]\n",
      "dal quarto alla fine    -> [2, 3]\n",
      "dal terzo al penultimo  -> [4, 2]\n",
      "gli ultimi due elementi -> [2, 3]\n",
      "una copia della lista   -> [1, 'uno', 4, 2, 3]\n",
      "elementi di indice pari -> [1, 4, 3]\n",
      "la lista al contrario   -> [3, 2, 4, 'uno', 1]\n"
     ]
    }
   ],
   "source": [
    "#indici: 0  1      2  3  4\n",
    "lista = [1, 'uno', 4, 2, 3]\n",
    "\n",
    "print('dal secondo al terzo    ->', lista[1:3])\n",
    "print(\"dall'inizio al quarto   ->\", lista[:4])\n",
    "print('dal quarto alla fine    ->', lista[3:])\n",
    "print('dal terzo al penultimo  ->', lista[2:-1])\n",
    "print('gli ultimi due elementi ->', lista[-2:])\n",
    "print('una copia della lista   ->', lista[:])\n",
    "print('elementi di indice pari ->', lista[::2])\n",
    "print('la lista al contrario   ->', lista[::-1])"
   ]
  },
  {
   "cell_type": "markdown",
   "metadata": {
    "slideshow": {
     "slide_type": "slide"
    }
   },
   "source": [
    "## Stringhe\n",
    "\n",
    "Una stringa è una sequenza di caratteri immutabile."
   ]
  },
  {
   "cell_type": "code",
   "execution_count": 12,
   "metadata": {
    "slideshow": {
     "slide_type": "subslide"
    }
   },
   "outputs": [
    {
     "name": "stdout",
     "output_type": "stream",
     "text": [
      "s1: io sono una   stringa\n",
      "s2: ANCH'IO SONO UNA STRINGA\n",
      "s3: anch'io sono una stringa, ma più lunga\n",
      "s4: anch'io sono una stringa, ero su più di una riga\n",
      "s4_tokens: [\"anch'io sono una stringa\", 'ero su più di una riga']\n",
      "s4_rebuilt: anch'io sono una stringa, ero su più di una riga\n",
      "s5: pure io sono una stringa su più di una riga\n"
     ]
    }
   ],
   "source": [
    "s1 = '    io sono una   stringa   '\n",
    "s2 = \"anch'io sono una stringa\"\n",
    "s3 = s2 + ', ma più lunga'\n",
    "s4 = '''anch'io sono una stringa, ma su\n",
    "più di una riga'''\n",
    "s5 = ('pure io sono una stringa su '\n",
    "      'più di una riga')\n",
    "\n",
    "# alcuni dei metodi più comuni\n",
    "s1 = s1.strip()\n",
    "s2 = s2.upper()\n",
    "s4 = s4.replace(\"\\n\", ' ').replace('ma', 'ero')\n",
    "s4_tokens = s4.split(', ')\n",
    "s4_rebuilt = ', '.join(s4_tokens)\n",
    "\n",
    "print('s1:',s1)\n",
    "print('s2:',s2)\n",
    "print('s3:',s3)\n",
    "print('s4:',s4)\n",
    "print('s4_tokens:',s4_tokens)\n",
    "print('s4_rebuilt:', s4_rebuilt)\n",
    "print('s5:',s5)"
   ]
  },
  {
   "cell_type": "markdown",
   "metadata": {
    "slideshow": {
     "slide_type": "slide"
    }
   },
   "source": [
    "Anche le stringhe supportano indexing, concatenazione e ripetizione, slicing."
   ]
  },
  {
   "cell_type": "code",
   "execution_count": 13,
   "metadata": {
    "slideshow": {
     "slide_type": "fragment"
    }
   },
   "outputs": [
    {
     "name": "stdout",
     "output_type": "stream",
     "text": [
      "definizione[0] = è\n",
      "definizione[5:13] = sinonimo\n",
      "capopopolo è un sinonimo di demagogo\n"
     ]
    }
   ],
   "source": [
    "# indexing, concatenazione e ripetizione, slicing\n",
    "\n",
    "definizione = 'è un sinonimo di dema' + 2*'go'\n",
    "termine = 'ca' + 3*'po' + 'lo'\n",
    "\n",
    "print('definizione[0] =', definizione[0])\n",
    "print('definizione[5:13] =', definizione[5:13])\n",
    "print(termine, definizione)"
   ]
  },
  {
   "cell_type": "markdown",
   "metadata": {
    "slideshow": {
     "slide_type": "slide"
    }
   },
   "source": [
    "### Formattazione\n",
    "\n",
    "Spesso è utile inserire valori di variabili all'interno di una stringa.<br>\n",
    "Per far ciò si utilizza il metodo *format*."
   ]
  },
  {
   "cell_type": "code",
   "execution_count": 14,
   "metadata": {
    "slideshow": {
     "slide_type": "fragment"
    }
   },
   "outputs": [
    {
     "name": "stdout",
     "output_type": "stream",
     "text": [
      "Ciao sono Chiara, ho 25 anni e sono alta 1.77\n",
      "Ciao sono Chiara, ho 25 anni e sono alta 1.77\n",
      "Ciao sono Chiara, ho 25 anni e sono alta 1.77\n",
      "Ciao sono Chiara, ho 25 anni e sono alta 1.77\n"
     ]
    }
   ],
   "source": [
    "nome = 'Chiara'\n",
    "anni = 25\n",
    "alta = 1.768\n",
    "\n",
    "msg = 'Ciao sono {}, ho {} anni e sono alta {:.2f}'.format(nome, anni, alta)\n",
    "print(msg)\n",
    "\n",
    "dati = [1.768, 25, 'Chiara']\n",
    "msg = 'Ciao sono {2}, ho {1} anni e sono alta {0:.2f}'.format(*dati)\n",
    "print(msg)\n",
    "\n",
    "# a partire da python 3.6 esistono le f-strings\n",
    "print(f'Ciao sono {nome}, ho {anni} anni e sono alta {alta:.2f}')\n",
    "\n",
    "# vecchio stile\n",
    "msg = 'Ciao sono %s, ho %d anni e sono alta %.2f' % (nome, anni, alta)\n",
    "print(msg)"
   ]
  },
  {
   "cell_type": "markdown",
   "metadata": {
    "collapsed": true,
    "slideshow": {
     "slide_type": "slide"
    }
   },
   "source": [
    "## Tuple\n",
    "\n",
    "Come le liste anche le tuple sono delle sequenze di oggetti, ma sono immutabili.\n",
    "Supportano indexing, concatenazione, ripetizione e slicing."
   ]
  },
  {
   "cell_type": "code",
   "execution_count": 15,
   "metadata": {
    "slideshow": {
     "slide_type": "fragment"
    }
   },
   "outputs": [
    {
     "name": "stdout",
     "output_type": "stream",
     "text": [
      "le occorrenze di 12 sono 2\n",
      "la prima occorrenza di 12 è in posizione 1\n",
      "la seconda occorrenza di 12 è in posizione 4\n"
     ]
    }
   ],
   "source": [
    "# inizializzare una tupla\n",
    "\n",
    "tupla1 = () # serve a poco: le tuple sono immutabili\"\n",
    "tupla2 = ('abc', 12, 3.4, [5, 6, 7], 12)\n",
    "tupla3 = tuple([1, 'due', 3])\n",
    "\n",
    "# alcuni metodi delle tuple\n",
    "\n",
    "occorrenze = tupla2.count(12)\n",
    "posizione1 = tupla2.index(12)\n",
    "posizione2 = tupla2.index(12, posizione1+1)\n",
    "\n",
    "print('le occorrenze di 12 sono', occorrenze)\n",
    "print('la prima occorrenza di 12 è in posizione', posizione1)\n",
    "print('la seconda occorrenza di 12 è in posizione', posizione2)"
   ]
  },
  {
   "cell_type": "markdown",
   "metadata": {
    "slideshow": {
     "slide_type": "slide"
    }
   },
   "source": [
    "## Set e frozenset\n",
    "\n",
    " I set sono usati per rappresentare un insieme non ordinato di oggetti unici.<br>\n",
    " I frozenset sono la versione immutabile dei set."
   ]
  },
  {
   "cell_type": "code",
   "execution_count": 16,
   "metadata": {
    "slideshow": {
     "slide_type": "fragment"
    }
   },
   "outputs": [
    {
     "name": "stdout",
     "output_type": "stream",
     "text": [
      "Primi minori di 10: {2, 3, 5, 7}\n",
      "Unico primo pari:  {2}\n",
      "\"primi_pari\" è contenuto in \"primi\"? True\n"
     ]
    }
   ],
   "source": [
    "# inizializzare un set\n",
    "set1 = set()\n",
    "set2 = frozenset() # come la tupla vuota non serve a molto\n",
    "pari = frozenset((2, 4, 6, 8))\n",
    "primi = {2, 3, 5, 7}\n",
    "\n",
    "# alcuni metodi\n",
    "primi.add(7)    # non ha effetto\n",
    "primi.add(9)    # ops...\n",
    "primi.remove(9)\n",
    "primi_pari = primi.intersection(pari)\n",
    "\n",
    "print('Primi minori di 10:', primi)\n",
    "print('Unico primo pari: ', primi_pari)\n",
    "print('\"primi_pari\" è contenuto in \"primi\"?', primi_pari.issubset(pari))"
   ]
  },
  {
   "cell_type": "markdown",
   "metadata": {
    "slideshow": {
     "slide_type": "slide"
    }
   },
   "source": [
    "## Dizionari\n",
    "\n",
    "Un dizionario è costituito da un insieme di coppie chiave-valore.<br>\n",
    "La chiave deve essere univoca e consente di ottenere instantaneamente il valore ad essa associato.<br>\n",
    "Solitamente la chiave è una stringa, ma può essere utilizzato un qualsiasi altro tipo a patto che sia immutabile."
   ]
  },
  {
   "cell_type": "code",
   "execution_count": 17,
   "metadata": {
    "slideshow": {
     "slide_type": "subslide"
    }
   },
   "outputs": [
    {
     "name": "stdout",
     "output_type": "stream",
     "text": [
      "3 hg equivalgono a 0.300 kg\n",
      "kg_conv = {'g': 0.001, 'dag': 0.01, 'hg': 0.1, 'kg': 1, 'mag': 10, 'q': 100, 't': 1000}\n",
      "um_supportate = dict_keys(['g', 'dag', 'hg', 'kg', 'mag', 'q', 't'])\n"
     ]
    }
   ],
   "source": [
    "# inizializzare un dizionario\n",
    "d1 = {}\n",
    "d2 = dict()\n",
    "kg_conv = {'g': 0.001, 'dag': 0.01, 'hg': 0.1, 'kg': 1, 'mag': 10, 'q': 100}\n",
    "\n",
    "# esempio di utilizzo\n",
    "hg2kg = 3*kg_conv['hg']\n",
    "kg_conv['t'] = 1000\n",
    "\n",
    "print(f\"3 hg equivalgono a {hg2kg:.3f} kg\")\n",
    "print('kg_conv =', kg_conv)\n",
    "print('um_supportate =', kg_conv.keys())"
   ]
  },
  {
   "cell_type": "markdown",
   "metadata": {
    "slideshow": {
     "slide_type": "slide"
    }
   },
   "source": [
    "## Funzioni built-in per le sequenze\n",
    "\n",
    "Di seguito le funzioni più spesso usate nella gestione delle sequenze. Possono essere usate con liste, tuple, stringhe e dizionari. "
   ]
  },
  {
   "cell_type": "code",
   "execution_count": 18,
   "metadata": {
    "slideshow": {
     "slide_type": "fragment"
    }
   },
   "outputs": [
    {
     "name": "stdout",
     "output_type": "stream",
     "text": [
      "{'len': 3, 'max': 5, 'min': 1, 'sorted': [1, 3, 5], 'sum': 9}\n"
     ]
    }
   ],
   "source": [
    "# liste\n",
    "\n",
    "s = [3, 5, 1]\n",
    "d = {'len':len(s), 'max':max(s), 'min':min(s), 'sorted':sorted(s), 'sum':sum(s)}\n",
    "print(d)"
   ]
  },
  {
   "cell_type": "code",
   "execution_count": 19,
   "metadata": {
    "slideshow": {
     "slide_type": "fragment"
    }
   },
   "outputs": [
    {
     "name": "stdout",
     "output_type": "stream",
     "text": [
      "{'len': 4, 'max': 'o', 'min': 'C', 'sorted': ['C', 'a', 'i', 'o'], 'sum': '-'}\n"
     ]
    }
   ],
   "source": [
    "# stringhe\n",
    "\n",
    "s = 'Ciao'\n",
    "d = {'len':len(s), 'max':max(s), 'min':min(s), 'sorted':sorted(s), 'sum':'-'}\n",
    "print(d)"
   ]
  },
  {
   "cell_type": "code",
   "execution_count": 20,
   "metadata": {
    "slideshow": {
     "slide_type": "slide"
    }
   },
   "outputs": [
    {
     "name": "stdout",
     "output_type": "stream",
     "text": [
      "{'len': 5, 'max': 9, 'min': 1, 'sorted': [1, 2, 5, 7, 9], 'sum': 24}\n"
     ]
    }
   ],
   "source": [
    "# tuple\n",
    "\n",
    "s = (2, 9, 7, 1, 5)\n",
    "d = {'len':len(s), 'max':max(s), 'min':min(s), 'sorted':sorted(s), 'sum':sum(s)}\n",
    "print(d)"
   ]
  },
  {
   "cell_type": "code",
   "execution_count": 21,
   "metadata": {
    "slideshow": {
     "slide_type": "fragment"
    }
   },
   "outputs": [
    {
     "name": "stdout",
     "output_type": "stream",
     "text": [
      "{'len': 3, 'max': 'pesca', 'min': 'mela', 'sorted': ['mela', 'pera', 'pesca'], 'sum': '-'}\n"
     ]
    }
   ],
   "source": [
    "# set\n",
    "\n",
    "s = {'pesca', 'mela', 'pera'}\n",
    "d = {'len':len(s), 'max':max(s), 'min':min(s), 'sorted':sorted(s), 'sum':'-'}\n",
    "print(d)"
   ]
  },
  {
   "cell_type": "code",
   "execution_count": 22,
   "metadata": {
    "slideshow": {
     "slide_type": "fragment"
    }
   },
   "outputs": [
    {
     "name": "stdout",
     "output_type": "stream",
     "text": [
      "d: {'len': 3, 'max': 'f', 'min': 'a', 'sorted': ['a', 'c', 'f'], 'sum': '-'}\n"
     ]
    }
   ],
   "source": [
    "# dizionari\n",
    "\n",
    "s = {'c': 1, 'a':2, 'f':3}\n",
    "d = {'len':len(s), 'max':max(s), 'min':min(s), 'sorted':sorted(s), 'sum':'-'}\n",
    "print('d:', d)"
   ]
  },
  {
   "cell_type": "markdown",
   "metadata": {
    "collapsed": true,
    "slideshow": {
     "slide_type": "slide"
    }
   },
   "source": [
    "## Istruzione assegnamento"
   ]
  },
  {
   "cell_type": "code",
   "execution_count": 23,
   "metadata": {
    "collapsed": true,
    "slideshow": {
     "slide_type": "fragment"
    }
   },
   "outputs": [],
   "source": [
    "# variabile   =  espressione\n",
    "mia_variabile = (x + 1)*3 - x**2 + x//25"
   ]
  },
  {
   "cell_type": "markdown",
   "metadata": {
    "slideshow": {
     "slide_type": "fragment"
    }
   },
   "source": [
    "A differenza di altri linguaggi, in Python l'assegnamento consiste semplicemente nell'associare alla variabile (a sinistra del segno \"=\") l'*oggetto* risultante dalla valutazione dell'espressione (a destra del segno \"=\")."
   ]
  },
  {
   "cell_type": "markdown",
   "metadata": {
    "slideshow": {
     "slide_type": "slide"
    }
   },
   "source": [
    "L'assegnamento può anche essere multiplo o utilizzato per estrarre elementi dalle tuple o dalle liste; quest'ultima operazione è detta *unpacking*."
   ]
  },
  {
   "cell_type": "code",
   "execution_count": 24,
   "metadata": {
    "slideshow": {
     "slide_type": "fragment"
    }
   },
   "outputs": [
    {
     "name": "stdout",
     "output_type": "stream",
     "text": [
      "a = 11\n",
      "b = 12\n",
      "nome = Chiara\n",
      "anni = 25\n"
     ]
    }
   ],
   "source": [
    "# assegnamento multiplo\n",
    "i = j = 10\n",
    "a, b = i+1, j+2\n",
    "\n",
    "# assegnamento per unpacking\n",
    "nome, anni, _ = ('Chiara', 25, 1.77)\n",
    "\n",
    "print('a =', a)\n",
    "print('b =', b)\n",
    "print('nome =', nome)\n",
    "print('anni =', anni)"
   ]
  },
  {
   "cell_type": "markdown",
   "metadata": {
    "slideshow": {
     "slide_type": "slide"
    }
   },
   "source": [
    "## Istruzione condizionale"
   ]
  },
  {
   "cell_type": "code",
   "execution_count": 25,
   "metadata": {
    "slideshow": {
     "slide_type": "fragment"
    }
   },
   "outputs": [
    {
     "name": "stdout",
     "output_type": "stream",
     "text": [
      "Dato che il punteggio è 153.5 , l'esito è positivo\n"
     ]
    }
   ],
   "source": [
    "if punti < 100:\n",
    "    esito = 'negativo'\n",
    "elif punti < 150:\n",
    "    esito = 'quasi positivo'\n",
    "elif punti < 200:\n",
    "    esito = 'positivo'\n",
    "else:\n",
    "    lode = True\n",
    "    esito = 'molto positivo'\n",
    "\n",
    "print('Dato che il punteggio è', punti, \", l'esito è\", esito)"
   ]
  },
  {
   "cell_type": "markdown",
   "metadata": {
    "collapsed": true,
    "slideshow": {
     "slide_type": "fragment"
    }
   },
   "source": [
    "Per determinare i blocchi di codice in Python si usa l'indentazione, aggiungendo o togliendo 4 spazi per ogni livello. <br> Va bene anche il tab, l'importante è non utilizzarli entrambi!"
   ]
  },
  {
   "cell_type": "markdown",
   "metadata": {
    "slideshow": {
     "slide_type": "slide"
    }
   },
   "source": [
    "## Indentazione obbligatoria\n",
    "\n",
    "L'obbligatorietà dell'indentazione del codice è una caratteristica particolare del linguaggio Python.\n",
    "\n",
    "In quasi tutti gli altri linguaggi di programmazione i blocchi di codice sono raggruupati usando particolari caratteri (ad esempio le parentesi graffe `{}` di Java) o specifiche istruzioni (come le istruzioni `begin` `end` del Pascal.\n",
    "\n",
    "In Python i caratteri di spaziatura (spazi e tab) all'inizio di una riga, sono utilizzati per determinare il livello di indentazione di questa riga e di conseguenza i blocchi di codice."
   ]
  },
  {
   "cell_type": "markdown",
   "metadata": {
    "slideshow": {
     "slide_type": "slide"
    }
   },
   "source": [
    "## Cicli iterativi\n",
    "\n",
    "In Python esistono due modi per iterare l'esecuzione di un certo blocco di codice:\n",
    "\n",
    "- il ciclo ***for*** : ripete un blocco di codice per ogni elemento di un oggetto iterabile;\n",
    "- il ciclo ***while*** : ripete un blocco di codice fintantoché una condizione è vera."
   ]
  },
  {
   "cell_type": "markdown",
   "metadata": {
    "slideshow": {
     "slide_type": "slide"
    }
   },
   "source": [
    "### Esempi di for"
   ]
  },
  {
   "cell_type": "code",
   "execution_count": 26,
   "metadata": {
    "slideshow": {
     "slide_type": "fragment"
    }
   },
   "outputs": [
    {
     "name": "stdout",
     "output_type": "stream",
     "text": [
      "Il cubo di 1 è: 1\n",
      "Il cubo di 2 è: 8\n",
      "Il cubo di 3 è: 27\n"
     ]
    }
   ],
   "source": [
    "for i in range(1,4):\n",
    "    print('Il cubo di', i, 'è:', i**3)"
   ]
  },
  {
   "cell_type": "code",
   "execution_count": 27,
   "metadata": {
    "slideshow": {
     "slide_type": "fragment"
    }
   },
   "outputs": [
    {
     "name": "stdout",
     "output_type": "stream",
     "text": [
      "Inserisci un numero da 1 a 10: 7\n",
      "Ho indovinato al 4° tentativo!\n"
     ]
    }
   ],
   "source": [
    "import random\n",
    "\n",
    "x = int(input('Inserisci un numero da 1 a 10: '))\n",
    "tentativi = []\n",
    "for i in range(10):\n",
    "    guess = random.randrange(1,11)\n",
    "    if x == guess:\n",
    "        print(f'Ho indovinato al {len(tentativi)+1}° tentativo!')\n",
    "        break    # esco dal ciclo\n",
    "    if guess in tentativi:\n",
    "        continue # vado all'iterazione successiva\n",
    "    tentativi.append(guess)        \n",
    "else:\n",
    "    print('Non sono riuscito a indovinare')\n",
    "        "
   ]
  },
  {
   "cell_type": "markdown",
   "metadata": {
    "collapsed": true,
    "slideshow": {
     "slide_type": "slide"
    }
   },
   "source": [
    "### Esempi di while"
   ]
  },
  {
   "cell_type": "code",
   "execution_count": 28,
   "metadata": {
    "slideshow": {
     "slide_type": "fragment"
    }
   },
   "outputs": [
    {
     "name": "stdout",
     "output_type": "stream",
     "text": [
      "Il cubo di 1 è: 1\n",
      "Il cubo di 2 è: 8\n",
      "Il cubo di 3 è: 27\n"
     ]
    }
   ],
   "source": [
    "i = 1\n",
    "while i < 4:\n",
    "    print('Il cubo di', i, 'è:', i**3)\n",
    "    i+=1"
   ]
  },
  {
   "cell_type": "code",
   "execution_count": 29,
   "metadata": {
    "slideshow": {
     "slide_type": "fragment"
    }
   },
   "outputs": [
    {
     "name": "stdout",
     "output_type": "stream",
     "text": [
      "Inserisci un numero da 1 a 10: 6\n",
      "Ho indovinato al 8° tentativo!\n"
     ]
    }
   ],
   "source": [
    "import random\n",
    "\n",
    "x = int(input('Inserisci un numero da 1 a 10: '))\n",
    "guesses = list(range(1, 11))\n",
    "while len(guesses) > 0:\n",
    "    j = random.randrange(0, len(guesses))\n",
    "    guess = guesses.pop(j)\n",
    "    if x == guess:\n",
    "        print(f'Ho indovinato al {10-len(guesses)}° tentativo!')\n",
    "        break # esco dal ciclo\n",
    "else:\n",
    "    print('Non sono riuscito a indovinare')"
   ]
  },
  {
   "cell_type": "markdown",
   "metadata": {
    "collapsed": true,
    "slideshow": {
     "slide_type": "slide"
    }
   },
   "source": [
    "## Funzioni\n",
    "\n",
    "Le funzioni servono a raggruppare un insieme di istruzioni che eseguono un compito specifico. In questo modo si evita la ripetizione dello stesso codice in più punti del programma rendendolo più ordinato, leggibile, manutenibile e meno incline a errori.\n",
    "\n",
    "Analogamente alle funzioni matematiche, le funzioni accettano in input zero o più argomenti (o parametri) e restituiscono un risultato."
   ]
  },
  {
   "cell_type": "code",
   "execution_count": 30,
   "metadata": {
    "slideshow": {
     "slide_type": "subslide"
    }
   },
   "outputs": [
    {
     "name": "stdout",
     "output_type": "stream",
     "text": [
      "area = 45.47\n"
     ]
    }
   ],
   "source": [
    "import math\n",
    "\n",
    "# definizione di funzione\n",
    "def area_triangolo(a, b, c): # intestazione\n",
    "    \"\"\" calcola l'area di un triangolo a partire dalle misure dei lati \"\"\"\n",
    "    # corpo\n",
    "    p = (a + b + c) / 2\n",
    "    q = p * (p - a) * (p - b) * (p - c)\n",
    "    \n",
    "    if q <= 0:\n",
    "        print('I lati in input non sono quelli di un triangolo!')\n",
    "        return  # resituisce None\n",
    "    \n",
    "    area = math.sqrt(q)\n",
    "    return round(area, 2)\n",
    "\n",
    "x = area_triangolo(13, 7, 15) # chiamata di funzione\n",
    "print('area =', x)"
   ]
  },
  {
   "cell_type": "markdown",
   "metadata": {
    "slideshow": {
     "slide_type": "slide"
    }
   },
   "source": [
    "### La documentazione è fondamentale\n",
    "\n",
    "La stringa che segue l'intestazione della funzione è detta *docstring*. Oltre a commentare ciò che fa la funzione, la *docstring* è il testo che viene mostrato dal comando help dell'interprete python, come anche da ipython digitando il nome della funzione seguito da un punto interrogativo.\n",
    "\n",
    "Le convenzioni sulle docstring, cosa scrivere o cosa non scrivere con degli esempi sono contenuti nella [PEP 257](https://www.python.org/dev/peps/pep-0257).\n",
    "\n",
    "I commenti sono una parte molto importante del codice, non solo come docstring, ma in tutti i punti del codice dove possono essere d'aiuto. Soprattutto in linguaggi compatti e altamente espressivi come Python.\n",
    "\n",
    "Oltre a far comprendere il codice a una persona diversa da quella che lo ha progettato, i commenti sono molto utili anche per chi ha realizzato il codice per poterlo comprendere meglio anche a distanza di tempo. Un codice ben commentato è più manutenibile e riduce la probabilità di introdurre errori nella sua evoluzione durante tutto il suo ciclo di vita."
   ]
  },
  {
   "cell_type": "code",
   "execution_count": 31,
   "metadata": {
    "slideshow": {
     "slide_type": "slide"
    }
   },
   "outputs": [
    {
     "name": "stdout",
     "output_type": "stream",
     "text": [
      "Help on function area_triangolo in module __main__:\n",
      "\n",
      "area_triangolo(a, b, c)\n",
      "    calcola l'area di un triangolo a partire dalle misure dei lati\n",
      "\n"
     ]
    }
   ],
   "source": [
    "help(area_triangolo) # oppure con ipython: area_triangolo?"
   ]
  },
  {
   "cell_type": "markdown",
   "metadata": {
    "slideshow": {
     "slide_type": "slide"
    }
   },
   "source": [
    "### Passaggio dei parametri\n",
    "\n",
    "In Python i parametri sono sempre passati *per riferimento*.\n",
    "Di conseguenza se si modifica un oggetto all'interno di una funzione la modifica permane dopo averla eseguita."
   ]
  },
  {
   "cell_type": "code",
   "execution_count": 32,
   "metadata": {
    "slideshow": {
     "slide_type": "subslide"
    }
   },
   "outputs": [
    {
     "name": "stdout",
     "output_type": "stream",
     "text": [
      "l = []\n",
      "p = 120\n"
     ]
    }
   ],
   "source": [
    "# passaggio per riferimento\n",
    "\n",
    "def produttoria(lista):\n",
    "    ''' moltiplica gli elementi di una lista numerica '''\n",
    "    \n",
    "    if lista is None or len(lista) == 0:\n",
    "        return None\n",
    "    \n",
    "    t = 1\n",
    "    while len(lista) > 0:\n",
    "        t = t * lista.pop()\n",
    "    return t\n",
    "\n",
    "l = [1, 2, 3, 4, 5]\n",
    "p = produttoria(l)\n",
    "\n",
    "print('l =', l)\n",
    "print('p =', p)"
   ]
  },
  {
   "cell_type": "markdown",
   "metadata": {
    "slideshow": {
     "slide_type": "fragment"
    }
   },
   "source": [
    "E' buona regola generale di programmazione evitare quando possibile funzioni di questo tipo e preferire funzioni in cui l'unico valore modificato è quello restituito."
   ]
  },
  {
   "cell_type": "code",
   "execution_count": 33,
   "metadata": {
    "slideshow": {
     "slide_type": "slide"
    }
   },
   "outputs": [
    {
     "name": "stdout",
     "output_type": "stream",
     "text": [
      "l = [1, 2, 3, 4, 5]\n",
      "p = 120\n"
     ]
    }
   ],
   "source": [
    "def produttoria2(lista):\n",
    "    ''' moltiplica gli elementi di una lista numerica '''\n",
    "    \n",
    "    if lista is None or len(lista) == 0:\n",
    "        return None\n",
    "    \n",
    "    t = 1\n",
    "    for e in lista:\n",
    "        t = t * e\n",
    "    return t\n",
    "\n",
    "l = [1, 2, 3, 4, 5]\n",
    "p = produttoria2(l)\n",
    "\n",
    "print('l =', l)\n",
    "print('p =', p)"
   ]
  },
  {
   "cell_type": "markdown",
   "metadata": {
    "collapsed": true,
    "slideshow": {
     "slide_type": "slide"
    }
   },
   "source": [
    "I parametri possono essere passati per posizione o per nome."
   ]
  },
  {
   "cell_type": "code",
   "execution_count": 34,
   "metadata": {
    "slideshow": {
     "slide_type": "fragment"
    }
   },
   "outputs": [
    {
     "name": "stdout",
     "output_type": "stream",
     "text": [
      "3.56\n",
      "3.56\n"
     ]
    }
   ],
   "source": [
    "def cstr(n, d, s):\n",
    "    ''' converte un numero \"n\" in stringa,\n",
    "        formattandolo con \"d\" decimali\n",
    "        e usando il separatore \"s\" '''\n",
    "    \n",
    "    i1 = int(n)\n",
    "    i2 = n - i1 \n",
    "    \n",
    "    if i2 == 0:\n",
    "        return str(i1)\n",
    "    \n",
    "    i2 = int(i2*pow(10,d))\n",
    "    \n",
    "    return str(i1) + s + str(i2)\n",
    "    \n",
    "print(cstr(3.562131, 2, '.'))\n",
    "print(cstr(3.562131, s='.', d=2))"
   ]
  },
  {
   "cell_type": "markdown",
   "metadata": {
    "slideshow": {
     "slide_type": "slide"
    }
   },
   "source": [
    "Il passaggio per nome risulta molto utile quando nella definizione dei parametri ci sono dei valori di default."
   ]
  },
  {
   "cell_type": "code",
   "execution_count": 35,
   "metadata": {
    "slideshow": {
     "slide_type": "fragment"
    }
   },
   "outputs": [
    {
     "name": "stdout",
     "output_type": "stream",
     "text": [
      "3.56\n",
      "3.562\n",
      "3|56\n"
     ]
    }
   ],
   "source": [
    "def cstr(n, d=2, s='.'):\n",
    "    ''' converte un numero \"n\" in stringa,\n",
    "        formattandolo con \"d\" decimali\n",
    "        e usando il separatore \"s\" '''\n",
    "    \n",
    "    i1 = int(n)\n",
    "    i2 = n - i1 \n",
    "    \n",
    "    if i2 == 0:\n",
    "        return str(i1)\n",
    "    \n",
    "    i2 = int(i2*pow(10,d))\n",
    "    \n",
    "    return str(i1) + s + str(i2)\n",
    "    \n",
    "print(cstr(3.562131))\n",
    "print(cstr(3.562131, 3))\n",
    "print(cstr(3.562131, s='|'))"
   ]
  },
  {
   "cell_type": "markdown",
   "metadata": {
    "slideshow": {
     "slide_type": "slide"
    }
   },
   "source": [
    "E' anche possibile definire funzioni che abbiano una lista di parametri variabile, sia posizionali che per nome.<br>\n",
    "Nel caso siano presenti entrambe le tipologie i parametri per nome devono seguire quelli posizionali."
   ]
  },
  {
   "cell_type": "code",
   "execution_count": 36,
   "metadata": {
    "slideshow": {
     "slide_type": "subslide"
    }
   },
   "outputs": [
    {
     "name": "stdout",
     "output_type": "stream",
     "text": [
      "Ciao a tutti, sono Paolo e ho 33 anni\n",
      "Ciao a tutti, sono Maria Laura, ho 35 anni, vengo da Roma e il mio colore preferito è blu\n"
     ]
    }
   ],
   "source": [
    "def presentazione(*nomi, **info):\n",
    "    ''' stampa un messaggio di presentazione '''\n",
    "\n",
    "    msg = 'Ciao a tutti, sono {}'.format(' '.join(nomi))\n",
    "    for k, v in info.items():\n",
    "        if k == 'eta':\n",
    "            msg += f', ho {v} anni'\n",
    "        elif k == 'citta':\n",
    "            msg += f', vengo da {v}'\n",
    "        elif k == 'colore':\n",
    "            msg += f', il mio colore preferito è {v}'\n",
    "    \n",
    "    print(' e'.join(msg.rsplit(',', 1)))\n",
    "        \n",
    "presentazione('Paolo', eta=33)\n",
    "presentazione('Maria', 'Laura', eta=35, citta='Roma', colore='blu')"
   ]
  },
  {
   "cell_type": "markdown",
   "metadata": {
    "collapsed": true,
    "slideshow": {
     "slide_type": "slide"
    }
   },
   "source": [
    "### Scope delle variabili\n",
    "\n",
    "Tutte le variabili create all’interno di una funzione possono essere usate solo dal codice della funzione stessa. Tali variabili sono dette *locali*.\n",
    "\n",
    "Le variabili definite all'esterno della funzione sono invece accessibili anche all'interno della funzione e sono dette *globali*."
   ]
  },
  {
   "cell_type": "code",
   "execution_count": 37,
   "metadata": {
    "slideshow": {
     "slide_type": "slide"
    }
   },
   "outputs": [
    {
     "name": "stdout",
     "output_type": "stream",
     "text": [
      "x = 2.5\n",
      "a = 39.25\n",
      "x = 3\n"
     ]
    },
    {
     "ename": "NameError",
     "evalue": "name 'y' is not defined",
     "output_type": "error",
     "traceback": [
      "\u001b[0;31m---------------------------------------------------------------------------\u001b[0m",
      "\u001b[0;31mNameError\u001b[0m                                 Traceback (most recent call last)",
      "\u001b[0;32m<ipython-input-37-4ae159e70b6f>\u001b[0m in \u001b[0;36m<module>\u001b[0;34m()\u001b[0m\n\u001b[1;32m     13\u001b[0m \u001b[0mprint\u001b[0m\u001b[0;34m(\u001b[0m\u001b[0;34m'a ='\u001b[0m\u001b[0;34m,\u001b[0m \u001b[0ma\u001b[0m\u001b[0;34m)\u001b[0m\u001b[0;34m\u001b[0m\u001b[0m\n\u001b[1;32m     14\u001b[0m \u001b[0mprint\u001b[0m\u001b[0;34m(\u001b[0m\u001b[0;34m'x ='\u001b[0m\u001b[0;34m,\u001b[0m \u001b[0mx\u001b[0m\u001b[0;34m)\u001b[0m\u001b[0;34m\u001b[0m\u001b[0m\n\u001b[0;32m---> 15\u001b[0;31m \u001b[0mprint\u001b[0m\u001b[0;34m(\u001b[0m\u001b[0;34m'y ='\u001b[0m\u001b[0;34m,\u001b[0m \u001b[0my\u001b[0m\u001b[0;34m)\u001b[0m\u001b[0;34m\u001b[0m\u001b[0m\n\u001b[0m",
      "\u001b[0;31mNameError\u001b[0m: name 'y' is not defined"
     ]
    }
   ],
   "source": [
    "PI_GRECO = 3.14\n",
    "\n",
    "def area_ellisse(a1, a2):\n",
    "    ''' calcola l'area di un elisse dati gli assi '''\n",
    "    x = a1 / 2\n",
    "    y = a2 / 2\n",
    "    print('x =', x)\n",
    "    return x * y * PI_GRECO\n",
    "\n",
    "x = 3\n",
    "a = area_ellisse(5, 10)\n",
    "\n",
    "print('a =', a)\n",
    "print('x =', x)\n",
    "print('y =', y)"
   ]
  },
  {
   "cell_type": "markdown",
   "metadata": {
    "slideshow": {
     "slide_type": "slide"
    }
   },
   "source": [
    "### Funzioni ricorsive\n",
    "\n",
    "Una funzione può richiamare altre funzioni e in particolare anche se stessa. In questo caso si parla di funzione *ricorsiva*.\n",
    "\n",
    "Affinchè una funzione ricorsiva termini bisogna che esista una *condizione di terminazione* al verificarsi della quale si è in grado di restituire immediatamente il risultato. Il risultato finale viene calcolato riconducendo progressivamente i parametri iniziali ad una situazione in cui la condizione di terminazione risulta vera.\n",
    "\n",
    "Le ricorsione consente di risolvere dei problemi complessi in poche e semplici linee di codice, ma spesso risulta inefficiente o inapplicabile per l'elevato utilizzo delle risorse del sistema."
   ]
  },
  {
   "cell_type": "code",
   "execution_count": 79,
   "metadata": {
    "slideshow": {
     "slide_type": "slide"
    }
   },
   "outputs": [
    {
     "name": "stdout",
     "output_type": "stream",
     "text": [
      "Fattoriale di 10 = 3628800\n"
     ]
    }
   ],
   "source": [
    "# classico esempio del fattoriale\n",
    "\n",
    "def fatt(x):\n",
    "    return 1 if x<=1 else x*fatt(x-1)\n",
    "\n",
    "print('Fattoriale di 10 =', fatt(10))"
   ]
  },
  {
   "cell_type": "code",
   "execution_count": 80,
   "metadata": {
    "slideshow": {
     "slide_type": "slide"
    }
   },
   "outputs": [
    {
     "ename": "RecursionError",
     "evalue": "maximum recursion depth exceeded in comparison",
     "output_type": "error",
     "traceback": [
      "\u001b[0;31m---------------------------------------------------------------------------\u001b[0m",
      "\u001b[0;31mRecursionError\u001b[0m                            Traceback (most recent call last)",
      "\u001b[0;32m<ipython-input-80-1ce0a1d85cb2>\u001b[0m in \u001b[0;36m<module>\u001b[0;34m()\u001b[0m\n\u001b[0;32m----> 1\u001b[0;31m \u001b[0mprint\u001b[0m\u001b[0;34m(\u001b[0m\u001b[0;34m'Fattoriale di 1000 ='\u001b[0m\u001b[0;34m,\u001b[0m \u001b[0mfatt\u001b[0m\u001b[0;34m(\u001b[0m\u001b[0;36m1000\u001b[0m\u001b[0;34m)\u001b[0m\u001b[0;34m)\u001b[0m\u001b[0;34m\u001b[0m\u001b[0m\n\u001b[0m",
      "\u001b[0;32m<ipython-input-79-0e89979b655a>\u001b[0m in \u001b[0;36mfatt\u001b[0;34m(x)\u001b[0m\n\u001b[1;32m      2\u001b[0m \u001b[0;34m\u001b[0m\u001b[0m\n\u001b[1;32m      3\u001b[0m \u001b[0;32mdef\u001b[0m \u001b[0mfatt\u001b[0m\u001b[0;34m(\u001b[0m\u001b[0mx\u001b[0m\u001b[0;34m)\u001b[0m\u001b[0;34m:\u001b[0m\u001b[0;34m\u001b[0m\u001b[0m\n\u001b[0;32m----> 4\u001b[0;31m     \u001b[0;32mreturn\u001b[0m \u001b[0;36m1\u001b[0m \u001b[0;32mif\u001b[0m \u001b[0mx\u001b[0m\u001b[0;34m<=\u001b[0m\u001b[0;36m1\u001b[0m \u001b[0;32melse\u001b[0m \u001b[0mx\u001b[0m\u001b[0;34m*\u001b[0m\u001b[0mfatt\u001b[0m\u001b[0;34m(\u001b[0m\u001b[0mx\u001b[0m\u001b[0;34m-\u001b[0m\u001b[0;36m1\u001b[0m\u001b[0;34m)\u001b[0m\u001b[0;34m\u001b[0m\u001b[0m\n\u001b[0m\u001b[1;32m      5\u001b[0m \u001b[0;34m\u001b[0m\u001b[0m\n\u001b[1;32m      6\u001b[0m \u001b[0mprint\u001b[0m\u001b[0;34m(\u001b[0m\u001b[0;34m'Fattoriale di 10 ='\u001b[0m\u001b[0;34m,\u001b[0m \u001b[0mfatt\u001b[0m\u001b[0;34m(\u001b[0m\u001b[0;36m10\u001b[0m\u001b[0;34m)\u001b[0m\u001b[0;34m)\u001b[0m\u001b[0;34m\u001b[0m\u001b[0m\n",
      "... last 1 frames repeated, from the frame below ...\n",
      "\u001b[0;32m<ipython-input-79-0e89979b655a>\u001b[0m in \u001b[0;36mfatt\u001b[0;34m(x)\u001b[0m\n\u001b[1;32m      2\u001b[0m \u001b[0;34m\u001b[0m\u001b[0m\n\u001b[1;32m      3\u001b[0m \u001b[0;32mdef\u001b[0m \u001b[0mfatt\u001b[0m\u001b[0;34m(\u001b[0m\u001b[0mx\u001b[0m\u001b[0;34m)\u001b[0m\u001b[0;34m:\u001b[0m\u001b[0;34m\u001b[0m\u001b[0m\n\u001b[0;32m----> 4\u001b[0;31m     \u001b[0;32mreturn\u001b[0m \u001b[0;36m1\u001b[0m \u001b[0;32mif\u001b[0m \u001b[0mx\u001b[0m\u001b[0;34m<=\u001b[0m\u001b[0;36m1\u001b[0m \u001b[0;32melse\u001b[0m \u001b[0mx\u001b[0m\u001b[0;34m*\u001b[0m\u001b[0mfatt\u001b[0m\u001b[0;34m(\u001b[0m\u001b[0mx\u001b[0m\u001b[0;34m-\u001b[0m\u001b[0;36m1\u001b[0m\u001b[0;34m)\u001b[0m\u001b[0;34m\u001b[0m\u001b[0m\n\u001b[0m\u001b[1;32m      5\u001b[0m \u001b[0;34m\u001b[0m\u001b[0m\n\u001b[1;32m      6\u001b[0m \u001b[0mprint\u001b[0m\u001b[0;34m(\u001b[0m\u001b[0;34m'Fattoriale di 10 ='\u001b[0m\u001b[0;34m,\u001b[0m \u001b[0mfatt\u001b[0m\u001b[0;34m(\u001b[0m\u001b[0;36m10\u001b[0m\u001b[0;34m)\u001b[0m\u001b[0;34m)\u001b[0m\u001b[0;34m\u001b[0m\u001b[0m\n",
      "\u001b[0;31mRecursionError\u001b[0m: maximum recursion depth exceeded in comparison"
     ]
    }
   ],
   "source": [
    "print('Fattoriale di 1000 =', fatt(1000))"
   ]
  },
  {
   "cell_type": "code",
   "execution_count": 78,
   "metadata": {
    "slideshow": {
     "slide_type": "slide"
    }
   },
   "outputs": [
    {
     "name": "stdout",
     "output_type": "stream",
     "text": [
      "Fattoriale di 10 = 3628800\n",
      "Fattoriale di 1000 = 402387260077093773543702433923003985719374864210714632543799910429938512398629020592044208486969404800479988610197196058631666872994808558901323829669944590997424504087073759918823627727188732519779505950995276120874975462497043601418278094646496291056393887437886487337119181045825783647849977012476632889835955735432513185323958463075557409114262417474349347553428646576611667797396668820291207379143853719588249808126867838374559731746136085379534524221586593201928090878297308431392844403281231558611036976801357304216168747609675871348312025478589320767169132448426236131412508780208000261683151027341827977704784635868170164365024153691398281264810213092761244896359928705114964975419909342221566832572080821333186116811553615836546984046708975602900950537616475847728421889679646244945160765353408198901385442487984959953319101723355556602139450399736280750137837615307127761926849034352625200015888535147331611702103968175921510907788019393178114194545257223865541461062892187960223838971476088506276862967146674697562911234082439208160153780889893964518263243671616762179168909779911903754031274622289988005195444414282012187361745992642956581746628302955570299024324153181617210465832036786906117260158783520751516284225540265170483304226143974286933061690897968482590125458327168226458066526769958652682272807075781391858178889652208164348344825993266043367660176999612831860788386150279465955131156552036093988180612138558600301435694527224206344631797460594682573103790084024432438465657245014402821885252470935190620929023136493273497565513958720559654228749774011413346962715422845862377387538230483865688976461927383814900140767310446640259899490222221765904339901886018566526485061799702356193897017860040811889729918311021171229845901641921068884387121855646124960798722908519296819372388642614839657382291123125024186649353143970137428531926649875337218940694281434118520158014123344828015051399694290153483077644569099073152433278288269864602789864321139083506217095002597389863554277196742822248757586765752344220207573630569498825087968928162753848863396909959826280956121450994871701244516461260379029309120889086942028510640182154399457156805941872748998094254742173582401063677404595741785160829230135358081840096996372524230560855903700624271243416909004153690105933983835777939410970027753472000000000000000000000000000000000000000000000000000000000000000000000000000000000000000000000000000000000000000000000000000000000000000000000000000000000000000000000000000000000000000000000000000000000000000000000000000000000000000000000000000000000\n"
     ]
    }
   ],
   "source": [
    "def fatt2(x):\n",
    "    r = 1\n",
    "    for i in range(2, x+1):\n",
    "        r *= i\n",
    "    return r\n",
    "\n",
    "print('Fattoriale di 10 =', fatt2(10))\n",
    "print('Fattoriale di 1000 =', fatt2(1000))"
   ]
  },
  {
   "cell_type": "markdown",
   "metadata": {
    "slideshow": {
     "slide_type": "slide"
    }
   },
   "source": [
    "## Comprehension\n",
    "\n",
    "Le *comprehension* permettono di creare rapidamente nuove liste, set, e dizionari partendo da una sequenza di valori esistenti, eventualmente trasformandone gli elementi e filtrandole."
   ]
  },
  {
   "cell_type": "code",
   "execution_count": 1,
   "metadata": {
    "slideshow": {
     "slide_type": "fragment"
    }
   },
   "outputs": [
    {
     "name": "stdout",
     "output_type": "stream",
     "text": [
      "t1 = (3, 4, 1, 4, 5, 1, 8, 6)\n",
      "l1 = [27, 64, 1, 64, 125, 1, 512, 216]\n",
      "l2 = [64, 64, 512, 216]\n",
      "s1 = {64, 512, 216}\n",
      "d1 = {'Cubo di 4': 64, 'Cubo di 8': 512, 'Cubo di 6': 216}\n"
     ]
    }
   ],
   "source": [
    "t1 = (3, 4, 1, 4, 5, 1, 8, 6)\n",
    "l1 = [x**3 for x in t1]\n",
    "l2 = [x**3 for x in t1 if x%2 == 0]\n",
    "s1 = {x**3 for x in t1 if x%2 == 0}\n",
    "d1 = {f'Cubo di {x}': x**3 for x in t1 if x%2 == 0}\n",
    "\n",
    "print('t1 =', t1)\n",
    "print('l1 =', l1)\n",
    "print('l2 =', l2)\n",
    "print('s1 =', s1)\n",
    "print('d1 =', d1)"
   ]
  },
  {
   "cell_type": "markdown",
   "metadata": {
    "slideshow": {
     "slide_type": "slide"
    }
   },
   "source": [
    "## Map e Filter\n",
    "\n",
    "In Python ci sono due funzioni bult-in che possono svolgere un ruolo simile alle comprehension, che si rifanno a dei costrutti tipici della programmazione funzionale."
   ]
  },
  {
   "cell_type": "code",
   "execution_count": 39,
   "metadata": {
    "slideshow": {
     "slide_type": "slide"
    }
   },
   "outputs": [
    {
     "name": "stdout",
     "output_type": "stream",
     "text": [
      "t1 = (3, 4, 1, 4, 5, 1, 8, 6)\n",
      "l1 = [27, 64, 1, 64, 125, 1, 512, 216]\n",
      "l2 = [64, 64, 512, 216]\n",
      "s1 = {64, 512, 216}\n",
      "d1 = {'Cubo di 4': 64, 'Cubo di 8': 512, 'Cubo di 6': 216}\n"
     ]
    }
   ],
   "source": [
    "def cubo(x):\n",
    "    return x**3\n",
    "\n",
    "def pari(x):\n",
    "    return x%2 == 0\n",
    "\n",
    "def kv(x):\n",
    "    return (f'Cubo di {x}', cubo(x))\n",
    "\n",
    "t1 = (3, 4, 1, 4, 5, 1, 8, 6)\n",
    "l1 = list(map(cubo, t1))\n",
    "l2 = list(map(cubo, filter(pari, t1)))\n",
    "s1 = set(map(cubo, filter(pari, t1)))\n",
    "d1 = dict(map(kv, filter(pari, t1)))\n",
    "\n",
    "print('t1 =', t1)\n",
    "print('l1 =', l1)\n",
    "print('l2 =', l2)\n",
    "print('s1 =', s1)\n",
    "print('d1 =', d1)"
   ]
  },
  {
   "cell_type": "markdown",
   "metadata": {
    "slideshow": {
     "slide_type": "slide"
    }
   },
   "source": [
    "## Funzioni lambda\n",
    "\n",
    "Le funzioni *lambda* sono delle funzioni anonime, che possono essere definite e utilizzate \"al volo\"."
   ]
  },
  {
   "cell_type": "code",
   "execution_count": 40,
   "metadata": {
    "slideshow": {
     "slide_type": "fragment"
    }
   },
   "outputs": [
    {
     "name": "stdout",
     "output_type": "stream",
     "text": [
      "t1 = (3, 4, 1, 4, 5, 1, 8, 6)\n",
      "l1 = [27, 64, 1, 64, 125, 1, 512, 216]\n",
      "l2 = [64, 64, 512, 216]\n",
      "s1 = {64, 512, 216}\n",
      "d1 = {'Cubo di 4': 64, 'Cubo di 8': 512, 'Cubo di 6': 216}\n"
     ]
    }
   ],
   "source": [
    "t1 = (3, 4, 1, 4, 5, 1, 8, 6)\n",
    "l1 = list(map(lambda x: x**3, t1))\n",
    "l2 = list(map(lambda x: x**3, filter(lambda x: x%2==0, t1)))\n",
    "s1 = set(map(lambda x: x**3, filter(lambda x: x%2==0, t1)))\n",
    "d1 = dict(map(lambda x: (f'Cubo di {x}', x**3), filter(lambda x: x%2==0, t1)))\n",
    "\n",
    "print('t1 =', t1)\n",
    "print('l1 =', l1)\n",
    "print('l2 =', l2)\n",
    "print('s1 =', s1)\n",
    "print('d1 =', d1)"
   ]
  },
  {
   "cell_type": "markdown",
   "metadata": {
    "collapsed": true,
    "slideshow": {
     "slide_type": "slide"
    }
   },
   "source": [
    "## Le eccezioni\n",
    "\n",
    "Quando in un programma si verifica un errore viene generata un'*eccezione*.<br>\n",
    "Le eccezioni si propagano dal blocco di codice dove si verifica verso il blocco di codice o funzione più esterna.<br>\n",
    "Se un'eccezione si propaga fino al modulo principale senza essere gestita causa l'arresto del programma."
   ]
  },
  {
   "cell_type": "code",
   "execution_count": 41,
   "metadata": {
    "slideshow": {
     "slide_type": "slide"
    }
   },
   "outputs": [
    {
     "name": "stdout",
     "output_type": "stream",
     "text": [
      "x = 1.5\n"
     ]
    }
   ],
   "source": [
    "def somma(x, y):\n",
    "    s = x + y + (x-2)/(x-2) - 1\n",
    "    return s\n",
    "\n",
    "def moltiplica(x, y):\n",
    "    t = 0\n",
    "    for i in range(0, x):\n",
    "        t = somma(t, y)\n",
    "    return t\n",
    "\n",
    "def dividi(x, y):\n",
    "    i = 1 / y\n",
    "    return moltiplica(x, i)\n",
    "    \n",
    "x = dividi(3, 2)\n",
    "print('x =', x)"
   ]
  },
  {
   "cell_type": "code",
   "execution_count": 42,
   "metadata": {
    "slideshow": {
     "slide_type": "slide"
    }
   },
   "outputs": [
    {
     "ename": "ZeroDivisionError",
     "evalue": "division by zero",
     "output_type": "error",
     "traceback": [
      "\u001b[0;31m---------------------------------------------------------------------------\u001b[0m",
      "\u001b[0;31mZeroDivisionError\u001b[0m                         Traceback (most recent call last)",
      "\u001b[0;32m<ipython-input-42-7d59493be878>\u001b[0m in \u001b[0;36m<module>\u001b[0;34m()\u001b[0m\n\u001b[0;32m----> 1\u001b[0;31m \u001b[0mdividi\u001b[0m\u001b[0;34m(\u001b[0m\u001b[0;36m3\u001b[0m\u001b[0;34m,\u001b[0m \u001b[0;36m0\u001b[0m\u001b[0;34m)\u001b[0m\u001b[0;34m\u001b[0m\u001b[0m\n\u001b[0m",
      "\u001b[0;32m<ipython-input-41-7c085e2b4c97>\u001b[0m in \u001b[0;36mdividi\u001b[0;34m(x, y)\u001b[0m\n\u001b[1;32m     10\u001b[0m \u001b[0;34m\u001b[0m\u001b[0m\n\u001b[1;32m     11\u001b[0m \u001b[0;32mdef\u001b[0m \u001b[0mdividi\u001b[0m\u001b[0;34m(\u001b[0m\u001b[0mx\u001b[0m\u001b[0;34m,\u001b[0m \u001b[0my\u001b[0m\u001b[0;34m)\u001b[0m\u001b[0;34m:\u001b[0m\u001b[0;34m\u001b[0m\u001b[0m\n\u001b[0;32m---> 12\u001b[0;31m     \u001b[0mi\u001b[0m \u001b[0;34m=\u001b[0m \u001b[0;36m1\u001b[0m \u001b[0;34m/\u001b[0m \u001b[0my\u001b[0m\u001b[0;34m\u001b[0m\u001b[0m\n\u001b[0m\u001b[1;32m     13\u001b[0m     \u001b[0;32mreturn\u001b[0m \u001b[0mmoltiplica\u001b[0m\u001b[0;34m(\u001b[0m\u001b[0mx\u001b[0m\u001b[0;34m,\u001b[0m \u001b[0mi\u001b[0m\u001b[0;34m)\u001b[0m\u001b[0;34m\u001b[0m\u001b[0m\n\u001b[1;32m     14\u001b[0m \u001b[0;34m\u001b[0m\u001b[0m\n",
      "\u001b[0;31mZeroDivisionError\u001b[0m: division by zero"
     ]
    }
   ],
   "source": [
    "dividi(3, 0)"
   ]
  },
  {
   "cell_type": "code",
   "execution_count": 43,
   "metadata": {
    "slideshow": {
     "slide_type": "slide"
    }
   },
   "outputs": [
    {
     "ename": "ZeroDivisionError",
     "evalue": "float division by zero",
     "output_type": "error",
     "traceback": [
      "\u001b[0;31m---------------------------------------------------------------------------\u001b[0m",
      "\u001b[0;31mZeroDivisionError\u001b[0m                         Traceback (most recent call last)",
      "\u001b[0;32m<ipython-input-43-230043917b05>\u001b[0m in \u001b[0;36m<module>\u001b[0;34m()\u001b[0m\n\u001b[0;32m----> 1\u001b[0;31m \u001b[0mdividi\u001b[0m\u001b[0;34m(\u001b[0m\u001b[0;36m5\u001b[0m\u001b[0;34m,\u001b[0m \u001b[0;36m2\u001b[0m\u001b[0;34m)\u001b[0m\u001b[0;34m\u001b[0m\u001b[0m\n\u001b[0m",
      "\u001b[0;32m<ipython-input-41-7c085e2b4c97>\u001b[0m in \u001b[0;36mdividi\u001b[0;34m(x, y)\u001b[0m\n\u001b[1;32m     11\u001b[0m \u001b[0;32mdef\u001b[0m \u001b[0mdividi\u001b[0m\u001b[0;34m(\u001b[0m\u001b[0mx\u001b[0m\u001b[0;34m,\u001b[0m \u001b[0my\u001b[0m\u001b[0;34m)\u001b[0m\u001b[0;34m:\u001b[0m\u001b[0;34m\u001b[0m\u001b[0m\n\u001b[1;32m     12\u001b[0m     \u001b[0mi\u001b[0m \u001b[0;34m=\u001b[0m \u001b[0;36m1\u001b[0m \u001b[0;34m/\u001b[0m \u001b[0my\u001b[0m\u001b[0;34m\u001b[0m\u001b[0m\n\u001b[0;32m---> 13\u001b[0;31m     \u001b[0;32mreturn\u001b[0m \u001b[0mmoltiplica\u001b[0m\u001b[0;34m(\u001b[0m\u001b[0mx\u001b[0m\u001b[0;34m,\u001b[0m \u001b[0mi\u001b[0m\u001b[0;34m)\u001b[0m\u001b[0;34m\u001b[0m\u001b[0m\n\u001b[0m\u001b[1;32m     14\u001b[0m \u001b[0;34m\u001b[0m\u001b[0m\n\u001b[1;32m     15\u001b[0m \u001b[0mx\u001b[0m \u001b[0;34m=\u001b[0m \u001b[0mdividi\u001b[0m\u001b[0;34m(\u001b[0m\u001b[0;36m3\u001b[0m\u001b[0;34m,\u001b[0m \u001b[0;36m2\u001b[0m\u001b[0;34m)\u001b[0m\u001b[0;34m\u001b[0m\u001b[0m\n",
      "\u001b[0;32m<ipython-input-41-7c085e2b4c97>\u001b[0m in \u001b[0;36mmoltiplica\u001b[0;34m(x, y)\u001b[0m\n\u001b[1;32m      6\u001b[0m     \u001b[0mt\u001b[0m \u001b[0;34m=\u001b[0m \u001b[0;36m0\u001b[0m\u001b[0;34m\u001b[0m\u001b[0m\n\u001b[1;32m      7\u001b[0m     \u001b[0;32mfor\u001b[0m \u001b[0mi\u001b[0m \u001b[0;32min\u001b[0m \u001b[0mrange\u001b[0m\u001b[0;34m(\u001b[0m\u001b[0;36m0\u001b[0m\u001b[0;34m,\u001b[0m \u001b[0mx\u001b[0m\u001b[0;34m)\u001b[0m\u001b[0;34m:\u001b[0m\u001b[0;34m\u001b[0m\u001b[0m\n\u001b[0;32m----> 8\u001b[0;31m         \u001b[0mt\u001b[0m \u001b[0;34m=\u001b[0m \u001b[0msomma\u001b[0m\u001b[0;34m(\u001b[0m\u001b[0mt\u001b[0m\u001b[0;34m,\u001b[0m \u001b[0my\u001b[0m\u001b[0;34m)\u001b[0m\u001b[0;34m\u001b[0m\u001b[0m\n\u001b[0m\u001b[1;32m      9\u001b[0m     \u001b[0;32mreturn\u001b[0m \u001b[0mt\u001b[0m\u001b[0;34m\u001b[0m\u001b[0m\n\u001b[1;32m     10\u001b[0m \u001b[0;34m\u001b[0m\u001b[0m\n",
      "\u001b[0;32m<ipython-input-41-7c085e2b4c97>\u001b[0m in \u001b[0;36msomma\u001b[0;34m(x, y)\u001b[0m\n\u001b[1;32m      1\u001b[0m \u001b[0;32mdef\u001b[0m \u001b[0msomma\u001b[0m\u001b[0;34m(\u001b[0m\u001b[0mx\u001b[0m\u001b[0;34m,\u001b[0m \u001b[0my\u001b[0m\u001b[0;34m)\u001b[0m\u001b[0;34m:\u001b[0m\u001b[0;34m\u001b[0m\u001b[0m\n\u001b[0;32m----> 2\u001b[0;31m     \u001b[0ms\u001b[0m \u001b[0;34m=\u001b[0m \u001b[0mx\u001b[0m \u001b[0;34m+\u001b[0m \u001b[0my\u001b[0m \u001b[0;34m+\u001b[0m \u001b[0;34m(\u001b[0m\u001b[0mx\u001b[0m\u001b[0;34m-\u001b[0m\u001b[0;36m2\u001b[0m\u001b[0;34m)\u001b[0m\u001b[0;34m/\u001b[0m\u001b[0;34m(\u001b[0m\u001b[0mx\u001b[0m\u001b[0;34m-\u001b[0m\u001b[0;36m2\u001b[0m\u001b[0;34m)\u001b[0m \u001b[0;34m-\u001b[0m \u001b[0;36m1\u001b[0m\u001b[0;34m\u001b[0m\u001b[0m\n\u001b[0m\u001b[1;32m      3\u001b[0m     \u001b[0;32mreturn\u001b[0m \u001b[0ms\u001b[0m\u001b[0;34m\u001b[0m\u001b[0m\n\u001b[1;32m      4\u001b[0m \u001b[0;34m\u001b[0m\u001b[0m\n\u001b[1;32m      5\u001b[0m \u001b[0;32mdef\u001b[0m \u001b[0mmoltiplica\u001b[0m\u001b[0;34m(\u001b[0m\u001b[0mx\u001b[0m\u001b[0;34m,\u001b[0m \u001b[0my\u001b[0m\u001b[0;34m)\u001b[0m\u001b[0;34m:\u001b[0m\u001b[0;34m\u001b[0m\u001b[0m\n",
      "\u001b[0;31mZeroDivisionError\u001b[0m: float division by zero"
     ]
    }
   ],
   "source": [
    "dividi(5, 2)"
   ]
  },
  {
   "cell_type": "markdown",
   "metadata": {
    "slideshow": {
     "slide_type": "slide"
    }
   },
   "source": [
    "### Gestire le eccezioni\n",
    "\n",
    "Le eccezioni possono essere catturate e gestitite utilzzando il costrutto **try / except**."
   ]
  },
  {
   "cell_type": "code",
   "execution_count": 82,
   "metadata": {
    "slideshow": {
     "slide_type": "fragment"
    }
   },
   "outputs": [
    {
     "name": "stdout",
     "output_type": "stream",
     "text": [
      "Iterazione n.1: t = 0.5\n",
      "Iterazione n.2: t = 1.0\n",
      "Iterazione n.3: t = 1.5\n",
      "Iterazione n.4: t = 2.0\n",
      "La funzione somma va in errore per x = 2.0\n",
      "Iterazione n.5: t = 2.5\n",
      "dividi(5, 2) = 2.5\n"
     ]
    }
   ],
   "source": [
    "# gestione dell'eccezione\n",
    "\n",
    "def moltiplica(x, y):\n",
    "    t = 0\n",
    "    for i in range(0, x):\n",
    "        try:\n",
    "            t = somma(t, y)\n",
    "        except:\n",
    "            print(f'La funzione somma va in errore per x = {t}')\n",
    "            t = t + y\n",
    "        finally:\n",
    "            print(f'Iterazione n.{i+1}: t = {t}')\n",
    "    return t\n",
    "\n",
    "print('dividi(5, 2) =', dividi(5, 2))"
   ]
  },
  {
   "cell_type": "code",
   "execution_count": 45,
   "metadata": {
    "slideshow": {
     "slide_type": "slide"
    }
   },
   "outputs": [
    {
     "name": "stdout",
     "output_type": "stream",
     "text": [
      "Parametri non validi\n",
      "Impossibile eseguire il calcolo: valore troppo grande\n",
      "Errore: 0.0 cannot be raised to a negative power\n",
      "Il risultato è 2350988701644575015937473074444491355637331113544175043017503412556834518909454345703125\n"
     ]
    }
   ],
   "source": [
    "# gestire diverse eccezioni\n",
    "\n",
    "def potenza(x, y):\n",
    "    try:\n",
    "        r = x**y\n",
    "    except TypeError:\n",
    "        print('Parametri non validi')\n",
    "    except OverflowError:\n",
    "        print('Impossibile eseguire il calcolo: valore troppo grande')\n",
    "    except Exception as e:\n",
    "        print(\"Errore:\", e)\n",
    "    else:\n",
    "        print('Il risultato è', r)\n",
    "        \n",
    "potenza(2.1, 'a')\n",
    "potenza(2.1, 999)\n",
    "potenza(0, -1)\n",
    "potenza(5, 125)"
   ]
  },
  {
   "cell_type": "markdown",
   "metadata": {
    "slideshow": {
     "slide_type": "slide"
    }
   },
   "source": [
    "### Sollevare un'eccezione\n",
    "\n",
    "Le eccezioni possono essere sollevate intenzionalmente mediante l'istruzione **raise**."
   ]
  },
  {
   "cell_type": "code",
   "execution_count": 46,
   "metadata": {
    "slideshow": {
     "slide_type": "subslide"
    }
   },
   "outputs": [
    {
     "name": "stdout",
     "output_type": "stream",
     "text": [
      "Il risultato è 2350988701644575015937473074444491355637331113544175043017503412556834518909454345703125\n"
     ]
    }
   ],
   "source": [
    "# lanciare intenzionalmente un'eccezione\n",
    "\n",
    "def potenza(x, y):\n",
    "    accepted_types = {int, float}\n",
    "    if type(x) not in accepted_types:\n",
    "        raise TypeError(f'Parametro non valido: {x}')\n",
    "    if type(y) not in accepted_types:\n",
    "        raise TypeError(f'Parametro non valido: {y}')\n",
    "    \n",
    "    try:\n",
    "        r = x**y\n",
    "    except Exception as e:\n",
    "        print(\"Errore:\", e)\n",
    "    else:\n",
    "        print('Il risultato è', r)\n",
    "\n",
    "potenza(5, 125)"
   ]
  },
  {
   "cell_type": "code",
   "execution_count": 47,
   "metadata": {
    "slideshow": {
     "slide_type": "slide"
    }
   },
   "outputs": [
    {
     "ename": "TypeError",
     "evalue": "Parametro non valido: a",
     "output_type": "error",
     "traceback": [
      "\u001b[0;31m---------------------------------------------------------------------------\u001b[0m",
      "\u001b[0;31mTypeError\u001b[0m                                 Traceback (most recent call last)",
      "\u001b[0;32m<ipython-input-47-2fd0751ead19>\u001b[0m in \u001b[0;36m<module>\u001b[0;34m()\u001b[0m\n\u001b[0;32m----> 1\u001b[0;31m \u001b[0mpotenza\u001b[0m\u001b[0;34m(\u001b[0m\u001b[0;36m2.1\u001b[0m\u001b[0;34m,\u001b[0m \u001b[0;34m'a'\u001b[0m\u001b[0;34m)\u001b[0m\u001b[0;34m\u001b[0m\u001b[0m\n\u001b[0m",
      "\u001b[0;32m<ipython-input-46-cbb0486df26b>\u001b[0m in \u001b[0;36mpotenza\u001b[0;34m(x, y)\u001b[0m\n\u001b[1;32m      6\u001b[0m         \u001b[0;32mraise\u001b[0m \u001b[0mTypeError\u001b[0m\u001b[0;34m(\u001b[0m\u001b[0;34mf'Parametro non valido: {x}'\u001b[0m\u001b[0;34m)\u001b[0m\u001b[0;34m\u001b[0m\u001b[0m\n\u001b[1;32m      7\u001b[0m     \u001b[0;32mif\u001b[0m \u001b[0mtype\u001b[0m\u001b[0;34m(\u001b[0m\u001b[0my\u001b[0m\u001b[0;34m)\u001b[0m \u001b[0;32mnot\u001b[0m \u001b[0;32min\u001b[0m \u001b[0maccepted_types\u001b[0m\u001b[0;34m:\u001b[0m\u001b[0;34m\u001b[0m\u001b[0m\n\u001b[0;32m----> 8\u001b[0;31m         \u001b[0;32mraise\u001b[0m \u001b[0mTypeError\u001b[0m\u001b[0;34m(\u001b[0m\u001b[0;34mf'Parametro non valido: {y}'\u001b[0m\u001b[0;34m)\u001b[0m\u001b[0;34m\u001b[0m\u001b[0m\n\u001b[0m\u001b[1;32m      9\u001b[0m \u001b[0;34m\u001b[0m\u001b[0m\n\u001b[1;32m     10\u001b[0m     \u001b[0;32mtry\u001b[0m\u001b[0;34m:\u001b[0m\u001b[0;34m\u001b[0m\u001b[0m\n",
      "\u001b[0;31mTypeError\u001b[0m: Parametro non valido: a"
     ]
    }
   ],
   "source": [
    "potenza(2.1, 'a')"
   ]
  },
  {
   "cell_type": "markdown",
   "metadata": {
    "collapsed": true,
    "slideshow": {
     "slide_type": "slide"
    }
   },
   "source": [
    "## Gestione dei file\n",
    "\n",
    "Per interagire col file system python fornisce la funzione `open` che consente di accedere a un file secondo diverse modalità:\n",
    "\n",
    "<table align=\"left\">\n",
    "<tr>\n",
    "<th style=\"text-align: left\">Modalità</th>\n",
    "<th style=\"text-align: left\">Descrizione</th>\n",
    "</tr>\n",
    "<tr>\n",
    "<td style=\"text-align: left\"><code>'r'</code></td>\n",
    "<td style=\"text-align: left\">Apre un file di testo in lettura. Modo di apertura di default dei file.</td>\n",
    "</tr>\n",
    "<tr>\n",
    "<td style=\"text-align: left\"><code>'w'</code></td>\n",
    "<td style=\"text-align: left\">Apre un file di testo in scrittura.  Se il file non esiste lo crea, altrimenti ne cancella il contenuto.</td>\n",
    "</tr>\n",
    "<tr>\n",
    "<td style=\"text-align: left\"><code>'a'</code></td>\n",
    "<td style=\"text-align: left\">Apre un file di testo in <em>append</em>.  Il contenuto viene scritto alla fine del file, senza modificare il contenuto esistente.</td>\n",
    "</tr>\n",
    "<tr>\n",
    "<td style=\"text-align: left\"><code>'x'</code></td>\n",
    "<td style=\"text-align: left\">Apre un file di testo in creazione esclusiva.  Se il file non esiste, restituisce un errore, altrimenti apre in scrittura cancellandone il contenuto.</td>\n",
    "</tr>\n",
    "<tr>\n",
    "<td style=\"text-align: left\"><code>'r+'</code></td>\n",
    "<td style=\"text-align: left\">Apre un file di testo in modifica. Permette di leggere e scrivere.</td>\n",
    "</tr>\n",
    "<tr>\n",
    "<td style=\"text-align: left\"><code>'w+'</code></td>\n",
    "<td style=\"text-align: left\">Apre un file di testo in modifica.  Permette di leggere e scrivere e cancella il contenuto del file.</td>\n",
    "</tr>\n",
    "</table> "
   ]
  },
  {
   "cell_type": "markdown",
   "metadata": {
    "slideshow": {
     "slide_type": "slide"
    }
   },
   "source": [
    "Queste modalità valgono per i file di testo. Per i file binari per ciascuna modalità bisogna aggiungere la lettera *b* alla fine.\n",
    "\n",
    "La funzione `open` restituisce un oggetto file che ci consente di eseguire le funzioni per accedere ai dati contenuti e modificarli."
   ]
  },
  {
   "cell_type": "markdown",
   "metadata": {
    "collapsed": true,
    "slideshow": {
     "slide_type": "slide"
    }
   },
   "source": [
    "<table align=\"left\">\n",
    "<tr>\n",
    "<th style=\"text-align: left\">Metodo</th>\n",
    "<th style=\"text-align: left\">Descrizione</th>\n",
    "</tr>\n",
    "<tr>\n",
    "<td style=\"text-align: left\"><code>file.read()</code></td>\n",
    "<td style=\"text-align: left\">Legge e restituisce l’intero contenuto del file come una singola stringa.</td>\n",
    "</tr>\n",
    "<tr>\n",
    "<td style=\"text-align: left\"><code>file.read(n)</code></td>\n",
    "<td style=\"text-align: left\">Legge e restituisce <code>n</code> caratteri (o byte).</td>\n",
    "</tr>\n",
    "<tr>\n",
    "<td style=\"text-align: left\"><code>file.readline()</code></td>\n",
    "<td style=\"text-align: left\">Legge e restituisce una riga del file.</td>\n",
    "</tr>\n",
    "<tr>\n",
    "<td style=\"text-align: left\"><code>file.readlines()</code></td>\n",
    "<td style=\"text-align: left\">Legge e restuisce l’intero contenuto del file come lista di righe (stringhe).</td>\n",
    "</tr>\n",
    "<tr>\n",
    "<td style=\"text-align: left\"><code>file.write(s)</code></td>\n",
    "<td style=\"text-align: left\">Scrive nel file la stringa <code>s</code> e ritorna il numero di caratteri (o byte) scritti.</td>\n",
    "</tr>\n",
    "<tr>\n",
    "<td style=\"text-align: left\"><code>file.writelines(lines)</code></td>\n",
    "<td style=\"text-align: left\">Scrive nel file la lista in righe <code>lines</code>.</td>\n",
    "</tr>\n",
    "<tr>\n",
    "<td style=\"text-align: left\"><code>file.tell()</code></td>\n",
    "<td style=\"text-align: left\">Restituisce la posizione corrente memorizzata dal file object.</td>\n",
    "</tr>\n",
    "<tr>\n",
    "<td style=\"text-align: left\"><code>file.seek(offset)</code></td>\n",
    "<td style=\"text-align: left\">Modifica la posizione corrente memorizzata dal file object.</td>\n",
    "</tr>\n",
    "<tr>\n",
    "<td style=\"text-align: left\"><code>file.close()</code></td>\n",
    "<td style=\"text-align: left\">Chiude il file.</td>\n",
    "</tr>\n",
    "</table>"
   ]
  },
  {
   "cell_type": "markdown",
   "metadata": {
    "slideshow": {
     "slide_type": "slide"
    }
   },
   "source": [
    "Vediamo alcuni esempi con un file avente il seguente contenuto:\n",
    "\n",
    "```\n",
    "riga1\n",
    "riga2\n",
    "riga3\n",
    "```"
   ]
  },
  {
   "cell_type": "code",
   "execution_count": 57,
   "metadata": {
    "slideshow": {
     "slide_type": "slide"
    }
   },
   "outputs": [
    {
     "name": "stdout",
     "output_type": "stream",
     "text": [
      "riga2\n",
      "\n"
     ]
    }
   ],
   "source": [
    "# lettura di una riga\n",
    "\n",
    "f1 = open('data/file1.txt', 'r')\n",
    "\n",
    "r1 = f1.readline()\n",
    "r2 = f1.readline()\n",
    "f1.close() # il file va sempre chiuso!\n",
    "\n",
    "print(r2)"
   ]
  },
  {
   "cell_type": "code",
   "execution_count": 59,
   "metadata": {
    "slideshow": {
     "slide_type": "slide"
    }
   },
   "outputs": [
    {
     "name": "stdout",
     "output_type": "stream",
     "text": [
      "riga1\n",
      "\n",
      "riga2\n",
      "\n",
      "riga3\n",
      "\n"
     ]
    }
   ],
   "source": [
    "# lettura dell'intero file 1\n",
    "\n",
    "f1 = open('data/file1.txt', 'r')\n",
    "for riga in f1:\n",
    "    print(riga)\n",
    "f1.close() # il file va sempre chiuso!"
   ]
  },
  {
   "cell_type": "code",
   "execution_count": 60,
   "metadata": {
    "slideshow": {
     "slide_type": "slide"
    }
   },
   "outputs": [
    {
     "name": "stdout",
     "output_type": "stream",
     "text": [
      "['riga1\\n', 'riga2\\n', 'riga3\\n']\n"
     ]
    }
   ],
   "source": [
    "# lettura dell'intero file 2\n",
    "\n",
    "f1 = open('data/file1.txt', 'r')\n",
    "righe = f1.readlines()\n",
    "f1.close() # il file va sempre chiuso!\n",
    "\n",
    "print(righe)"
   ]
  },
  {
   "cell_type": "code",
   "execution_count": 61,
   "metadata": {
    "slideshow": {
     "slide_type": "slide"
    }
   },
   "outputs": [
    {
     "name": "stdout",
     "output_type": "stream",
     "text": [
      "-riga2-\n"
     ]
    }
   ],
   "source": [
    "# posizionamento e lettura di alcuni caratteri\n",
    "\n",
    "f1 = open('data/file1.txt', 'r')\n",
    "f1.seek(6)\n",
    "txt = f1.read(5)\n",
    "f1.close() # il file va sempre chiuso!\n",
    "\n",
    "print(f'-{txt}-')"
   ]
  },
  {
   "cell_type": "code",
   "execution_count": 62,
   "metadata": {
    "slideshow": {
     "slide_type": "slide"
    }
   },
   "outputs": [
    {
     "name": "stdout",
     "output_type": "stream",
     "text": [
      "riga1\n",
      "riga2\n",
      "riga3\n",
      "riga4\n",
      "\n"
     ]
    }
   ],
   "source": [
    "# scrittura in coda\n",
    "\n",
    "f1 = open('data/file1.txt', 'a')\n",
    "f1.write('riga4\\n')\n",
    "f1.close() # il file va sempre chiuso!\n",
    "\n",
    "f1 = open('data/file1.txt', 'r')\n",
    "print(f1.read())\n",
    "f1.close() # il file va sempre chiuso!"
   ]
  },
  {
   "cell_type": "code",
   "execution_count": 64,
   "metadata": {
    "slideshow": {
     "slide_type": "slide"
    }
   },
   "outputs": [
    {
     "name": "stdout",
     "output_type": "stream",
     "text": [
      "riga1\n",
      "riga2\n",
      "riga3\n",
      "\n"
     ]
    }
   ],
   "source": [
    "# ripristiniamo il file iniziale\n",
    "\n",
    "f1 = open('data/file1.txt', 'w+')\n",
    "f1.writelines(righe)\n",
    "f1.seek(0)\n",
    "print(f1.read())\n",
    "f1.close() # il file va sempre chiuso!"
   ]
  },
  {
   "cell_type": "markdown",
   "metadata": {
    "slideshow": {
     "slide_type": "slide"
    }
   },
   "source": [
    "Che succede se si verificano errori prima di chiudere il file?\n",
    "Per gestire la cosa in maniera pulita bisognerebbe gestire le eccezioni, ad esempio:"
   ]
  },
  {
   "cell_type": "code",
   "execution_count": 65,
   "metadata": {
    "collapsed": true,
    "slideshow": {
     "slide_type": "fragment"
    }
   },
   "outputs": [],
   "source": [
    "def elab_file(f):\n",
    "    # ...\n",
    "    return\n",
    "\n",
    "f1 = open('data/file1.txt', 'r')\n",
    "try:\n",
    "    elab_file(f1)\n",
    "except Exception as e:\n",
    "    print(\"Errore:\", e)\n",
    "finally:\n",
    "    f1.close()"
   ]
  },
  {
   "cell_type": "markdown",
   "metadata": {
    "slideshow": {
     "slide_type": "slide"
    }
   },
   "source": [
    "## Il costrutto *with*\n",
    "\n",
    "Per risolvere i problemi analoghi a quelli della chiusura del file, python mette a disposizione il costrutto `with`. Con tale costrutto è possibile gestire gli oggetti (come il file) che richiedono l'esecuzione di determinate operazioni all'inizio e/o alla fine del loro utilizzo (`file.close`)."
   ]
  },
  {
   "cell_type": "code",
   "execution_count": 66,
   "metadata": {
    "collapsed": true,
    "slideshow": {
     "slide_type": "fragment"
    }
   },
   "outputs": [],
   "source": [
    "with open('data/file1.txt', 'r') as f1:\n",
    "    elab_file(f1)"
   ]
  },
  {
   "cell_type": "markdown",
   "metadata": {
    "slideshow": {
     "slide_type": "fragment"
    }
   },
   "source": [
    "Immediatamente dopo l'apertura del file sarà eseguito il metodo interno `f1.__enter__()` (che nel caso del file non fa niente); mentre dopo l'esecuzione del blocco di codice, anche in presenza di errori, sarà eseguito il metodo interno `f1.__exit__()` (che chiama il metodo `f1.close()`)."
   ]
  },
  {
   "cell_type": "markdown",
   "metadata": {
    "collapsed": true,
    "slideshow": {
     "slide_type": "slide"
    }
   },
   "source": [
    "## Programmazione a oggetti - cenni\n",
    "\n",
    "A differenza della classica programmazione procedurale in cui gli elementi organizzativi sono procedure e funzioni, nella programmazione ad oggetti gli elementi organizzativi principali sono gli oggetti. Nell'oggetto confluiscono dati e funzioni che invece nella programmazione procedurale sono separati.\n",
    "\n",
    "\n",
    "I dati di un oggetto sono memorizzati nelle sue *proprietà* e costituiscono lo *stato * dell'oggetto. L'insieme delle funzioni di un oggetto, dette *metodi*, ne definiscono invece il *comportamento*."
   ]
  },
  {
   "cell_type": "code",
   "execution_count": 67,
   "metadata": {
    "slideshow": {
     "slide_type": "slide"
    }
   },
   "outputs": [
    {
     "name": "stdout",
     "output_type": "stream",
     "text": [
      "Area cerchio = 314.1592653589793\n",
      "Circonferenza cerchio = 62.83185307179586\n"
     ]
    }
   ],
   "source": [
    "# versione procedurale\n",
    "\n",
    "def area_cerchio(r):\n",
    "    return r**2 * math.pi\n",
    "\n",
    "def circonferenza_cerchio(r):\n",
    "    return 2 * r * math.pi\n",
    "\n",
    "raggio = 10\n",
    "a = area_cerchio(raggio)\n",
    "c = circonferenza_cerchio(raggio)\n",
    "\n",
    "print('Area cerchio =', a)\n",
    "print('Circonferenza cerchio =', c)"
   ]
  },
  {
   "cell_type": "code",
   "execution_count": 68,
   "metadata": {
    "slideshow": {
     "slide_type": "slide"
    }
   },
   "outputs": [
    {
     "name": "stdout",
     "output_type": "stream",
     "text": [
      "Raggio cerchio = 10\n",
      "Area cerchio = 314.1592653589793\n",
      "Circonferenza cerchio = 62.83185307179586\n"
     ]
    }
   ],
   "source": [
    "# versione a oggetti\n",
    "\n",
    "class Cerchio: \n",
    "    \n",
    "    def __init__(self, r):\n",
    "        self.raggio = r\n",
    "        \n",
    "    def area(self):\n",
    "        return self.raggio**2 * math.pi\n",
    "\n",
    "    def circonferenza(self):\n",
    "        return 2 * self.raggio * math.pi\n",
    "\n",
    "mio_cerchio = Cerchio(10) \n",
    "a = mio_cerchio.area();\n",
    "c = mio_cerchio.circonferenza()\n",
    "\n",
    "print('Raggio cerchio =', mio_cerchio.raggio)\n",
    "print('Area cerchio =', a)\n",
    "print('Circonferenza cerchio =', c)"
   ]
  },
  {
   "cell_type": "code",
   "execution_count": 1,
   "metadata": {
    "slideshow": {
     "slide_type": "slide"
    }
   },
   "outputs": [],
   "source": [
    "class Veicolo:\n",
    "    def __init__(self, ruote):\n",
    "        self.ruote = ruote\n",
    "        self.velocita = 0\n",
    "        \n",
    "    def fermo(self):\n",
    "        return self.velocita==0\n",
    "        \n",
    "    def parti(self, velocita=1):\n",
    "        if self.fermo():\n",
    "            self.velocita = velocita\n",
    "            \n",
    "    def fermati(self):\n",
    "        self.velocita = 0\n",
    "        \n",
    "    def accelera(self, velocita):\n",
    "        if velocita <= 0:\n",
    "            raise ValueError(\"La velocità dev'essere maggiore di zero\")\n",
    "\n",
    "        if not self.fermo():\n",
    "            self.velocita += velocita\n",
    "        \n",
    "    def rallenta(self, velocita):\n",
    "        if velocita <= 0:\n",
    "            raise ValueError(\"La velocità dev'essere maggiore di zero\") \n",
    "            \n",
    "        if not self.fermo() and self.velocita - velocita <= 0:\n",
    "            self.fermati()\n",
    "        else:\n",
    "            self.velocita -= velocita"
   ]
  },
  {
   "cell_type": "code",
   "execution_count": 2,
   "metadata": {
    "slideshow": {
     "slide_type": "slide"
    }
   },
   "outputs": [
    {
     "name": "stdout",
     "output_type": "stream",
     "text": [
      "Il veicolo apecar ha 3 ruote\n",
      "L'apecar è fermo\n",
      "La velocità dell'apecar è ora 1\n",
      "La velocità dell'apecar è ora 21\n",
      "L'apecar è fermo\n"
     ]
    }
   ],
   "source": [
    "apecar = Veicolo(3)\n",
    "print(f'Il veicolo apecar ha {apecar.ruote} ruote')\n",
    "print(f\"L'apecar {'è fermo' if apecar.fermo() else 'si muove'}\")\n",
    "\n",
    "apecar.parti()\n",
    "print(\"La velocità dell'apecar è ora\", apecar.velocita)\n",
    "\n",
    "apecar.accelera(20)\n",
    "print(\"La velocità dell'apecar è ora\", apecar.velocita)\n",
    "\n",
    "apecar.rallenta(25)\n",
    "print(f\"L'apecar {'è fermo' if apecar.fermo() else 'si muove'}\")"
   ]
  },
  {
   "cell_type": "markdown",
   "metadata": {
    "slideshow": {
     "slide_type": "slide"
    }
   },
   "source": [
    "## Duck typing\n",
    "\n",
    "> \"Se sembra un'anatra, nuota come un'anatra e starnazza come un'anatra,<br>\n",
    "allora probabilmente è un'anatra!\"\n",
    "\n",
    "In Python i tipi sono inferiti dinamicamente, cioè dedotti dal contesto a runtime (*tipizzazione dinamica*). Inoltre i tipi delle variabili possono cambiare durante l'esecuzione del programma (*tipizzazione dinamica debole*).\n",
    "\n",
    "Per *duck typing* si intende che la semantica di un oggetto è determinata dal suo comportamento e dalle sue proprietà non dal fatto di appartenere a una certa classe."
   ]
  },
  {
   "cell_type": "code",
   "execution_count": 70,
   "metadata": {
    "collapsed": true,
    "slideshow": {
     "slide_type": "slide"
    }
   },
   "outputs": [],
   "source": [
    "class Anatra:\n",
    "    def cammina(self):\n",
    "        print(\"Anatra che cammina\")\n",
    "    def nuota(self):\n",
    "        print(\"Anatra che nuota\")\n",
    "    def starnazza(self):\n",
    "        print(\"Anatra che fa quack!\")\n",
    "        \n",
    "class Persona:\n",
    "    def cammina(self):\n",
    "        print(\"Persona che imita un'anatra che cammina\")\n",
    "    def nuota(self):\n",
    "        print(\"Persona che imita un'anatra che nuota\")\n",
    "    def starnazza(self):\n",
    "        print(\"Persona che imita un'anatra che fa quack!\")"
   ]
  },
  {
   "cell_type": "code",
   "execution_count": 71,
   "metadata": {
    "slideshow": {
     "slide_type": "slide"
    }
   },
   "outputs": [
    {
     "name": "stdout",
     "output_type": "stream",
     "text": [
      "Anatra che cammina\n",
      "Anatra che nuota\n",
      "Anatra che fa quack!\n",
      "Persona che imita un'anatra che cammina\n",
      "Persona che imita un'anatra che nuota\n",
      "Persona che imita un'anatra che fa quack!\n"
     ]
    }
   ],
   "source": [
    "def vai_anatra(a):\n",
    "    a.cammina()\n",
    "    a.nuota()\n",
    "    a.starnazza()\n",
    "\n",
    "x = Anatra()\n",
    "vai_anatra(x)\n",
    "\n",
    "x = Persona()\n",
    "vai_anatra(x)"
   ]
  },
  {
   "cell_type": "markdown",
   "metadata": {
    "slideshow": {
     "slide_type": "slide"
    }
   },
   "source": [
    "## I moduli\n",
    "\n",
    "Il modulo è un insieme costanti, funzioni e classi raggruppati in un file. I moduli consentono di suddividere e organizzare meglio il codice.\n",
    "\n",
    "Python include già un'ampia lista di moduli standard (python standard library), ma è anche possibile scaricarne o definirne di nuovi. Ad esempio uno dei moduli standard è il modulo `math` che contiene diverse costanti e funzioni matematiche.\n",
    "\n",
    "Tutti i moduli disponibili nella libreria standard sono descritti nella [documentazione ufficiale](https://docs.python.org/3.7/library/index.html).\n",
    "\n",
    "Per poter uitilizzare gli elementi contenuti in un certo modulo è necessario *importarlo*."
   ]
  },
  {
   "cell_type": "code",
   "execution_count": 72,
   "metadata": {
    "slideshow": {
     "slide_type": "fragment"
    }
   },
   "outputs": [
    {
     "name": "stdout",
     "output_type": "stream",
     "text": [
      "Pi greco vale 3.141592653589793\n",
      "Il seno di 90 gradi è 1.0\n"
     ]
    }
   ],
   "source": [
    "import math\n",
    "\n",
    "print('Pi greco vale', math.pi)\n",
    "print('Il seno di 90 gradi è', math.sin(math.pi/2))"
   ]
  },
  {
   "cell_type": "markdown",
   "metadata": {
    "slideshow": {
     "slide_type": "slide"
    }
   },
   "source": [
    "Si possono anche importare solo i nomi che interessano e usarli direttamente. "
   ]
  },
  {
   "cell_type": "code",
   "execution_count": 73,
   "metadata": {
    "slideshow": {
     "slide_type": "fragment"
    }
   },
   "outputs": [
    {
     "name": "stdout",
     "output_type": "stream",
     "text": [
      "La radice quadrata di 16 è 4.0\n"
     ]
    }
   ],
   "source": [
    "from math import sqrt\n",
    "\n",
    "print('La radice quadrata di 16 è', sqrt(16))"
   ]
  },
  {
   "cell_type": "markdown",
   "metadata": {
    "slideshow": {
     "slide_type": "slide"
    }
   },
   "source": [
    "Si può rinominare ciò che si importa per evitare conflitti di nomi o semplicemente per comodità."
   ]
  },
  {
   "cell_type": "code",
   "execution_count": 74,
   "metadata": {
    "slideshow": {
     "slide_type": "fragment"
    }
   },
   "outputs": [
    {
     "name": "stdout",
     "output_type": "stream",
     "text": [
      "Oggi è il 11-02-2021\n"
     ]
    }
   ],
   "source": [
    "import datetime as dt\n",
    "\n",
    "print('Oggi è il', dt.date.today().strftime('%d-%m-%Y'))"
   ]
  },
  {
   "cell_type": "markdown",
   "metadata": {
    "slideshow": {
     "slide_type": "slide"
    }
   },
   "source": [
    "Per ottenere tutti i nomi definiti in un modulo si può usare il comando `dir`."
   ]
  },
  {
   "cell_type": "code",
   "execution_count": 75,
   "metadata": {
    "slideshow": {
     "slide_type": "fragment"
    }
   },
   "outputs": [
    {
     "data": {
      "text/plain": [
       "['MAXYEAR',\n",
       " 'MINYEAR',\n",
       " '__builtins__',\n",
       " '__cached__',\n",
       " '__doc__',\n",
       " '__file__',\n",
       " '__loader__',\n",
       " '__name__',\n",
       " '__package__',\n",
       " '__spec__',\n",
       " 'date',\n",
       " 'datetime',\n",
       " 'datetime_CAPI',\n",
       " 'time',\n",
       " 'timedelta',\n",
       " 'timezone',\n",
       " 'tzinfo']"
      ]
     },
     "execution_count": 75,
     "metadata": {},
     "output_type": "execute_result"
    }
   ],
   "source": [
    "dir(dt)"
   ]
  },
  {
   "cell_type": "markdown",
   "metadata": {
    "slideshow": {
     "slide_type": "slide"
    }
   },
   "source": [
    "Se i nomi non sono molti e non vanno in conflitto, si possono importare tutti i nomi *visibili* (cioè che non iniziano con `_` ) di un modulo. Ad esempio:"
   ]
  },
  {
   "cell_type": "code",
   "execution_count": 76,
   "metadata": {
    "slideshow": {
     "slide_type": "fragment"
    }
   },
   "outputs": [
    {
     "name": "stdout",
     "output_type": "stream",
     "text": [
      "Domani è il 12-02-2021\n"
     ]
    }
   ],
   "source": [
    "from datetime import *\n",
    "\n",
    "domani = date.today() + timedelta(days=1)\n",
    "print('Domani è il', domani.strftime('%d-%m-%Y'))"
   ]
  },
  {
   "cell_type": "markdown",
   "metadata": {
    "slideshow": {
     "slide_type": "fragment"
    }
   },
   "source": [
    "`dir()` senza parametri mostra i nomi visibili dallo script/modulo corrente."
   ]
  },
  {
   "cell_type": "markdown",
   "metadata": {
    "slideshow": {
     "slide_type": "slide"
    }
   },
   "source": [
    "### Creare un nuovo modulo\n",
    "\n",
    "Per creare un nuovo modulo è sufficiente definire gli elementi che lo costituiscono (costanti, funzioni e oggetti) all'interno di uno stesso file di testo e salvarlo col nome *&lt;nome_modulo&gt;.py*.\n",
    "\n",
    "Affinchè un modulo (non facente parte di un *package*) sia individuabile dall'interprete python e *importabile* il percorso della cartella che lo contiene deve trovarsi nella variabile d'ambiente *PYTHONPATH* opure il modulo deve trovarsi nella directory corrente.\n",
    "\n",
    "Non c'è nessuna distinzione, se non quella logica, tra un modulo e un file contenente del codice python che si vuole eseguire."
   ]
  },
  {
   "cell_type": "markdown",
   "metadata": {
    "slideshow": {
     "slide_type": "slide"
    }
   },
   "source": [
    "## I package\n",
    "\n",
    "Un *package* python è una raccolta di moduli organizzati in maniera gerarchica a partire (quasi sempre) da una stessa cartella del filesystem. La cartella e le eventuali sottocartelle appartenenti al *package* devono contenere oltre ai moduli il file `__init__.py` (anche vuoto).\n",
    "\n",
    "Tale file è destinato a contenere l'eventuale codice di inizializzazione del package o la semplice definizione della variabile speciale `__ALL__`.\n",
    "\n",
    "Questa variabile è una sequenza contenente la lista dei nomi definiti all'interno dei moduli del package ed visibili all'esterno.\n",
    "\n",
    "Se la variabile `__ALL__` non è definita tutti i nomi che non iniziano per `'_'` risultano visibili.\n",
    "\n",
    "Affinchè un package (con tutti i suoi moduli) sia individuabile dall'interprete python e *importabile* il percorso della cartella che lo contiene deve trovarsi nella variabile d'ambiente *PYTHONPATH* oppure il package deve trovarsi nella directory corrente."
   ]
  },
  {
   "cell_type": "markdown",
   "metadata": {
    "slideshow": {
     "slide_type": "slide"
    }
   },
   "source": [
    "### Esempio di struttura di un package\n",
    "\n",
    "<br>\n",
    "\n",
    "```\n",
    "miopack/                     Package principale\n",
    "      __init__.py            Inizializza il package miopack\n",
    "      mod1.py\n",
    "      sub1/                  Sottopackage sub1\n",
    "            __init__.py\n",
    "            mod11.py\n",
    "            mod12.py\n",
    "      sub2/                  Sottopackage sub2\n",
    "            __init__.py\n",
    "            mod21.py\n",
    "            mod22.py\n",
    "            mod23.py\n",
    "```"
   ]
  },
  {
   "cell_type": "markdown",
   "metadata": {
    "collapsed": true,
    "slideshow": {
     "slide_type": "slide"
    }
   },
   "source": [
    "## Il Python Package Index e pip\n",
    "\n",
    "Il Python Package Index (`PyPI`) è un repository che contiene decine di migliaia di package scritti in Python. Chiunque può scaricare package esistenti o condividere nuovi package su PyPI. PyPI è anche conosciuto con il nome di Cheese Shop, dallo sketch del cheese shop di Monty Python.\n",
    "\n",
    "È possibile accedere ai package del Python Package Index sia tramite un browser (all’indirizzo https://pypi.org), sia tramite un il comando `pip`.\n",
    "\n",
    "`pip` è un comando che ci consente di cercare, scaricare ed installare package Python che si trovano sul Python Package Index. Il nome è un acronimo ricorsivo, che significa Pip Installs Packages. `pip` ci consente inoltre di gestire i package che abbiamo già scaricato, permettendonci di aggiornarli o rimuoverli."
   ]
  },
  {
   "cell_type": "code",
   "execution_count": 77,
   "metadata": {
    "slideshow": {
     "slide_type": "slide"
    }
   },
   "outputs": [
    {
     "name": "stdout",
     "output_type": "stream",
     "text": [
      "\r\n",
      "Usage:   \r\n",
      "  pip <command> [options]\r\n",
      "\r\n",
      "Commands:\r\n",
      "  install                     Install packages.\r\n",
      "  download                    Download packages.\r\n",
      "  uninstall                   Uninstall packages.\r\n",
      "  freeze                      Output installed packages in requirements format.\r\n",
      "  list                        List installed packages.\r\n",
      "  show                        Show information about installed packages.\r\n",
      "  check                       Verify installed packages have compatible dependencies.\r\n",
      "  config                      Manage local and global configuration.\r\n",
      "  search                      Search PyPI for packages.\r\n",
      "  wheel                       Build wheels from your requirements.\r\n",
      "  hash                        Compute hashes of package archives.\r\n",
      "  completion                  A helper command used for command completion.\r\n",
      "  debug                       Show information useful for debugging.\r\n",
      "  help                        Show help for commands.\r\n",
      "\r\n",
      "General Options:\r\n",
      "  -h, --help                  Show help.\r\n",
      "  --isolated                  Run pip in an isolated mode, ignoring\r\n",
      "                              environment variables and user configuration.\r\n",
      "  -v, --verbose               Give more output. Option is additive, and can be\r\n",
      "                              used up to 3 times.\r\n",
      "  -V, --version               Show version and exit.\r\n",
      "  -q, --quiet                 Give less output. Option is additive, and can be\r\n",
      "                              used up to 3 times (corresponding to WARNING,\r\n",
      "                              ERROR, and CRITICAL logging levels).\r\n",
      "  --log <path>                Path to a verbose appending log.\r\n",
      "  --proxy <proxy>             Specify a proxy in the form\r\n",
      "                              [user:passwd@]proxy.server:port.\r\n",
      "  --retries <retries>         Maximum number of retries each connection should\r\n",
      "                              attempt (default 5 times).\r\n",
      "  --timeout <sec>             Set the socket timeout (default 15 seconds).\r\n",
      "  --exists-action <action>    Default action when a path already exists:\r\n",
      "                              (s)witch, (i)gnore, (w)ipe, (b)ackup, (a)bort.\r\n",
      "  --trusted-host <hostname>   Mark this host or host:port pair as trusted,\r\n",
      "                              even though it does not have valid or any HTTPS.\r\n",
      "  --cert <path>               Path to alternate CA bundle.\r\n",
      "  --client-cert <path>        Path to SSL client certificate, a single file\r\n",
      "                              containing the private key and the certificate\r\n",
      "                              in PEM format.\r\n",
      "  --cache-dir <dir>           Store the cache data in <dir>.\r\n",
      "  --no-cache-dir              Disable the cache.\r\n",
      "  --disable-pip-version-check\r\n",
      "                              Don't periodically check PyPI to determine\r\n",
      "                              whether a new version of pip is available for\r\n",
      "                              download. Implied with --no-index.\r\n",
      "  --no-color                  Suppress colored output\r\n",
      "  --no-python-version-warning\r\n",
      "                              Silence deprecation warnings for upcoming\r\n",
      "                              unsupported Pythons.\r\n"
     ]
    }
   ],
   "source": [
    "!pip help"
   ]
  }
 ],
 "metadata": {
  "celltoolbar": "Slideshow",
  "kernelspec": {
   "display_name": "Python 3",
   "language": "python",
   "name": "python3"
  },
  "language_info": {
   "codemirror_mode": {
    "name": "ipython",
    "version": 3
   },
   "file_extension": ".py",
   "mimetype": "text/x-python",
   "name": "python",
   "nbconvert_exporter": "python",
   "pygments_lexer": "ipython3",
   "version": "3.7.9"
  }
 },
 "nbformat": 4,
 "nbformat_minor": 2
}
