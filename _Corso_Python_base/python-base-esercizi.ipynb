{
 "cells": [
  {
   "cell_type": "markdown",
   "metadata": {},
   "source": [
    "# PYTHON BASE - Esercizi\n",
    "\n",
    "### Notebook by\n",
    "\n",
    "**Pietro Corte**<br>\n",
    "Divisione Supporto Informatico (IDE)<br>\n",
    "Dipartimento Economia e Statistica (ECS)<br>\n",
    "[pietro.corte@bancaditalia.it](mailto: pietro.corte@bancaditalia.it)"
   ]
  },
  {
   "cell_type": "markdown",
   "metadata": {},
   "source": [
    "## Python su Osiride\n",
    "\n",
    "Su Osiride è disponibile la [ditribuzione Intel di Python](https://software.intel.com/en-us/distribution-for-python) che è una distribuzione di Python per il calcolo scientifico ottimizzata per i processori Intel."
   ]
  },
  {
   "cell_type": "markdown",
   "metadata": {},
   "source": [
    "### Versioni disponibili"
   ]
  },
  {
   "cell_type": "code",
   "execution_count": null,
   "metadata": {},
   "outputs": [],
   "source": [
    "! intelpython versions"
   ]
  },
  {
   "cell_type": "markdown",
   "metadata": {},
   "source": [
    "La versione di default si invoca col comando `intelpython`, che in realtà fa partire [IPython](https://ipython.org), una shell interattiva per python arricchita di diverse funzionalità aggiuntive."
   ]
  },
  {
   "cell_type": "markdown",
   "metadata": {},
   "source": [
    "## Jupyter notebook\n",
    "\n",
    "Jupyter Notebook è una web-application che permette di creare e condividere documenti testuali interattivi, contenenti elementi descrittivi (testo, equazioni, immagini, grafici) e codice sorgente eseguibile comprensivo dell'eventuale output. Jupyter notebook fa parte del [Project Jupyter](https://jupyter.org/)\n",
    "\n",
    "Un notebook è costintuito da una sequenza di celle di due tipologie:\n",
    "* elementi descrittivi\n",
    "* codice sorgente e relativo output\n",
    "\n",
    "Le celle descrittive possono contenere testo in linguaggio [Markdown](https://commonmark.org/) o anche direttamente in [HTML](https://developer.mozilla.org/it/docs/Web/HTML).\n",
    "\n",
    "Le celle di codice sorgente nel linguaggio configurato, nel nostro caso Python.<br>\n",
    "La documentazione ufficiale dell'ultima versione di Python è disponibile su http://docs.python.org, far riferimento alla versione corretta.\n",
    "\n",
    "Ciascuna cella del notebook, sia descrittiva che di codice, può trovarsi in due modalità.\n",
    "\n",
    "### Edit mode (riquadro cella verde)\n",
    "\n",
    "In questa modalità è possibile modificare il testo della cella. I comandi supportati sono:\n",
    "* `Tab`: completamento automatico del codice o indentazione\n",
    "* `Shift-Tab`: help contestuale\n",
    "* `Esc`: cambia modalità in *Command mode*\n",
    "\n",
    "### Command mode (riquadro cella azzurro)\n",
    "\n",
    "In questa modalità è possibile eseguire dei comandi; i principali sono:\n",
    "* `Ctrl-Enter`: esegue il contenuto della cella\n",
    "* `Shift-Enter`: esegue il contenuto della cella e passa alla successiva\n",
    "* `Alt-Enter`: esegue il contenuto della cella e ne inserisce una nuova dopo\n",
    "* `m`: cambia il tipo cella in *Markdown*\n",
    "* `y`: cambia il tipo cella in *Code*\n",
    "* `dd`: elimina una cella\n",
    "* `a`: inserisce una nuova cella prima della corrente\n",
    "* `b`: inserisce una nuova cella dopo della corrente\n",
    "* `h`: mostra le scorciatoie da tastiera\n",
    "* `Enter`: cambia modalità in *Edit mode*\n",
    "\n",
    "In entrambe le modalità è possibile eseguire il comando:\n",
    "* `Ctrl-Shift-F`: apre la palette dei comandi"
   ]
  },
  {
   "cell_type": "code",
   "execution_count": null,
   "metadata": {},
   "outputs": [],
   "source": []
  },
  {
   "cell_type": "markdown",
   "metadata": {},
   "source": [
    "# Esercizi"
   ]
  },
  {
   "cell_type": "markdown",
   "metadata": {},
   "source": [
    "## Liste\n",
    "\n",
    "Data la lista `l = [0.0, \"a\", [5], [2, 3]]`, scrivere le istruzioni per rispondere alle seguenti domande.\n",
    "\n",
    "* Quanto è lunga la lista?\n",
    "* Di che tipo è il primo elemento della lista?\n",
    "* Quanto è lungo il secondo elemento della lista?\n",
    "* Quanto è lungo il terzo elemento della lista?\n",
    "* Quanto vale l'ultimo elemento della lista? Quanto è lungo?\n",
    "* La lista ha un elemento di valore `\"a\"`?\n",
    "* La lista ha un elemento di valore `2`?\n",
    "\n",
    "Creare una nuova lista `l1` concatenando gli ultimi due elementi della lista `l`.<br>\n",
    "Facendo riferimento alla nuova lista `l1`:\n",
    "\n",
    "* da quanti elementi è formata?\n",
    "* qual è il suo elemento di valore massimo?\n",
    "* aggiungervi l'elemento `1`\n",
    "* ordinarla disponendone gli elementi in ordine crescente"
   ]
  },
  {
   "cell_type": "code",
   "execution_count": null,
   "metadata": {},
   "outputs": [],
   "source": []
  },
  {
   "cell_type": "markdown",
   "metadata": {},
   "source": [
    "## Stringhe\n",
    "\n",
    "Scrivere le istruzioni per eseguire le seguenti operazioni.\n",
    "\n",
    "* Creare una stringa formata da dieci spazi e un punto.\n",
    "* Controllare che la stringa contenga almeno uno spazio.\n",
    "* Controllare che una stringa contenga esattamente cinque caratteri.\n",
    "* Creare una stringa vuota, e controllare che sia vuota.\n",
    "* Controllare se la stringa `\"13325\"` comincia con `\"1\"` e finisce con `\"5\"`.\n",
    "* Controllare se la stringa `\"\\\\\"` contiene due elementi.\n",
    "* Data la stringa `\"123456789\"` trasformarla nella stringa `\"1.2.3.4.5.6.7.8.9\"`\n",
    "* Data la stringa con l'orario `\"23:45:59\"` ottenere una lista di tre stringhe con le ore e i minuti e i secondi.\n",
    "* Data la stringa `\"09-10-2019 11:22:33\"` trasformarla in `09/10/2019 11.22.33`.\n",
    "* Concatenare le stringhe `\"Due stringhe\"`, `\" diventano una sola\"`.\n",
    "* Creare una stringa di venti ripetizioni di `\"la\"` e trovare la posizione della prima e seconda occorrenza di `\"ala\"`."
   ]
  },
  {
   "cell_type": "code",
   "execution_count": null,
   "metadata": {},
   "outputs": [],
   "source": []
  },
  {
   "cell_type": "markdown",
   "metadata": {},
   "source": [
    "## Tuple\n",
    "\n",
    "Data la tupla `t = (0, 4, 5, [6, 7, 8], 1, 9, 'u')`, scrivere le istruzioni per rispondere alle seguenti domande.\n",
    "\n",
    "* Quanti elementi contiene la tupla?\n",
    "* Di che tipo è il terzo elemento della tupla? Quanto vale?\n",
    "* Di che tipo è il quarto elemento della tupla? Quanto vale?\n",
    "* Quanti elementi contiene il quarto elemento?\n",
    "* In quale posizione si trova l'elemento `9`?\n",
    "* Cambiare l'elemento `8` in `\"ultimo\"`. (E' possibile?)\n",
    "* Cambiare l'elemento `'u'` in `\"ultimo\"`. (E' possibile?)\n"
   ]
  },
  {
   "cell_type": "code",
   "execution_count": null,
   "metadata": {},
   "outputs": [],
   "source": []
  },
  {
   "cell_type": "markdown",
   "metadata": {},
   "source": [
    "## Set\n",
    "\n",
    "Dato il set `s = {4, 3, 2, 5, (6, 7)}`, scrivere le istruzioni per risolvere i seguenti punti.\n",
    "\n",
    "* Qual è la sua dimensione?\n",
    "* Mostare che i set non contengono duplicati\n",
    "* E' possibile accedere al terzo elemento?\n",
    "* Creare il set `s1` dei primi 4 numeri pari, in modo diverso da come è stato creato `s`\n",
    "* Quali sono gli elementi in comune tra `s` e `s1`?\n",
    "* Qual è la differenza tra `s` e `s1`?\n",
    "* Unire i due set creando il nuovo set `u` e rimuovere l'unico elemento tupla\n",
    "* Creare una lista ordinata a partire da `u` \n"
   ]
  },
  {
   "cell_type": "code",
   "execution_count": null,
   "metadata": {},
   "outputs": [],
   "source": []
  },
  {
   "cell_type": "markdown",
   "metadata": {},
   "source": [
    "## Dizionari\n",
    "\n",
    "Dato il dizionario dei punteggi `p = {'Paul': 5, 'Mary': 9, 'Susy': 6, 'John': 7}` , scrivere le istruzioni per rispondere alle seguenti domande.\n",
    "\n",
    "* Quanti elementi ha il dizionario?\n",
    "* Qual è il punteggio di Paul?\n",
    "* Come si ottengono le chiavi del dizionario?\n",
    "* Chi è l'ultimo nominativo in ordine alfabetico?\n",
    "\n",
    "Quindi eseguire le seguenti operazioni\n",
    "\n",
    "* Aumentare di 2 il punteggio di Susy.\n",
    "* Aggiungere il punteggio di 7 ottenuto da Luis.\n",
    "* Stampare il massimo punteggio.\n",
    "* Eliminare e stampare l'ultimo elemento del dizionario."
   ]
  },
  {
   "cell_type": "code",
   "execution_count": null,
   "metadata": {},
   "outputs": [],
   "source": []
  },
  {
   "cell_type": "markdown",
   "metadata": {},
   "source": [
    "## Dispari?\n",
    "\n",
    "Scrivere una funzione `is_odd` che dato un numero x restituisca il valore `True` se x è dispari `False` altrimenti.\n",
    "    \n",
    "Provarla con i seguenti numeri: 1, 132, 8, 77, 5, 20"
   ]
  },
  {
   "cell_type": "code",
   "execution_count": null,
   "metadata": {},
   "outputs": [],
   "source": []
  },
  {
   "cell_type": "markdown",
   "metadata": {},
   "source": [
    "## Divisori\n",
    "\n",
    "Scrivere una funzione `divisors` che dato un intero positivo restituisca la lista dei suoi divisori."
   ]
  },
  {
   "cell_type": "code",
   "execution_count": null,
   "metadata": {},
   "outputs": [],
   "source": []
  },
  {
   "cell_type": "markdown",
   "metadata": {},
   "source": [
    "## Barre orizzontali\n",
    "\n",
    "Scrivere una funzione `bargraf` che data una sequenza di interi positivi stampi a video un grafico a barre orizzontali fatto di asterischi.\n",
    "\n",
    "Ad esempio se la sequenza in input è [3,5,2] il risultato sarà:\n",
    "    \n",
    "`***`<br>\n",
    "`*****`<br>\n",
    "`**`\n",
    "\n",
    "Provarla con i seguenti parametri:\n",
    "- [5,8,3,1]\n",
    "- [2,12,5]\n",
    "- []"
   ]
  },
  {
   "cell_type": "code",
   "execution_count": null,
   "metadata": {},
   "outputs": [],
   "source": []
  },
  {
   "cell_type": "markdown",
   "metadata": {},
   "source": [
    "## Convertitore\n",
    "\n",
    "Scrivere una funzione `eur2usd` che data in input una lista di prezzi in euro restituisca la stessa lista di prezzi in dollari considerando il tasso di cambio di `1.2` dollari per 1 euro. Arrotondare a due decimali. Il corpo della funzione deve essere di una sola riga di codice.\n",
    "\n",
    "Infine provare la funzione con i seguenti parametri:\n",
    "* `[2.3, 80, 3.79, 52.4]`\n",
    "* `[2.51, 12, 53.1]`\n",
    "* `[22, 32.1, 8.5, 6]`"
   ]
  },
  {
   "cell_type": "code",
   "execution_count": null,
   "metadata": {},
   "outputs": [],
   "source": []
  },
  {
   "cell_type": "markdown",
   "metadata": {},
   "source": [
    "## Affettatrice\n",
    "\n",
    "Scrivere una funzione `split` che data una lista la divide a metà restituisce una tupla di due liste. Se la lista in input è di lunghezza dispari l'elemento in più va nella seconda metà.\n",
    "Il corpo della funzione `split` deve essere di due righe al massimo.\n",
    "\n",
    "Provarla con i parametri:\n",
    "* [1,2,3,4,5]\n",
    "* [5,3,1,3]\n",
    "* ['a','c','k']\n",
    "* []"
   ]
  },
  {
   "cell_type": "code",
   "execution_count": null,
   "metadata": {},
   "outputs": [],
   "source": []
  },
  {
   "cell_type": "markdown",
   "metadata": {},
   "source": [
    "## In comune\n",
    "\n",
    "Scrivere una funzione `intersect` che date due liste restituisca una lista contenente gli elementi in comune tra le due (senza duplicati).\n",
    "\n",
    "Infine provarla con i seguenti parametri:\n",
    "* `[1,2,1,5,2] [3,4,1,1]`\n",
    "* `[3,5,2,2,3] [2,5,1,2]`\n",
    "* `[1,1,2,3,5] []`"
   ]
  },
  {
   "cell_type": "code",
   "execution_count": null,
   "metadata": {},
   "outputs": [],
   "source": []
  },
  {
   "cell_type": "markdown",
   "metadata": {},
   "source": [
    "## Separatore\n",
    "\n",
    "Scrivere una funzione `separator` che data una lista di numeri restituisca una tupla di due liste contenenti rispettivamente i numeri pari e i numeri dispari della lista di partenza nello stesso ordine e con gli eventuali duplicati. Il corpo della funzione deve essere di una sola riga.\n",
    "\n",
    "Infine provare la funzione con i seguenti parametri:\n",
    "* `[2, 3, 8, 0, 3, 9, 2, 4]`\n",
    "* `[2, 5, 1, 1, 2, 5, 3, 1]`"
   ]
  },
  {
   "cell_type": "code",
   "execution_count": null,
   "metadata": {},
   "outputs": [],
   "source": []
  },
  {
   "cell_type": "markdown",
   "metadata": {
    "collapsed": true
   },
   "source": [
    "## Palindromo?\n",
    "\n",
    "Scrivere una funzione `is_palindromic` che data una stringa restituisce `True` se è palindroma (il case delle lettere e gli spazi vanno ignorati), `False` altrimenti.\n",
    "\n",
    "Infine provarla con i seguenti parametri:\n",
    "\n",
    "- 'Anna'\n",
    "- 'ninnananna'\n",
    "- 176671\n",
    "- 'I topi non avevano nipoti'\n",
    "- ''"
   ]
  },
  {
   "cell_type": "code",
   "execution_count": null,
   "metadata": {},
   "outputs": [],
   "source": []
  },
  {
   "cell_type": "markdown",
   "metadata": {},
   "source": [
    "## Generatore di spam\n",
    "\n",
    "Scrivere una funzione `spam_generator` che dato un messaggio con 2 *placeholder* al e una lista di tuple di destinatari con email, nome e prezzo, invii il messaggio all'indirizzo email sostituendo i *placeholder* con il nome e il prezzo, per ciascuna tupla.<br>Come *placeholder* utilizzare le graffe aperta e chiusa `{}`.<br> Simulare l'invio della mail stampando due righe del tipo:<br>`<email>`<br>`<messaggio>`\n",
    "\n",
    "Infine provare la funzione con i parametri:\n",
    "* `'Ciao {}, solo per te una fantastica offerta a soli {} euro! Clicca qui: http://credulone.it'`\n",
    "\n",
    "*`[('mario@dom.it','Mario',199.99), ('anna@dom.it','Anna',99.99), ('luigi@dom.it','Luigi',149.99)]`"
   ]
  },
  {
   "cell_type": "code",
   "execution_count": null,
   "metadata": {},
   "outputs": [],
   "source": []
  },
  {
   "cell_type": "markdown",
   "metadata": {},
   "source": [
    "## Contatore\n",
    "\n",
    "Scrivere una funzione `char_count` che data una stringa restituisce un dizionario avente come chiavi i caratteri contenuti nella stringa (il case va ignorato) e come valori la frequenza di ciascun carattere.\n",
    "\n",
    "Infine provarla con i seguenti parametri:\n",
    "\n",
    "- 'weyoqieqeppjdopwduwfij'\n",
    "- 'chissà che viene fuori'\n",
    "- 54052948523679912\n",
    "- ''"
   ]
  },
  {
   "cell_type": "code",
   "execution_count": null,
   "metadata": {},
   "outputs": [],
   "source": []
  },
  {
   "cell_type": "markdown",
   "metadata": {},
   "source": [
    "## Parentesi\n",
    "\n",
    "Scrivere una funzione `check_parentheses` che data un'espressione verifichi se le parentesi tonde presenti sono correttamente bilanciate oppure no.\n",
    "\n",
    "Verificare la funzione con i seguenti parametri:\n",
    "\n",
    "* `3*(4+(5*2-1)*3)+2`\n",
    "* `2*((1+(3*4+1)*5)+1)`\n",
    "* `())()`\n",
    "* `((())())`"
   ]
  },
  {
   "cell_type": "code",
   "execution_count": null,
   "metadata": {},
   "outputs": [],
   "source": []
  },
  {
   "cell_type": "markdown",
   "metadata": {},
   "source": [
    "## Cifrario di Cesare\n",
    "\n",
    "Scrivere la funzione `crypt` che cifra la stringa passata come parametro applicando il \"cifrario di Cesare\" con scorrimento 7 e la restituisce in output. In altri termini ogni lettera della stringa dovrà essere sostituita con la settima lettera successiva nell'alfabeto (ricominciando dalla A se si raggiunge la Z). Gli eventuali caratteri non presenti nell'alfabeto e i numeri vanno lasciati inalterati, le lettere saranno tutte convertite in maiuscolo.\n",
    "\n",
    "Testare la funzione `crypt` scrivendo anche la funzione opposta `decrypt` che decifra una stringa e verificare che applicando in cascata le due funzioni si ottiene la stringa di partenza (tralasciando il case delle lettere)."
   ]
  },
  {
   "cell_type": "code",
   "execution_count": null,
   "metadata": {},
   "outputs": [],
   "source": []
  },
  {
   "cell_type": "markdown",
   "metadata": {},
   "source": [
    "### Robot\n",
    "\n",
    "Un robot si muove seguendo le istruzioni date con consistono in direzione e numero di passi. Scrivere la funzione vai_robot che calcola il movimento del robot data una senquenza di istruzioni a partire da una posizione iniziale data come coordinate (x,y) e da una lista di istruzioni, restituendo le coordinate finali.\n",
    "\n",
    "Quale sarà la posizione del robot partendo dalla posizione `(0, 0)` ed eseguendo i seguenti spostamenti:<br>\n",
    "`[('UP', 5), ('LEFT', 1), ('DOWN', 2), ('RIGHT', 4)]`"
   ]
  },
  {
   "cell_type": "code",
   "execution_count": null,
   "metadata": {},
   "outputs": [],
   "source": []
  },
  {
   "cell_type": "markdown",
   "metadata": {},
   "source": [
    "## Coppie\n",
    "\n",
    "Scrivere una funzione che data una lista di interi, restituisca l'insieme delle coppie di numeri la cui somma è divisibile per 3."
   ]
  },
  {
   "cell_type": "code",
   "execution_count": null,
   "metadata": {},
   "outputs": [],
   "source": []
  },
  {
   "cell_type": "markdown",
   "metadata": {},
   "source": [
    "## Il \"classico\" MCD\n",
    "\n",
    "Scrivere una funzione `mcd` che dati due numeri naturali restituisca il massimo comune divisore.\n",
    "\n",
    "Scrivere una seconda versione della funzione implementando l'*agoritmo di euclide* basato sulla proprietà `se mcd(a, b)=c allora mcd(b, a%b)=c dato a >= b`\n",
    "\n",
    "Infine provarla con i seguenti parametri:\n",
    "\n",
    "- 1612 e 84\n",
    "- 81 e 125\n",
    "- 90 e 15\n",
    "- 0 e 2\n",
    "- 0 e 0"
   ]
  },
  {
   "cell_type": "code",
   "execution_count": null,
   "metadata": {},
   "outputs": [],
   "source": []
  },
  {
   "cell_type": "markdown",
   "metadata": {},
   "source": [
    "## Barre verticali\n",
    "\n",
    "Scrivere una funzione `bargraf2` che data una sequenza di interi positivi stampi a video un grafico a barre verticali fatto di asterischi.\n",
    "\n",
    "Ad esempio se la sequenza in input è [3,5,2] il risultato sarà:\n",
    "\n",
    "```\n",
    "  *\n",
    "  *\n",
    "* *\n",
    "* * *\n",
    "* * *\n",
    "```\n",
    "\n",
    "Suggerimento: creare un oggetto che contenga le barre di asterischi in orizzontale; quindi \"navigarlo\" da destra verso sinistra e, considerando le barre sovrapposte, stampare le colonne.\n",
    "\n",
    "Infine provarla con i seguenti parametri:\n",
    "- [5,7,3,1]\n",
    "- [2,9,5]\n",
    "- []"
   ]
  },
  {
   "cell_type": "code",
   "execution_count": null,
   "metadata": {},
   "outputs": [],
   "source": []
  },
  {
   "cell_type": "markdown",
   "metadata": {
    "collapsed": true
   },
   "source": [
    "## Generatore di password\n",
    "\n",
    "Scrivere una funzione `new_password` che data un intero `n` (maggiore o uguale a 4) restituisca una password casuale di lunghezza `n` che inizia con una lettera e contiene almeno una lettera maiuscola, una cifra e un carattere speciale. Se la lunghezza in input è minore di 4 generare un errore.\n",
    "\n",
    "Suggerimento: possono ussere utili le funzioni `random.randrange` e `random.shuffle`.\n",
    "    \n",
    "Infine provarla con i sueguenti parametri: 5, 8, 69, 3"
   ]
  },
  {
   "cell_type": "code",
   "execution_count": null,
   "metadata": {},
   "outputs": [],
   "source": []
  },
  {
   "cell_type": "markdown",
   "metadata": {},
   "source": [
    "## Appiattitore\n",
    "\n",
    "Scrivere una funzione flatlist che data una lista o una tupla la \"appiattisca\" eliminando le eventuali liste o tuple annidate presenti tra i suoi elementi. La funzione restituirà unz lista.\n",
    "\n",
    "Provarla con i seguenti input:\n",
    "* `[1, 2, [3, 4, [5, 6, 7]], 8]`\n",
    "* `('a', 'b', ['c', 'd', 'e', (1, 2, [3, 4])], 'x', 'y')`"
   ]
  },
  {
   "cell_type": "code",
   "execution_count": null,
   "metadata": {},
   "outputs": [],
   "source": []
  },
  {
   "cell_type": "markdown",
   "metadata": {
    "collapsed": true
   },
   "source": [
    "## Gestione file\n",
    "\n",
    "* Creare un file chiamato `pswlist.txt` e, utilizzando la precedente funzione `new_password`, inserirvi 10 password casuali di 8 caratteri, una per riga.\n",
    "\n",
    "\n",
    "* Riaprire il file `pswlist.txt` del punto precedente, leggere le password e riscriverlo ordinando le password in ordine alfabetico.\n",
    "\n",
    "\n",
    "* Generare una nuova password casuale di 8 caratteri, riaprire il file `pswlist.txt` e, mantenendo in memoria al massimo due righe, aggiungervi la nuova password rispettando l'ordine alfabetico."
   ]
  },
  {
   "cell_type": "code",
   "execution_count": null,
   "metadata": {},
   "outputs": [],
   "source": []
  },
  {
   "cell_type": "code",
   "execution_count": null,
   "metadata": {},
   "outputs": [],
   "source": []
  },
  {
   "cell_type": "code",
   "execution_count": null,
   "metadata": {},
   "outputs": [],
   "source": []
  },
  {
   "cell_type": "markdown",
   "metadata": {},
   "source": [
    "## Robot 2\n",
    "\n",
    "Scrivere una versione a oggetti della soluzione dell'esercizio Robot."
   ]
  },
  {
   "cell_type": "code",
   "execution_count": null,
   "metadata": {},
   "outputs": [],
   "source": []
  },
  {
   "cell_type": "markdown",
   "metadata": {
    "collapsed": true
   },
   "source": [
    "## Conto Corrente\n",
    "\n",
    "Definire la classe `CC` i cui oggetti rappresentano i conti correnti. Si vuole tenere traccia del saldo  di un conto corrente.<br>\n",
    "Un oggetto conto corrente deve consentire di:\n",
    "* tenere traccia del saldo e dei movimenti effettuati\n",
    "* effettuare un prelievo\n",
    "* effettuare un versamento\n",
    "* stampare della lista degli ultimi `n` movimenti.\n",
    "\n",
    "Una volta definita la classe `CC` scrivere un breve frammento di codice per testarne le funzionalità."
   ]
  },
  {
   "cell_type": "code",
   "execution_count": null,
   "metadata": {},
   "outputs": [],
   "source": []
  },
  {
   "cell_type": "markdown",
   "metadata": {},
   "source": [
    "## Lampadine\n",
    "\n",
    "Definire la classe `Lampadina` i cui oggetti rappresentano le normali lampadine elettriche. Una lampadina può essere `accesa`, `spenta` o `rotta`, e mette a disposizione tre metodi:\n",
    "\n",
    "* `funzionante`: che restituisce un valore vero/falso in base al suo stato\n",
    "* `accendi`: che ne cambia lo stato da spenta ad accesa o la rompe\n",
    "* `spegni`: che ne cambia lo stato da accesa a spenta o la rompe\n",
    "\n",
    "Una lampadina si rompe dopo 10000 operazioni di accensione o spegnimento.\n",
    "\n",
    "A partire dalla classe `Lampadina` definire usando l'ereditarietà la classe `LampadinaRegolabile`. Questo tipo di lampadina, oltre alle funzioni della normale lampadina, consente di regolare la sua luminosità, da 20 a 100, attraverso:\n",
    "* un parametro aggiuntivo del metodo `accendi` che imposta il valore iniziale della luminosità dopo l'accenzione\n",
    "* un metodo `varia_luminosita` che modifica la luminosità della lampadina, all'interno dell'intervallo 20 - 100\n",
    "\n",
    "Inoltre la lampadina regolabile dura di meno della normale lampadina e si rompe dopo 5000 accensioni/spegnimenti.\n",
    "\n",
    "Una volta definite le classi `Lampadina` e `LampadinaRegolabile` scrivere un breve frammento di codice per testarne le funzionalità."
   ]
  },
  {
   "cell_type": "code",
   "execution_count": null,
   "metadata": {},
   "outputs": [],
   "source": []
  },
  {
   "cell_type": "code",
   "execution_count": null,
   "metadata": {},
   "outputs": [],
   "source": []
  }
 ],
 "metadata": {
  "kernelspec": {
   "display_name": "Python 3",
   "language": "python",
   "name": "python3"
  },
  "language_info": {
   "codemirror_mode": {
    "name": "ipython",
    "version": 3
   },
   "file_extension": ".py",
   "mimetype": "text/x-python",
   "name": "python",
   "nbconvert_exporter": "python",
   "pygments_lexer": "ipython3",
   "version": "3.7.9"
  }
 },
 "nbformat": 4,
 "nbformat_minor": 2
}
