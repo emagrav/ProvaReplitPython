{
 "cells": [
  {
   "cell_type": "markdown",
   "metadata": {},
   "source": [
    "# Functional Programming\n",
    "\n",
    "\n",
    "Functional programming is a style of programming that (as the name suggests) is based around functions.\n",
    "A key part of functional programming is `higher-order functions`. We have seen this idea briefly in the previous lesson on functions as objects. Higher-order functions *take other functions as arguments, or return them as results*.\n",
    "Example:"
   ]
  },
  {
   "cell_type": "code",
   "execution_count": 1,
   "metadata": {},
   "outputs": [
    {
     "name": "stdout",
     "output_type": "stream",
     "text": [
      "20\n"
     ]
    }
   ],
   "source": [
    "def apply_twice(func, args):\n",
    "    return func(func(args))\n",
    "\n",
    "def add_five(x):\n",
    "    return x + 5\n",
    "\n",
    "print(apply_twice(add_five, 10))"
   ]
  },
  {
   "cell_type": "markdown",
   "metadata": {},
   "source": [
    "## Pure Functions\n",
    "\n",
    "\n",
    "Functional programming seeks to use *pure functions*. \n",
    "**Pure functions have no side effects, and return a value that depends only on their arguments.**\n",
    "This is how functions in math work: for example, The cos(x) will, for the same value of x, always return the same result.\n",
    "Below are examples of pure and impure functions.\n",
    "Pure function:"
   ]
  },
  {
   "cell_type": "markdown",
   "metadata": {},
   "source": [
    "Pure function:"
   ]
  },
  {
   "cell_type": "code",
   "execution_count": null,
   "metadata": {},
   "outputs": [],
   "source": [
    "def pure_function(x, y):\n",
    "  temp = x + 2*y\n",
    "  return temp / (2*x + y)"
   ]
  },
  {
   "cell_type": "markdown",
   "metadata": {},
   "source": [
    "Impure function:"
   ]
  },
  {
   "cell_type": "code",
   "execution_count": null,
   "metadata": {},
   "outputs": [],
   "source": [
    "some_list = []\n",
    "\n",
    "def impure(arg):\n",
    "  some_list.append(arg)"
   ]
  },
  {
   "cell_type": "markdown",
   "metadata": {},
   "source": [
    "### Pure Functions\n",
    "\n",
    "\n",
    "Using pure functions has both advantages and disadvantages.\n",
    "Pure functions are:\n",
    "- easier to reason about and test.\n",
    "- more efficient. Once the function has been evaluated for an input, the result can be stored and referred to the next time the function of that input is needed, reducing the number of times the function is called. This is called `memoization`.\n",
    "- easier to run in parallel."
   ]
  },
  {
   "cell_type": "markdown",
   "metadata": {},
   "source": [
    "The main disadvantage of using only pure functions is that they majorly complicate the otherwise simple task of I/O, since this appears to inherently require side effects.\n",
    "They can also be more difficult to write in some situations."
   ]
  }
 ],
 "metadata": {
  "interpreter": {
   "hash": "34e585552094451cae220991e1ed44caa02093cab9026cc2bf65cee2cb2e025c"
  },
  "kernelspec": {
   "display_name": "Python 3.9.7 64-bit ('python_dev': conda)",
   "name": "python3"
  },
  "language_info": {
   "codemirror_mode": {
    "name": "ipython",
    "version": 3
   },
   "file_extension": ".py",
   "mimetype": "text/x-python",
   "name": "python",
   "nbconvert_exporter": "python",
   "pygments_lexer": "ipython3",
   "version": "3.9.7"
  },
  "orig_nbformat": 4
 },
 "nbformat": 4,
 "nbformat_minor": 2
}
