{
 "cells": [
  {
   "cell_type": "markdown",
   "source": [
    "# Leggere e creare dei file Excel da Python\r\n",
    ">>> ##### Guida da me rivisitata presente [qui](https://devnews.it/posts/596789626646aab171580ec0/come-leggere-creare-file-excel-con-python-openpyxl)\r\n"
   ],
   "metadata": {}
  },
  {
   "cell_type": "markdown",
   "source": [
    "Esistono molti moduli Python per leggere file Excel, ma in questa guida ci focalizzeremo su come usare il pacchetto [openpyxl](https://openpyxl.readthedocs.io/en/default/)"
   ],
   "metadata": {}
  },
  {
   "cell_type": "markdown",
   "source": [
    "## Come aprire e leggere file Excel con Python\r\n",
    "Vediamo il codice Python necessario per aprire il file e leggere il suo contenuto. Immaginiamo di avere un file Excel chiamato `test.xlsx`:"
   ],
   "metadata": {}
  },
  {
   "cell_type": "code",
   "execution_count": 2,
   "source": [
    "import openpyxl\r\n",
    "wb = openpyxl.load_workbook(filename='test.xlsx')"
   ],
   "outputs": [],
   "metadata": {}
  },
  {
   "cell_type": "markdown",
   "source": [
    "Con la prima linea importiamo il modulo openpyxl, e con la seconda andiamo ad utilizzare la funzione load_workbook() per aprire il file. Questa funzione ci restituisce un Oggetto di tipo Workbook.\r\n",
    "\r\n",
    "Per il corretto funzionamento di questo codice, avrete bisogno di avere il file Excel nella stessa directory del file python, altrimenti dovrete specificare l’intero path del file.\r\n",
    "\r\n",
    "Ora che abbiamo un file Workbook (file excel) vediamo come leggere il contenuto di una cella. "
   ],
   "metadata": {}
  },
  {
   "cell_type": "markdown",
   "source": [
    "In openpyxl è possibile accedere al valore di una cella, utilizzando le sue coordinate. Per esempio per accedere alla prima casella in alto a sinistra di un file, possiamo utilizzare la coordinata A1. Inoltre siccome i file Excel sono divisi in diverse tab chiamate sheet, dobbiamo specificare la sheet da cui andiamo a leggere la casella."
   ],
   "metadata": {}
  },
  {
   "cell_type": "markdown",
   "source": [
    "Vediamo il codice per leggere il valore di una casella Excel con Python:"
   ],
   "metadata": {}
  },
  {
   "cell_type": "code",
   "execution_count": 3,
   "source": [
    "sheet = wb[\"Sheet1\"]\r\n",
    "print(sheet['A1'].value)"
   ],
   "outputs": [
    {
     "output_type": "stream",
     "name": "stdout",
     "text": [
      "Hello world!\n"
     ]
    }
   ],
   "metadata": {}
  },
  {
   "cell_type": "markdown",
   "source": [
    "Come potete vedere possiamo accedere ad una lista di elementi, prendendo prima la Sheet1. In seguito andiamo ad accedere al valore (value) della casella A1.\r\n",
    "\r\n",
    "Oltre al valore della casella, possiamo accedere a il numero della riga e alle coordinate della casella:"
   ],
   "metadata": {}
  },
  {
   "cell_type": "code",
   "execution_count": 4,
   "source": [
    "casella = sheet['A1']\r\n",
    "# numero riga\r\n",
    "print(\"riga:\", casella.row)\r\n",
    "\r\n",
    "# coordinate casella\r\n",
    "print(\"coordinate:\", casella.coordinate)"
   ],
   "outputs": [
    {
     "output_type": "stream",
     "name": "stdout",
     "text": [
      "riga: 1\n",
      "coordinate: A1\n"
     ]
    }
   ],
   "metadata": {}
  },
  {
   "cell_type": "markdown",
   "source": [
    "Un modo più facile per accedere a casella Excel è utilizzare il metodo cell() e passare riga e colonna come parametri:"
   ],
   "metadata": {}
  },
  {
   "cell_type": "code",
   "execution_count": 5,
   "source": [
    "casella = sheet.cell(row=1, column=2)\r\n",
    "print(\"riga:\", casella.row)\r\n",
    "print(\"coordinate:\", casella.coordinate)\r\n",
    "print(\"valore:\", casella.value)"
   ],
   "outputs": [
    {
     "output_type": "stream",
     "name": "stdout",
     "text": [
      "riga: 1\n",
      "coordinate: B1\n",
      "valore: Ciao mondo!\n"
     ]
    }
   ],
   "metadata": {}
  },
  {
   "cell_type": "markdown",
   "source": [
    "## Come creare e scrivere un file Excel con Python"
   ],
   "metadata": {}
  },
  {
   "cell_type": "markdown",
   "source": [
    "Ora che abbiamo visto come leggere da un file Excel, vediamo come creare e salvare un file. Per lavorare con il file Excel non c’è alcun bisogno di creare il file sul FS, invece possiamo creare il file in memoria e poi salvarlo in seguito. \r\n",
    "\r\n",
    "Per creare un file Excel con openpyxl basta semplicemente chiamare la funzione Workbook(). Vediamo come:"
   ],
   "metadata": {}
  },
  {
   "cell_type": "code",
   "execution_count": 6,
   "source": [
    "nuovo_wb = openpyxl.Workbook()\r\n",
    "sheet = nuovo_wb.active\r\n",
    "sheet.title = 'Foglio1'\r\n",
    "nuovo_wb.save('file_esempio.xlsx')"
   ],
   "outputs": [],
   "metadata": {}
  },
  {
   "cell_type": "markdown",
   "source": [
    "Come potete vedere questo script crea un nuovo file Excel, assegna un titolo alla Sheet attiva, e salva il file con un nome."
   ],
   "metadata": {}
  },
  {
   "cell_type": "markdown",
   "source": [
    "## Come inserire dei valori nelle caselle"
   ],
   "metadata": {}
  },
  {
   "cell_type": "markdown",
   "source": [
    "Inserire valori nelle caselle è molto simile al processo di lettura. Infatti, una volta creato il file possiamo accedere alle caselle di questo file utilizzando ancora una volta le sue coordinate. Vediamo un esempio:"
   ],
   "metadata": {}
  },
  {
   "cell_type": "code",
   "execution_count": 7,
   "source": [
    "sheet = nuovo_wb['Foglio1']\r\n",
    "sheet['A1'] = 'Hello world!'\r\n",
    "print(\"valore cella:\", sheet['A1'].value)\r\n",
    "nuovo_wb.save('file_esempio.xlsx')"
   ],
   "outputs": [
    {
     "output_type": "stream",
     "name": "stdout",
     "text": [
      "valore cella: Hello world!\n"
     ]
    }
   ],
   "metadata": {}
  },
  {
   "cell_type": "markdown",
   "source": [
    "Ora se eseguite questo script, dovreste vedere il vostro nuovo file Excel nella stessa directory del file Python.\r\n",
    "\r\n",
    "Ci siamo! Siamo riusciti a creare un file Excel con Python utilizzando il modulo openpyxl."
   ],
   "metadata": {}
  }
 ],
 "metadata": {
  "orig_nbformat": 4,
  "language_info": {
   "name": "python",
   "version": "3.7.11",
   "mimetype": "text/x-python",
   "codemirror_mode": {
    "name": "ipython",
    "version": 3
   },
   "pygments_lexer": "ipython3",
   "nbconvert_exporter": "python",
   "file_extension": ".py"
  },
  "kernelspec": {
   "name": "python3",
   "display_name": "Python 3.7.11 64-bit ('Python_Dev': conda)"
  },
  "interpreter": {
   "hash": "35c0b3597cfb832173173fbfafd89005b7bc5be168df58754a561fda88188955"
  }
 },
 "nbformat": 4,
 "nbformat_minor": 2
}