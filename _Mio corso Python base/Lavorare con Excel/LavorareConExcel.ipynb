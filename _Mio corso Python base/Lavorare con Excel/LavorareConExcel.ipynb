{
 "cells": [
  {
   "cell_type": "markdown",
   "source": [
    "# Leggere e creare dei file Excel da Python\r\n",
    ">>> ##### Guida da me rivisitata presente [qui](https://devnews.it/posts/596789626646aab171580ec0/come-leggere-creare-file-excel-con-python-openpyxl)\r\n"
   ],
   "metadata": {}
  },
  {
   "cell_type": "markdown",
   "source": [
    "Esistono molti moduli Python per leggere file Excel, ma in questa guida ci focalizzeremo su come usare il pacchetto [openpyxl](https://openpyxl.readthedocs.io/en/default/)"
   ],
   "metadata": {}
  },
  {
   "cell_type": "markdown",
   "source": [
    "## Come aprire e leggere file Excel con Python\r\n",
    "Vediamo il codice Python necessario per aprire il file e leggere il suo contenuto. Immaginiamo di avere un file Excel chiamato `test.xlsx`:"
   ],
   "metadata": {}
  },
  {
   "cell_type": "code",
   "execution_count": 2,
   "source": [
    "import openpyxl\r\n",
    "wb = openpyxl.load_workbook(filename='test.xlsx')"
   ],
   "outputs": [],
   "metadata": {}
  },
  {
   "cell_type": "markdown",
   "source": [
    "Con la prima linea importiamo il modulo openpyxl, e con la seconda andiamo ad utilizzare la funzione load_workbook() per aprire il file. Questa funzione ci restituisce un Oggetto di tipo Workbook.\r\n",
    "\r\n",
    "Per il corretto funzionamento di questo codice, avrete bisogno di avere il file Excel nella stessa directory del file python, altrimenti dovrete specificare l’intero path del file.\r\n",
    "\r\n",
    "Ora che abbiamo un file Workbook (file excel) vediamo come leggere il contenuto di una cella. "
   ],
   "metadata": {}
  },
  {
   "cell_type": "markdown",
   "source": [
    "In openpyxl è possibile accedere al valore di una cella, utilizzando le sue coordinate. Per esempio per accedere alla prima casella in alto a sinistra di un file, possiamo utilizzare la coordinata A1. Inoltre siccome i file Excel sono divisi in diverse tab chiamate sheet, dobbiamo specificare la sheet da cui andiamo a leggere la casella."
   ],
   "metadata": {}
  },
  {
   "cell_type": "markdown",
   "source": [
    "Vediamo il codice per leggere il valore di una casella Excel con Python:"
   ],
   "metadata": {}
  },
  {
   "cell_type": "code",
   "execution_count": 3,
   "source": [
    "sheet = wb[\"Sheet1\"]\r\n",
    "print(sheet['A1'].value)"
   ],
   "outputs": [
    {
     "output_type": "stream",
     "name": "stdout",
     "text": [
      "Hello world!\n"
     ]
    }
   ],
   "metadata": {}
  },
  {
   "cell_type": "markdown",
   "source": [
    "Come potete vedere possiamo accedere ad una lista di elementi, prendendo prima la Sheet1. In seguito andiamo ad accedere al valore (value) della casella A1.\r\n",
    "\r\n",
    "Oltre al valore della casella, possiamo accedere a il numero della riga e alle coordinate della casella:"
   ],
   "metadata": {}
  },
  {
   "cell_type": "code",
   "execution_count": 4,
   "source": [
    "casella = sheet['A1']\r\n",
    "# numero riga\r\n",
    "print(\"riga:\", casella.row)\r\n",
    "\r\n",
    "# coordinate casella\r\n",
    "print(\"coordinate:\", casella.coordinate)"
   ],
   "outputs": [
    {
     "output_type": "stream",
     "name": "stdout",
     "text": [
      "riga: 1\n",
      "coordinate: A1\n"
     ]
    }
   ],
   "metadata": {}
  },
  {
   "cell_type": "markdown",
   "source": [
    "Un modo più facile per accedere a casella Excel è utilizzare il metodo cell() e passare riga e colonna come parametri:"
   ],
   "metadata": {}
  },
  {
   "cell_type": "code",
   "execution_count": 5,
   "source": [
    "casella = sheet.cell(row=1, column=2)\r\n",
    "print(\"riga:\", casella.row)\r\n",
    "print(\"coordinate:\", casella.coordinate)\r\n",
    "print(\"valore:\", casella.value)"
   ],
   "outputs": [
    {
     "output_type": "stream",
     "name": "stdout",
     "text": [
      "riga: 1\n",
      "coordinate: B1\n",
      "valore: Ciao mondo!\n"
     ]
    }
   ],
   "metadata": {}
  },
  {
   "cell_type": "markdown",
   "source": [
    "## Come creare e scrivere un file Excel con Python"
   ],
   "metadata": {}
  },
  {
   "cell_type": "markdown",
   "source": [
    "Ora che abbiamo visto come leggere da un file Excel, vediamo come creare e salvare un file. Per lavorare con il file Excel non c’è alcun bisogno di creare il file sul FS, invece possiamo creare il file in memoria e poi salvarlo in seguito. \r\n",
    "\r\n",
    "Per creare un file Excel con openpyxl basta semplicemente chiamare la funzione Workbook(). Vediamo come:"
   ],
   "metadata": {}
  },
  {
   "cell_type": "code",
   "execution_count": 2,
   "source": [
    "import openpyxl\r\n",
    "wb = openpyxl.Workbook()\r\n",
    "sheet = wb.active\r\n",
    "sheet.title = 'Foglio1'\r\n",
    "wb.save('file_esempio.xlsx')"
   ],
   "outputs": [],
   "metadata": {}
  },
  {
   "cell_type": "markdown",
   "source": [
    "Come potete vedere questo script crea un nuovo file Excel, assegna un titolo alla Sheet attiva, e salva il file con un nome."
   ],
   "metadata": {}
  },
  {
   "cell_type": "markdown",
   "source": [
    "## Come inserire dei valori nelle caselle"
   ],
   "metadata": {}
  },
  {
   "cell_type": "markdown",
   "source": [
    "Inserire valori nelle caselle è molto simile al processo di lettura. Infatti, una volta creato il file possiamo accedere alle caselle di questo file utilizzando ancora una volta le sue coordinate. Vediamo un esempio:"
   ],
   "metadata": {}
  },
  {
   "cell_type": "code",
   "execution_count": 6,
   "source": [
    "ws = wb['Foglio1']\r\n",
    "ws['A1'] = 'Hello world!'\r\n",
    "print(\"valore cella:\", ws['A1'].value)\r\n",
    "wb.save('file_esempio.xlsx')"
   ],
   "outputs": [
    {
     "output_type": "stream",
     "name": "stdout",
     "text": [
      "valore cella: Hello world!\n"
     ]
    }
   ],
   "metadata": {}
  },
  {
   "cell_type": "markdown",
   "source": [
    "Ora se eseguite questo script, dovreste vedere il vostro nuovo file Excel nella stessa directory del file Python.\r\n",
    "\r\n",
    "Ci siamo! Siamo riusciti a creare un file Excel con Python utilizzando il modulo openpyxl."
   ],
   "metadata": {}
  },
  {
   "cell_type": "markdown",
   "source": [
    "---"
   ],
   "metadata": {}
  },
  {
   "cell_type": "markdown",
   "source": [
    "# Playing with data\r\n",
    "## Accessing one cell\r\n",
    "Now we know how to access a worksheet, we can start modifying cells content.\r\n",
    "\r\n",
    "Cells can be accessed directly as keys of the worksheet"
   ],
   "metadata": {}
  },
  {
   "cell_type": "code",
   "execution_count": 7,
   "source": [
    "c = ws['A4']\r\n",
    "print(c)"
   ],
   "outputs": [
    {
     "output_type": "stream",
     "name": "stdout",
     "text": [
      "<Cell 'Foglio1'.A4>\n"
     ]
    }
   ],
   "metadata": {}
  },
  {
   "cell_type": "markdown",
   "source": [
    "This will return the cell at A4 or create one if it does not exist yet. Values can be directly assigned"
   ],
   "metadata": {}
  },
  {
   "cell_type": "code",
   "execution_count": 8,
   "source": [
    "print(c.value)\r\n",
    "ws['A4'] = 4\r\n",
    "print(c.value)"
   ],
   "outputs": [
    {
     "output_type": "stream",
     "name": "stdout",
     "text": [
      "None\n",
      "4\n"
     ]
    }
   ],
   "metadata": {}
  },
  {
   "cell_type": "markdown",
   "source": [
    "There is also the `openpyxl.worksheet.Worksheet.cell()` method.\r\n",
    "\r\n",
    "This provides access to cells using row and column notation:"
   ],
   "metadata": {}
  },
  {
   "cell_type": "code",
   "execution_count": 10,
   "source": [
    "d = ws.cell(row=4, column=2, value=10)\r\n",
    "print(d)\r\n",
    "print(d.value)"
   ],
   "outputs": [
    {
     "output_type": "stream",
     "name": "stdout",
     "text": [
      "<Cell 'Foglio1'.B4>\n",
      "10\n"
     ]
    }
   ],
   "metadata": {}
  },
  {
   "cell_type": "markdown",
   "source": [
    "### Note\r\n",
    "\r\n",
    "When a worksheet is created in memory, it contains no cells. They are created when first accessed.\r\n",
    "\r\n",
    "### Warning\r\n",
    "\r\n",
    "Because of this feature, scrolling through cells instead of accessing them directly will create them all in memory, even if you don’t assign them a value.\r\n",
    "\r\n",
    "Something like\r\n",
    "\r\n",
    "```Python \r\n",
    ">>>  for i in range(1,101):\r\n",
    "...        for j in range(1,101):\r\n",
    "...            ws.cell(row=i, column=j)\r\n",
    "```\r\n",
    "\r\n",
    "will create 100x100 cells in memory, for nothing."
   ],
   "metadata": {}
  },
  {
   "cell_type": "markdown",
   "source": [
    "## Accessing many cells\r\n",
    "Ranges of cells can be accessed using slicing"
   ],
   "metadata": {}
  },
  {
   "cell_type": "code",
   "execution_count": 11,
   "source": [
    "cell_range = ws['A1':'C2']"
   ],
   "outputs": [],
   "metadata": {}
  },
  {
   "cell_type": "markdown",
   "source": [
    "Ranges of rows or columns can be obtained similarly:"
   ],
   "metadata": {}
  },
  {
   "cell_type": "code",
   "execution_count": 12,
   "source": [
    "colC = ws['C']\r\n",
    "col_range = ws['C:D']\r\n",
    "row10 = ws[10]\r\n",
    "row_range = ws[5:10]"
   ],
   "outputs": [],
   "metadata": {}
  },
  {
   "cell_type": "markdown",
   "source": [
    "You can also use the `openpyxl.worksheet.Worksheet.iter_rows()` method:"
   ],
   "metadata": {}
  },
  {
   "cell_type": "code",
   "execution_count": 13,
   "source": [
    "# in questo caso nei parametri di iter_rows definisco il range da esaminare\r\n",
    "for row in ws.iter_rows(min_row=1, max_col=3, max_row=2):\r\n",
    "    for cell in row:\r\n",
    "        print(cell)"
   ],
   "outputs": [
    {
     "output_type": "stream",
     "name": "stdout",
     "text": [
      "<Cell 'Foglio1'.A1>\n",
      "<Cell 'Foglio1'.B1>\n",
      "<Cell 'Foglio1'.C1>\n",
      "<Cell 'Foglio1'.A2>\n",
      "<Cell 'Foglio1'.B2>\n",
      "<Cell 'Foglio1'.C2>\n"
     ]
    }
   ],
   "metadata": {}
  },
  {
   "cell_type": "markdown",
   "source": [
    "Likewise the `openpyxl.worksheet.Worksheet.iter_cols()` method will return columns:"
   ],
   "metadata": {}
  },
  {
   "cell_type": "code",
   "execution_count": 14,
   "source": [
    "# parimenti nei parametri di iter_cols definisco il range da esaminare\r\n",
    "for col in ws.iter_cols(min_row=1, max_col=3, max_row=2):\r\n",
    "     for cell in col:\r\n",
    "         print(cell)"
   ],
   "outputs": [
    {
     "output_type": "stream",
     "name": "stdout",
     "text": [
      "<Cell 'Foglio1'.A1>\n",
      "<Cell 'Foglio1'.A2>\n",
      "<Cell 'Foglio1'.B1>\n",
      "<Cell 'Foglio1'.B2>\n",
      "<Cell 'Foglio1'.C1>\n",
      "<Cell 'Foglio1'.C2>\n"
     ]
    }
   ],
   "metadata": {}
  },
  {
   "cell_type": "markdown",
   "source": [
    "If you need to iterate through all the rows or columns of a worksheet, you can instead use the `openpyxl.worksheet.Worksheet.rows()` property:"
   ],
   "metadata": {}
  },
  {
   "cell_type": "markdown",
   "source": [
    "Siccome qui sotto valorizzo la cella C9, automaticamente vengono create 3 righe (A, B, C) e 9 colonne. Questo sarà pertanto l'intero range del foglio. <br>\r\n",
    "NOTA: non si sa perché ma viene creata una riga (10) e una colonna (D) in più.\r\n",
    "Eppure nel [tutorial](https://openpyxl.readthedocs.io/en/default/tutorial.html) si vede che arriva fino a C9... Boh!?"
   ],
   "metadata": {}
  },
  {
   "cell_type": "code",
   "execution_count": 15,
   "source": [
    "ws = wb.active\r\n",
    "ws['C9'] = 'hello world'\r\n",
    "tuple(ws.rows)"
   ],
   "outputs": [
    {
     "output_type": "execute_result",
     "data": {
      "text/plain": [
       "((<Cell 'Foglio1'.A1>,\n",
       "  <Cell 'Foglio1'.B1>,\n",
       "  <Cell 'Foglio1'.C1>,\n",
       "  <Cell 'Foglio1'.D1>),\n",
       " (<Cell 'Foglio1'.A2>,\n",
       "  <Cell 'Foglio1'.B2>,\n",
       "  <Cell 'Foglio1'.C2>,\n",
       "  <Cell 'Foglio1'.D2>),\n",
       " (<Cell 'Foglio1'.A3>,\n",
       "  <Cell 'Foglio1'.B3>,\n",
       "  <Cell 'Foglio1'.C3>,\n",
       "  <Cell 'Foglio1'.D3>),\n",
       " (<Cell 'Foglio1'.A4>,\n",
       "  <Cell 'Foglio1'.B4>,\n",
       "  <Cell 'Foglio1'.C4>,\n",
       "  <Cell 'Foglio1'.D4>),\n",
       " (<Cell 'Foglio1'.A5>,\n",
       "  <Cell 'Foglio1'.B5>,\n",
       "  <Cell 'Foglio1'.C5>,\n",
       "  <Cell 'Foglio1'.D5>),\n",
       " (<Cell 'Foglio1'.A6>,\n",
       "  <Cell 'Foglio1'.B6>,\n",
       "  <Cell 'Foglio1'.C6>,\n",
       "  <Cell 'Foglio1'.D6>),\n",
       " (<Cell 'Foglio1'.A7>,\n",
       "  <Cell 'Foglio1'.B7>,\n",
       "  <Cell 'Foglio1'.C7>,\n",
       "  <Cell 'Foglio1'.D7>),\n",
       " (<Cell 'Foglio1'.A8>,\n",
       "  <Cell 'Foglio1'.B8>,\n",
       "  <Cell 'Foglio1'.C8>,\n",
       "  <Cell 'Foglio1'.D8>),\n",
       " (<Cell 'Foglio1'.A9>,\n",
       "  <Cell 'Foglio1'.B9>,\n",
       "  <Cell 'Foglio1'.C9>,\n",
       "  <Cell 'Foglio1'.D9>),\n",
       " (<Cell 'Foglio1'.A10>,\n",
       "  <Cell 'Foglio1'.B10>,\n",
       "  <Cell 'Foglio1'.C10>,\n",
       "  <Cell 'Foglio1'.D10>))"
      ]
     },
     "metadata": {},
     "execution_count": 15
    }
   ],
   "metadata": {}
  },
  {
   "cell_type": "markdown",
   "source": [
    "or the `openpyxl.worksheet.Worksheet.columns()` property:"
   ],
   "metadata": {}
  },
  {
   "cell_type": "code",
   "execution_count": 16,
   "source": [
    "tuple(ws.columns)"
   ],
   "outputs": [
    {
     "output_type": "execute_result",
     "data": {
      "text/plain": [
       "((<Cell 'Foglio1'.A1>,\n",
       "  <Cell 'Foglio1'.A2>,\n",
       "  <Cell 'Foglio1'.A3>,\n",
       "  <Cell 'Foglio1'.A4>,\n",
       "  <Cell 'Foglio1'.A5>,\n",
       "  <Cell 'Foglio1'.A6>,\n",
       "  <Cell 'Foglio1'.A7>,\n",
       "  <Cell 'Foglio1'.A8>,\n",
       "  <Cell 'Foglio1'.A9>,\n",
       "  <Cell 'Foglio1'.A10>),\n",
       " (<Cell 'Foglio1'.B1>,\n",
       "  <Cell 'Foglio1'.B2>,\n",
       "  <Cell 'Foglio1'.B3>,\n",
       "  <Cell 'Foglio1'.B4>,\n",
       "  <Cell 'Foglio1'.B5>,\n",
       "  <Cell 'Foglio1'.B6>,\n",
       "  <Cell 'Foglio1'.B7>,\n",
       "  <Cell 'Foglio1'.B8>,\n",
       "  <Cell 'Foglio1'.B9>,\n",
       "  <Cell 'Foglio1'.B10>),\n",
       " (<Cell 'Foglio1'.C1>,\n",
       "  <Cell 'Foglio1'.C2>,\n",
       "  <Cell 'Foglio1'.C3>,\n",
       "  <Cell 'Foglio1'.C4>,\n",
       "  <Cell 'Foglio1'.C5>,\n",
       "  <Cell 'Foglio1'.C6>,\n",
       "  <Cell 'Foglio1'.C7>,\n",
       "  <Cell 'Foglio1'.C8>,\n",
       "  <Cell 'Foglio1'.C9>,\n",
       "  <Cell 'Foglio1'.C10>),\n",
       " (<Cell 'Foglio1'.D1>,\n",
       "  <Cell 'Foglio1'.D2>,\n",
       "  <Cell 'Foglio1'.D3>,\n",
       "  <Cell 'Foglio1'.D4>,\n",
       "  <Cell 'Foglio1'.D5>,\n",
       "  <Cell 'Foglio1'.D6>,\n",
       "  <Cell 'Foglio1'.D7>,\n",
       "  <Cell 'Foglio1'.D8>,\n",
       "  <Cell 'Foglio1'.D9>,\n",
       "  <Cell 'Foglio1'.D10>))"
      ]
     },
     "metadata": {},
     "execution_count": 16
    }
   ],
   "metadata": {}
  },
  {
   "cell_type": "markdown",
   "source": [
    "Riepilogando questi ultimi concetti, usando `rows` itero su tutto il foglio che include, ad esempio, anche la prima riga che in genere è \"riservata\" alle intestazioni delle colonne\r\n",
    "```Python\r\n",
    "for row in ws.rows:\r\n",
    "    #print(row[0].value, row[1].value)\r\n",
    "    for cell in row:\r\n",
    "        print(cell)\r\n",
    "```\r\n",
    "Usando invece `iter_rows` itero solo su un range, un sottoinsieme del foglio, e pertanto riesco facilmente ad escludere la prima riga (`min_row=2`) se questa dovesse riportare le intestazioni delle colonne\r\n",
    "```Python\r\n",
    "for row in ws.iter_rows(min_row=2, max_col=2, max_row=322):\r\n",
    "    #print(row[0].value, row[1].value)\r\n",
    "    for cell in row:\r\n",
    "        print(cell.value)\r\n",
    "```"
   ],
   "metadata": {}
  }
 ],
 "metadata": {
  "orig_nbformat": 4,
  "language_info": {
   "name": "python",
   "version": "3.7.11",
   "mimetype": "text/x-python",
   "codemirror_mode": {
    "name": "ipython",
    "version": 3
   },
   "pygments_lexer": "ipython3",
   "nbconvert_exporter": "python",
   "file_extension": ".py"
  },
  "kernelspec": {
   "name": "python3",
   "display_name": "Python 3.7.11 64-bit ('Python_Dev': conda)"
  },
  "interpreter": {
   "hash": "35c0b3597cfb832173173fbfafd89005b7bc5be168df58754a561fda88188955"
  }
 },
 "nbformat": 4,
 "nbformat_minor": 2
}