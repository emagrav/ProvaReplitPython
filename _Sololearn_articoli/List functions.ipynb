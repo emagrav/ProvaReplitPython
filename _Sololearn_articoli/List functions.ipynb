{
 "cells": [
  {
   "cell_type": "markdown",
   "metadata": {},
   "source": [
    "# List Functions\n",
    "\n",
    "\n",
    "Often used in conditional statements, `all` and `any` take a list as an argument, and return True if all or any (respectively) of their arguments evaluate to True (and False otherwise).\n",
    "The function `enumerate` can be used to iterate through the values and indices of a list simultaneously.\n",
    "Example:"
   ]
  },
  {
   "cell_type": "code",
   "execution_count": 1,
   "metadata": {},
   "outputs": [
    {
     "name": "stdout",
     "output_type": "stream",
     "text": [
      "All larger than 5\n",
      "At least one is even\n",
      "(0, 55)\n",
      "(1, 44)\n",
      "(2, 33)\n",
      "(3, 22)\n",
      "(4, 11)\n"
     ]
    }
   ],
   "source": [
    "nums = [55, 44, 33, 22, 11]\n",
    "\n",
    "# Tutti in numeri contenuti in nums sono maggiori di 5\n",
    "if all([i > 5 for i in nums]):\n",
    "    print(\"All larger than 5\")\n",
    "\n",
    "# Dal momento che sia 44 che 22 sono positivi quindi almeno uno è positivo\n",
    "if any([i % 2 == 0 for i in nums]): \n",
    "    print(\"At least one is even\")\n",
    "\n",
    "for v in enumerate(nums):\n",
    "    print(v)"
   ]
  }
 ],
 "metadata": {
  "interpreter": {
   "hash": "34e585552094451cae220991e1ed44caa02093cab9026cc2bf65cee2cb2e025c"
  },
  "kernelspec": {
   "display_name": "Python 3.9.7 64-bit ('python_dev': conda)",
   "name": "python3"
  },
  "language_info": {
   "codemirror_mode": {
    "name": "ipython",
    "version": 3
   },
   "file_extension": ".py",
   "mimetype": "text/x-python",
   "name": "python",
   "nbconvert_exporter": "python",
   "pygments_lexer": "ipython3",
   "version": "3.9.7"
  },
  "orig_nbformat": 4
 },
 "nbformat": 4,
 "nbformat_minor": 2
}
