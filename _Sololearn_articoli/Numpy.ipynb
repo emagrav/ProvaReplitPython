{
 "cells": [
  {
   "cell_type": "markdown",
   "source": [
    "# Numpy"
   ],
   "metadata": {}
  },
  {
   "cell_type": "markdown",
   "source": [
    "## The Numpy Library"
   ],
   "metadata": {}
  },
  {
   "cell_type": "markdown",
   "source": [
    "The NumPy library (NumPy, Numerical Python) is a package of high-level mathematical and numerical functions and tools that are designed to work with the numpy array object. A numpy array is a high performance multidimensional data structure and is all around more efficient and convenient than a Python list. \r\n",
    "\r\n",
    "A Python program using the numpy library may require installing the package. Additionally, a program that uses the package must include the statement:\r\n"
   ],
   "metadata": {}
  },
  {
   "cell_type": "code",
   "execution_count": 2,
   "source": [
    "import numpy"
   ],
   "outputs": [],
   "metadata": {}
  },
  {
   "cell_type": "markdown",
   "source": [
    "## The Numpy Array"
   ],
   "metadata": {}
  },
  {
   "cell_type": "markdown",
   "source": [
    "Python deals primarily with lists and doesn't have a native array structure, so to understand the numpy array it's important to have a basic understanding of arrays. \r\n",
    "A one-dimensional array can be directly compared to a Python list because they both store a list of numbers. Similarly, the data in an array are called `elements` and they are accessed using brackets `[ ]`. \r\n",
    "A two-dimensional array has a grid structure with rows and columns. \r\n",
    "And a three-dimensional array can be thought of as a stack of two-dimensional arrays. \r\n",
    "\r\n",
    "Numpy arrays are a fixed size, indexed starting at 0, and contain elements of all the same type. They are ndarray objects and are created using the `np.array()` function.\r\n",
    "\r\n",
    "For example"
   ],
   "metadata": {}
  },
  {
   "cell_type": "code",
   "execution_count": 3,
   "source": [
    "import numpy as np\r\n",
    "b = np.array([1, 2, 3, 4])"
   ],
   "outputs": [],
   "metadata": {}
  },
  {
   "cell_type": "markdown",
   "source": [
    "The code above creates a one-dimensional array with four constants. \r\n",
    "Numpy arrays refer to dimensions as `axes` and the number of axes is `rank`. Therefore, b is an array of rank 1. \r\n",
    "\r\n",
    "There are several numpy functions for describing an array and its elements, as demonstrated in the code below:"
   ],
   "metadata": {}
  },
  {
   "cell_type": "code",
   "execution_count": 5,
   "source": [
    "import numpy as np\r\n",
    "\r\n",
    "# Create an array of rank 2\r\n",
    "my_arr = np.array([[1,2,3,4], [5,6,7,8]])\r\n",
    "\r\n",
    "print(my_arr)\r\n",
    "print(my_arr[1, 2]) # access a single element\r\n",
    "print(my_arr.ndim) # the rank\r\n",
    "print(my_arr.shape) # returns (n, m) --> n rows, m columns\r\n",
    "print(my_arr.size) # number of elements \r\n",
    "print(type(my_arr)) # element type"
   ],
   "outputs": [
    {
     "output_type": "stream",
     "name": "stdout",
     "text": [
      "[[1 2 3 4]\n",
      " [5 6 7 8]]\n",
      "7\n",
      "2\n",
      "(2, 4)\n",
      "8\n",
      "<class 'numpy.ndarray'>\n"
     ]
    }
   ],
   "metadata": {}
  },
  {
   "cell_type": "markdown",
   "source": [
    "Note the use of brackets when creating the array. Brackets are also used when accessing an element."
   ],
   "metadata": {}
  },
  {
   "cell_type": "markdown",
   "source": [
    "---"
   ],
   "metadata": {}
  },
  {
   "cell_type": "markdown",
   "source": [
    "## Creating NumPy Arrays"
   ],
   "metadata": {}
  },
  {
   "cell_type": "markdown",
   "source": [
    "NumPy includes several functions for creating arrays. You can initialize arrays with ones or zeros, and you can also create arrays that are filled with constant values or random values."
   ],
   "metadata": {}
  },
  {
   "cell_type": "code",
   "execution_count": 7,
   "source": [
    "import numpy as np\r\n",
    "\r\n",
    "a = np.ones((3,2))  # array of 1s\r\n",
    "print(a)\r\n",
    "\r\n",
    "b = np.zeros((3,4)) # array of 0s\r\n",
    "print(b)\r\n",
    "\r\n",
    "c = np.random.random(3) # array of random value\r\n",
    "print(c)\r\n",
    "\r\n",
    "d = np.full((2,2),12) # array filled with constant values\r\n",
    "print(d)  "
   ],
   "outputs": [
    {
     "output_type": "stream",
     "name": "stdout",
     "text": [
      "[[1. 1.]\n",
      " [1. 1.]\n",
      " [1. 1.]]\n",
      "[[0. 0. 0. 0.]\n",
      " [0. 0. 0. 0.]\n",
      " [0. 0. 0. 0.]]\n",
      "[0.52808852 0.46208081 0.86412537]\n",
      "[[12 12]\n",
      " [12 12]]\n"
     ]
    }
   ],
   "metadata": {}
  },
  {
   "cell_type": "markdown",
   "source": [
    "Also available is the `np.empty()` function for creating an array of uninitialized elements. \r\n",
    "The `np.eye()`  and ` np.identity()`  functions are for creating identity arrays for matrix calculations.\r\n",
    "\r\n",
    "You can optionally specify the data type for array elements at the time of creation.\r\n",
    "\r\n",
    "For example"
   ],
   "metadata": {}
  },
  {
   "cell_type": "code",
   "execution_count": 6,
   "source": [
    "d=np.full((2,2), 12, dtype=np.float32)"
   ],
   "outputs": [],
   "metadata": {}
  },
  {
   "cell_type": "markdown",
   "source": [
    "The `copy()` function creates a copy of an array. For example\r\n",
    "```python\r\n",
    "a = b.copy()\r\n",
    "```\r\n",
    "\r\n",
    "The `loadtxt()` function can be used to load data from a file into an array. The `save()` function is used to save a numpy array to a file."
   ],
   "metadata": {}
  },
  {
   "cell_type": "markdown",
   "source": [
    "---"
   ],
   "metadata": {}
  },
  {
   "cell_type": "markdown",
   "source": [
    "## NumPy: Creating a sequence"
   ],
   "metadata": {}
  },
  {
   "cell_type": "markdown",
   "source": [
    "Two useful numpy functions for creating a list of numbers that fill a range are: \r\n",
    "`np.arange(start, end, step)`  Creates a numpy array with elements ranging in value from start to end, incrementing by step. Only end is required. Omitting start and step creates an evenly spaced range from 0 to end.\r\n",
    "\r\n",
    "`np.linspace(start, end, numvalues)`  Creates a numpy array with numvalues values evenly spaced from start to end.\r\n",
    "\r\n",
    "The following code demonstrates np.arange and np.linspace:"
   ],
   "metadata": {}
  },
  {
   "cell_type": "code",
   "execution_count": 8,
   "source": [
    "import numpy as np\r\n",
    "\r\n",
    "a = np.arange(0, 10, 2) \r\n",
    "print(a)\r\n",
    "\r\n",
    "b = np.arange(6) \r\n",
    "print(b)\r\n",
    "\r\n",
    "# l'ultimo parametro dice quanti elementi vengono presi\r\n",
    "c = np.linspace(0, 10, 6)\r\n",
    "print(c) "
   ],
   "outputs": [
    {
     "output_type": "stream",
     "name": "stdout",
     "text": [
      "[0 2 4 6 8]\n",
      "[0 1 2 3 4 5]\n",
      "[ 0.  2.  4.  6.  8. 10.]\n"
     ]
    }
   ],
   "metadata": {}
  },
  {
   "cell_type": "markdown",
   "source": [
    "Both functions evenly space values. However, the np.arange function returns values up to the end parameter, whereas the np.linspace returns a specified number of elements."
   ],
   "metadata": {}
  },
  {
   "cell_type": "markdown",
   "source": [
    "---"
   ],
   "metadata": {}
  },
  {
   "cell_type": "markdown",
   "source": [
    "## NumPy: Changing Array Shape & Size"
   ],
   "metadata": {}
  },
  {
   "cell_type": "markdown",
   "source": [
    "A numpy array can be reshaped and resized. \r\n",
    "Reshaping with `np.reshape` returns a *new* array with a modified shape and resizing with `np.resize` modifies the original array. \r\n",
    "A third function `np.ravel` returns a flattened array.\r\n",
    "\r\n",
    "For example"
   ],
   "metadata": {}
  },
  {
   "cell_type": "code",
   "execution_count": 14,
   "source": [
    "import numpy as np\r\n",
    "\r\n",
    "# Array iniziale\r\n",
    "a = np.arange (10)\r\n",
    "print(a)\r\n",
    "print(a.shape) \r\n",
    "# (10,)\r\n",
    "\r\n",
    "# con resize l'array originale viene modificato\r\n",
    "a.resize(2,5) \r\n",
    "print(a.shape) # stampiamo shape per controllare\r\n",
    "# (2, 5)\r\n",
    "# nonché l'array stesso: l'array è effettivamente cambiato!\r\n",
    "print(a)\r\n",
    "# [[0 1 2 3 4] \r\n",
    "# [5 6 7 8 9]]\r\n",
    "\r\n",
    "# Creiamo un altro array\r\n",
    "b = np.array([[1,2,3], [4,5,6]])\r\n",
    "print (b) \r\n",
    "# [[1 2 3]\r\n",
    "# [4 5 6]]\r\n",
    "\r\n",
    "# con reshape, invece, l'array originale non viene modificato\r\n",
    "# ma restituito un altro array (nel nostro caso, quello che\r\n",
    "# viene qui di seguito stampato)\r\n",
    "print(b.reshape(3,2)) \r\n",
    "# [[1 2]\r\n",
    "# [3 4] \r\n",
    "# [5 6]]\r\n",
    "\r\n",
    "# stampiamo lo shape dell'array x controllare lo stato\r\n",
    "# dell'array originale\r\n",
    "print(b.shape)\r\n",
    "# (2, 3)\r\n",
    "# e l'array originale per concludere che effettivamente non è cambiato\r\n",
    "print (b) \r\n",
    "\r\n",
    "# appiattiamo l'array (facendolo diventare monodimensionale)\r\n",
    "print(b.ravel()) # or np.ravel(b)\r\n",
    "# [1 2 3 4 5 6]\r\n",
    "# anche in questo caso, l'array originale non è cambia\r\n",
    "print (b.shape)\r\n",
    "# (2, 3)\r\n",
    "print (b) \r\n"
   ],
   "outputs": [
    {
     "output_type": "stream",
     "name": "stdout",
     "text": [
      "[0 1 2 3 4 5 6 7 8 9]\n",
      "(10,)\n",
      "(2, 5)\n",
      "[[0 1 2 3 4]\n",
      " [5 6 7 8 9]]\n",
      "[[1 2 3]\n",
      " [4 5 6]]\n",
      "[[1 2]\n",
      " [3 4]\n",
      " [5 6]]\n",
      "(2, 3)\n",
      "[[1 2 3]\n",
      " [4 5 6]]\n",
      "[1 2 3 4 5 6]\n",
      "(2, 3)\n",
      "[[1 2 3]\n",
      " [4 5 6]]\n"
     ]
    }
   ],
   "metadata": {}
  },
  {
   "cell_type": "markdown",
   "source": [
    "Note that reshape and ravel do not resize array b from its original shape.\r\n",
    "\r\n",
    "The `np.transpose()` function transposes an array:"
   ],
   "metadata": {}
  },
  {
   "cell_type": "code",
   "execution_count": 15,
   "source": [
    "import numpy as np\r\n",
    "\r\n",
    "a = np.array([[1,2,3], [4,5,6]])\r\n",
    "\r\n",
    "print(a.transpose())\r\n",
    "\r\n",
    "# [[1 4]\r\n",
    "\r\n",
    "# [2 5]\r\n",
    "\r\n",
    "# [3 6]]"
   ],
   "outputs": [
    {
     "output_type": "stream",
     "name": "stdout",
     "text": [
      "[[1 4]\n",
      " [2 5]\n",
      " [3 6]]\n"
     ]
    }
   ],
   "metadata": {}
  },
  {
   "cell_type": "markdown",
   "source": [
    "---"
   ],
   "metadata": {}
  },
  {
   "cell_type": "markdown",
   "source": [
    "## NumPy: Array Slicing\r\n",
    "\r\n",
    "Slicing can be applied to numpy arrays as with Python lists to extract a subset of an array. *An array slice refers to the actual array elements, so changing a value in a slice changes the value in the array.*\r\n",
    "\r\n",
    "To slice an array, you indicate the `start:stop:step` of the subset in square brackets. For example, `a[1:5:2]` returns elements 1 and 3.\r\n",
    "\r\n",
    "For a multidimensional array, specify elements for each dimension separated by a comma. For example, `b[0:2, 1]` returns the second element (`1`) in the first two rows (`0:2`).\r\n",
    "\r\n",
    "An ellipsis `...` is used to indicate selection along an entire dimension. For example, `b[..., 2]` returns the third element of every row.\r\n",
    "\r\n",
    "The code below demonstrates several slicing variations:"
   ],
   "metadata": {}
  },
  {
   "cell_type": "code",
   "execution_count": 20,
   "source": [
    "import numpy as np\r\n",
    "\r\n",
    "x = np.arange(8) # 0 1 2 3 4 5 6 7\r\n",
    "print(x)\r\n",
    "# [0 1 2 3 4 5 6 7]\r\n",
    "\r\n",
    "y = x[0:4] # no step\r\n",
    "print(y)\r\n",
    "# [0 1 2 3]\r\n",
    "\r\n",
    "z = x[6: ] # from element 6 on \r\n",
    "print(z)\r\n",
    "# [6 7] \r\n",
    "\r\n",
    "print(x[ :5]) # from 0 to element 5\r\n",
    "# [0 1 2 3 4]\r\n",
    "\r\n",
    "z[1] = 100\r\n",
    "# oltre ad aver modificato la fetta abbiamo modificato anche l'array originale\r\n",
    "print(z) \r\n",
    "print(x) \r\n",
    "# [  0  1  2  3  4  5  6 100]\r\n",
    "\r\n",
    "# altro array stavolta bidimensionale\r\n",
    "a = np.array([[10, 11, 12, 13], [20, 22, 23, 25]])\r\n",
    "\r\n",
    "print(a[0:1, 1]) # 2° elemento della 1a riga\r\n",
    "# [11] \r\n",
    "print(a[..., 1]) # i 2° elementi di tutte le righe\r\n",
    "# [11 22]\r\n",
    "print(a[ : , 3]) # i 4° elementi di tutte le righe\r\n",
    "# [13 25]"
   ],
   "outputs": [
    {
     "output_type": "stream",
     "name": "stdout",
     "text": [
      "[0 1 2 3 4 5 6 7]\n",
      "[0 1 2 3]\n",
      "[6 7]\n",
      "[0 1 2 3 4]\n",
      "[  6 100]\n",
      "[  0   1   2   3   4   5   6 100]\n",
      "[11]\n",
      "[11 22]\n",
      "[13 25]\n"
     ]
    }
   ],
   "metadata": {}
  },
  {
   "cell_type": "markdown",
   "source": [
    "Note that when an element in array z is changed, it is also changed in the original array x."
   ],
   "metadata": {}
  }
 ],
 "metadata": {
  "orig_nbformat": 4,
  "language_info": {
   "name": "python",
   "version": "3.7.11",
   "mimetype": "text/x-python",
   "codemirror_mode": {
    "name": "ipython",
    "version": 3
   },
   "pygments_lexer": "ipython3",
   "nbconvert_exporter": "python",
   "file_extension": ".py"
  },
  "kernelspec": {
   "name": "python3",
   "display_name": "Python 3.7.11 64-bit ('Python_Dev': conda)"
  },
  "interpreter": {
   "hash": "35c0b3597cfb832173173fbfafd89005b7bc5be168df58754a561fda88188955"
  }
 },
 "nbformat": 4,
 "nbformat_minor": 2
}