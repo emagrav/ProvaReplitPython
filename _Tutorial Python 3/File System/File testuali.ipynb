{
 "cells": [
  {
   "cell_type": "markdown",
   "metadata": {},
   "source": [
    "In questo episodio parleremo di Files, ovvero di come sia possibile leggere e scrivere da e su un file di testo salvato nel nostro Computer.\n",
    "\n",
    "Dovete sapere che esistono due modalità di scrittura in Python e queste sono write e append.\n",
    "\n",
    "Utilizzando write, ogni volta che andiamo ad aggiungere del contenuto, tutto ció che era precedentemente salvato all'interno del file andrà perso, mentre utilizzando append, che significa proprio aggiungere, il contenuto aggiunto si sommerà a quanto già presente nel file.\n",
    "\n",
    "Iniziamo partendo dalla prima modalità. Anzitutto ci serve qualcosa da scrivere, quindi:"
   ]
  },
  {
   "cell_type": "code",
   "execution_count": 26,
   "metadata": {},
   "outputs": [],
   "source": [
    "contenuto = \"Oggi è una bellissima giornata!\""
   ]
  },
  {
   "cell_type": "markdown",
   "metadata": {},
   "source": [
    "Ció che dobbiamo fare ora è specificare il file testuale su cui vogliamo scrivere, e per fare questo facciamo:"
   ]
  },
  {
   "cell_type": "code",
   "execution_count": 28,
   "metadata": {},
   "outputs": [],
   "source": [
    "file_uno = open(\"esempio_uno.txt\", \"w\")"
   ]
  },
  {
   "cell_type": "markdown",
   "metadata": {},
   "source": [
    "open() è chiaramente una funzione, e i parametri che le passiamo sono il nome del file su cui vogliamo scrivere e la modalità di scrittura, in questo caso \"w\" da write appunto.\n",
    "\n",
    "Il nome del file puó essere preceduto dal suo percorso all'interno del sistema, ad esempio file_uno = open(\"C:\\\\esempio_uno.txt\", \"w\")\n",
    "\n",
    "Nella definizione del percorso utilizziamo due slash e non uno, in quanto come ricorderete dalle lezioni precedenti questo è il carattere escape, e quindi per essere interpretato correttamente ha bisogno di essere a sua volta giustificato.\n",
    "\n",
    "Visto che noi abbiamo specificato solamente il nome, Python andrà a cercalo nella sua cartella di lavoro di default. Se il file non esiste, come in questo caso, open() lo creerà per noi.\n",
    "\n",
    "Ora che Python sa a che file ci stiamo riferendo possiamo effettuare la scrittura vera e propria, usando il nome della variabile associata ad open(), nel nostro caso file_uno:"
   ]
  },
  {
   "cell_type": "code",
   "execution_count": 29,
   "metadata": {},
   "outputs": [],
   "source": [
    "file_uno.write(contenuto)\n",
    "file_uno.close()    # ricordate sempre di chiudere i file!"
   ]
  },
  {
   "cell_type": "markdown",
   "metadata": {},
   "source": [
    "Andando a controllare nel nostro file esempio_uno.txt, ecco che troviamo la frase appena scritta, \"Oggi è una bellissima giornata!\""
   ]
  },
  {
   "cell_type": "markdown",
   "metadata": {},
   "source": [
    "---"
   ]
  },
  {
   "cell_type": "markdown",
   "metadata": {},
   "source": [
    "Utilizziamo ora la seconda modalità di scrittura, append, per aggiugnere del testo a quello già presente. Creiamo del nuovo materiale da aggiungere:"
   ]
  },
  {
   "cell_type": "code",
   "execution_count": 30,
   "metadata": {},
   "outputs": [],
   "source": [
    "nuova_stringa = \"python è una bomba\""
   ]
  },
  {
   "cell_type": "markdown",
   "metadata": {},
   "source": [
    "La procedura è la stessa rispetto a quella mostrata fin'ora, l'unica cosa che va a cambiare è il secondo parametro passato a open():"
   ]
  },
  {
   "cell_type": "code",
   "execution_count": 31,
   "metadata": {},
   "outputs": [],
   "source": [
    "file_uno = open(\"esempio_uno.txt\", \"a\")\n",
    "file_uno.write(nuova_stringa)\n",
    "file_uno.close()"
   ]
  },
  {
   "cell_type": "markdown",
   "metadata": {},
   "source": [
    "Andando a ricontrollare nel nostro file di testo, ecco che ora troviamo la nostra nuova aggiunta:"
   ]
  },
  {
   "cell_type": "code",
   "execution_count": null,
   "metadata": {},
   "outputs": [],
   "source": [
    "\"Oggi è una bellissima giornata!python è una bomba\""
   ]
  },
  {
   "cell_type": "markdown",
   "metadata": {},
   "source": [
    "Come vedete Python non va a capo automaticamente, dovrete specificarlo voi mediante un carattere newline:"
   ]
  },
  {
   "cell_type": "code",
   "execution_count": 32,
   "metadata": {},
   "outputs": [],
   "source": [
    "file_uno = open(\"esempio_uno.txt\",\"a\")\n",
    "file_uno.write(\"\\nNuova_riga\")\n",
    "file_uno.close()"
   ]
  },
  {
   "cell_type": "markdown",
   "metadata": {},
   "source": [
    "Questo è tutto ció che vi serve sapere per iniziare a scrivere sui file!"
   ]
  },
  {
   "cell_type": "markdown",
   "metadata": {},
   "source": [
    "---"
   ]
  },
  {
   "cell_type": "markdown",
   "metadata": {},
   "source": [
    "Passiamo ora alla terza e ultima parte di questa lezione, la lettura da file; ad open() verrà passato stavolta il parametro \"r\", da read:"
   ]
  },
  {
   "cell_type": "code",
   "execution_count": 33,
   "metadata": {},
   "outputs": [
    {
     "name": "stdout",
     "output_type": "stream",
     "text": [
      "Oggi è una bellissima giornata!python è una bomba\n",
      "Nuova_riga\n"
     ]
    }
   ],
   "source": [
    "file_lettura = open(\"esempio_uno.txt\", \"r\") \n",
    "var_lettura = file_lettura.read()\n",
    "file_lettura.close()\n",
    "\n",
    "print(var_lettura)"
   ]
  },
  {
   "cell_type": "markdown",
   "metadata": {},
   "source": [
    "Volendo, invece di leggere tutto il contenuto del file come un'unica stringa, potete ottenere una lettura per righe apportando una piccola modifica a quanto abbiamo scritto in precedenza:"
   ]
  },
  {
   "cell_type": "code",
   "execution_count": 34,
   "metadata": {},
   "outputs": [],
   "source": [
    "var_lettura = open(\"esempio_uno.txt\", \"r\").readlines()"
   ]
  },
  {
   "cell_type": "markdown",
   "metadata": {},
   "source": [
    "Grazie a readlines(), ora in var_lettura è presente una lista composta dalle varie righe del file:"
   ]
  },
  {
   "cell_type": "code",
   "execution_count": 35,
   "metadata": {},
   "outputs": [
    {
     "name": "stdout",
     "output_type": "stream",
     "text": [
      "['Oggi è una bellissima giornata!python è una bomba\\n', 'Nuova_riga']\n"
     ]
    }
   ],
   "source": [
    "print(var_lettura)"
   ]
  },
  {
   "cell_type": "markdown",
   "metadata": {},
   "source": [
    "Prima di chiudere vi do delle info bonus!\n",
    "\n",
    "Iniziamo importando il modulo della Standard Library dedicato al sistema operativo, il modulo os:"
   ]
  },
  {
   "cell_type": "code",
   "execution_count": 36,
   "metadata": {},
   "outputs": [],
   "source": [
    "import os"
   ]
  },
  {
   "cell_type": "markdown",
   "metadata": {},
   "source": [
    "Tra le tante funzionalità presenti in questo modulo potete verificare la cartella su cui Python sta lavorando mediante:"
   ]
  },
  {
   "cell_type": "code",
   "execution_count": 37,
   "metadata": {},
   "outputs": [
    {
     "data": {
      "text/plain": [
       "'/home/grim/Documenti/Repo/Python/ProvaReplitPython/_Tutorial Python 3/File System'"
      ]
     },
     "execution_count": 37,
     "metadata": {},
     "output_type": "execute_result"
    }
   ],
   "source": [
    "os.getcwd() #ottiene la directory di lavoro corrente"
   ]
  },
  {
   "cell_type": "markdown",
   "metadata": {},
   "source": [
    "e cambiarla con:"
   ]
  },
  {
   "cell_type": "code",
   "execution_count": null,
   "metadata": {},
   "outputs": [],
   "source": [
    "os.chdir(\"/percorso/file\") # cambia directory di lavoro"
   ]
  },
  {
   "cell_type": "markdown",
   "metadata": {},
   "source": [
    "Questo vi faciliterà in maniera considerevole il lavoro... specialmente se state lavorando con più di un file per volta!"
   ]
  }
 ],
 "metadata": {
  "interpreter": {
   "hash": "34e585552094451cae220991e1ed44caa02093cab9026cc2bf65cee2cb2e025c"
  },
  "kernelspec": {
   "display_name": "Python 3.9.7 64-bit ('python_dev': conda)",
   "name": "python3"
  },
  "language_info": {
   "codemirror_mode": {
    "name": "ipython",
    "version": 3
   },
   "file_extension": ".py",
   "mimetype": "text/x-python",
   "name": "python",
   "nbconvert_exporter": "python",
   "pygments_lexer": "ipython3",
   "version": "3.9.7"
  },
  "orig_nbformat": 4
 },
 "nbformat": 4,
 "nbformat_minor": 2
}
