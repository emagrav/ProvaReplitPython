{
 "cells": [
  {
   "cell_type": "markdown",
   "metadata": {},
   "source": [
    "# 18. I Principali Metodi per Stringhe\n",
    "In questa nuova lezione approfondiremo la nostra conoscenza del tipo di dato testuale di Python, le Stringhe.\n",
    "\n",
    "Vorrei anzitutto iniziare da una nuova tipologia di concatenazione tra testo e variabili che è appena stata introdotta in Python 3.6, chiamata in Inglese Formatted String Literals, che va a migliorare il sistema di formattazione già presente in Python 3, rendendolo davvero di una potenza sconvolgente!\n",
    "\n",
    "Fin'ora quando abbiamo dovuto concatenare delle variabili con delle stringhe, abbiamo utilizzato l'operatore + per unire i valori tra di loro, ad esempio:"
   ]
  },
  {
   "cell_type": "code",
   "execution_count": 17,
   "metadata": {},
   "outputs": [
    {
     "name": "stdout",
     "output_type": "stream",
     "text": [
      "Ciao Jack\n"
     ]
    }
   ],
   "source": [
    "nome = \"Jack\"\n",
    "print(\"Ciao \" + nome)"
   ]
  },
  {
   "cell_type": "markdown",
   "metadata": {},
   "source": [
    "Per poter unire dei valori numerici inoltre, abbiamo sempre dovuto utilizzare la funzione di supporto str()"
   ]
  },
  {
   "cell_type": "code",
   "execution_count": 16,
   "metadata": {},
   "outputs": [
    {
     "name": "stdout",
     "output_type": "stream",
     "text": [
      "Ciao Jack questa è la lezione n18\n"
     ]
    }
   ],
   "source": [
    "numero = 18\n",
    "print(\"Ciao \" + nome + \" questa è la lezione n\" + str(numero))"
   ]
  },
  {
   "cell_type": "markdown",
   "metadata": {},
   "source": [
    "Piuttosto confusionario non vi pare?\n",
    "Ma tranquilli, con questo metodo che vi spiegheró ora potrete tirare un sospiro di sollievo e cimentarvi nelle concatenazioni più disparate.\n",
    "\n",
    "Per utilizzare questo nuovo sistema di formattazione, dovete iniziare la nuova stringa con una f, che significa appunto formatted, e che informa Python di come deve interpretare le istruzioni successive. Tutte le variabili che volete passare le passate tra parentesi graffe:"
   ]
  },
  {
   "cell_type": "code",
   "execution_count": 15,
   "metadata": {},
   "outputs": [
    {
     "name": "stdout",
     "output_type": "stream",
     "text": [
      "Ciao Jack, questa è la lezione n18! Benvenuto!\n"
     ]
    }
   ],
   "source": [
    "print(f\"Ciao {nome}, questa è la lezione n{numero}! Benvenuto!\")"
   ]
  },
  {
   "cell_type": "markdown",
   "metadata": {},
   "source": [
    "Possiamo inoltre effettuare operazioni numeriche in maniera veramente semplice:"
   ]
  },
  {
   "cell_type": "code",
   "execution_count": 14,
   "metadata": {},
   "outputs": [
    {
     "name": "stdout",
     "output_type": "stream",
     "text": [
      "Il quadrato di 5 è 25\n"
     ]
    }
   ],
   "source": [
    "z = 5\n",
    "print(f\"Il quadrato di {z} è {z * z}\")"
   ]
  },
  {
   "cell_type": "markdown",
   "metadata": {},
   "source": [
    "Esercitatevi e provate a vedere fino a dove è possibile utilizzare questa metodologia di concatenazione! Ne rimarrete stupiti, garantito!\n",
    "\n",
    "Andiamo ora a fare un elenco dei metodi per stringhe che troverete utilissimi e che vi permetteranno di risparmiare tempo e codice."
   ]
  },
  {
   "cell_type": "code",
   "execution_count": 2,
   "metadata": {},
   "outputs": [],
   "source": [
    "messaggio = \"Fate il vostro gioco\""
   ]
  },
  {
   "cell_type": "markdown",
   "metadata": {},
   "source": [
    "Direi anzitutto di iniziare con quelli che sono forse i miei metodi preferiti, mi riferisco a startswith() e endswith().\n",
    "\n",
    "Ció che questi due metodi fanno è controllare se la Stringa in analisi inizia oppure finisce, con una parola o lettera passata come parametro. Questi metodi restituiscono valori Booleani, quindi ricordiamolo, True o False."
   ]
  },
  {
   "cell_type": "code",
   "execution_count": 3,
   "metadata": {},
   "outputs": [
    {
     "data": {
      "text/plain": [
       "True"
      ]
     },
     "execution_count": 3,
     "metadata": {},
     "output_type": "execute_result"
    }
   ],
   "source": [
    "messaggio.startswith(\"Fate\")"
   ]
  },
  {
   "cell_type": "code",
   "execution_count": 5,
   "metadata": {},
   "outputs": [
    {
     "data": {
      "text/plain": [
       "True"
      ]
     },
     "execution_count": 5,
     "metadata": {},
     "output_type": "execute_result"
    }
   ],
   "source": [
    "messaggio.startswith(\"F\")"
   ]
  },
  {
   "cell_type": "code",
   "execution_count": 6,
   "metadata": {},
   "outputs": [
    {
     "name": "stdout",
     "output_type": "stream",
     "text": [
      "False\n"
     ]
    }
   ],
   "source": [
    "print(messaggio.startswith(\"x\"))"
   ]
  },
  {
   "cell_type": "code",
   "execution_count": 16,
   "metadata": {},
   "outputs": [
    {
     "data": {
      "text/plain": [
       "True"
      ]
     },
     "execution_count": 16,
     "metadata": {},
     "output_type": "execute_result"
    }
   ],
   "source": [
    "messaggio.endswith(\"gioco\")"
   ]
  },
  {
   "cell_type": "code",
   "execution_count": 12,
   "metadata": {},
   "outputs": [
    {
     "data": {
      "text/plain": [
       "False"
      ]
     },
     "execution_count": 12,
     "metadata": {},
     "output_type": "execute_result"
    }
   ],
   "source": [
    "messaggio.endswith(\"gioc\")"
   ]
  },
  {
   "cell_type": "markdown",
   "metadata": {},
   "source": [
    "Parliamo ora di isupper() e islower(): questi metodi controllano se tutte le lettere nella stringa analizzata sono maiuscole o minuscole, e anche stavolta restituiscono valore True o False in base al risultato dell'analisi:"
   ]
  },
  {
   "cell_type": "code",
   "execution_count": 20,
   "metadata": {},
   "outputs": [
    {
     "data": {
      "text/plain": [
       "False"
      ]
     },
     "execution_count": 20,
     "metadata": {},
     "output_type": "execute_result"
    }
   ],
   "source": [
    "nome = \"alice\"\n",
    "nome.isupper()"
   ]
  },
  {
   "cell_type": "code",
   "execution_count": 22,
   "metadata": {},
   "outputs": [
    {
     "data": {
      "text/plain": [
       "False"
      ]
     },
     "execution_count": 22,
     "metadata": {},
     "output_type": "execute_result"
    }
   ],
   "source": [
    "nome = \"BOB\"\n",
    "nome.islower()"
   ]
  },
  {
   "cell_type": "code",
   "execution_count": 23,
   "metadata": {},
   "outputs": [
    {
     "data": {
      "text/plain": [
       "False"
      ]
     },
     "execution_count": 23,
     "metadata": {},
     "output_type": "execute_result"
    }
   ],
   "source": [
    "cane = \"Lucky\"\n",
    "cane.islower()"
   ]
  },
  {
   "cell_type": "code",
   "execution_count": 24,
   "metadata": {},
   "outputs": [
    {
     "data": {
      "text/plain": [
       "False"
      ]
     },
     "execution_count": 24,
     "metadata": {},
     "output_type": "execute_result"
    }
   ],
   "source": [
    "cane.isupper()"
   ]
  },
  {
   "cell_type": "markdown",
   "metadata": {},
   "source": [
    "Parallelamente potete ottenere la versione con le lettere tutte in maiuscolo o tutto in minuscolo grazie ai metodi upper() e lower():"
   ]
  },
  {
   "cell_type": "code",
   "execution_count": 25,
   "metadata": {},
   "outputs": [
    {
     "data": {
      "text/plain": [
       "'bob'"
      ]
     },
     "execution_count": 25,
     "metadata": {},
     "output_type": "execute_result"
    }
   ],
   "source": [
    "nome.lower()"
   ]
  },
  {
   "cell_type": "code",
   "execution_count": 26,
   "metadata": {},
   "outputs": [
    {
     "data": {
      "text/plain": [
       "'LUCKY'"
      ]
     },
     "execution_count": 26,
     "metadata": {},
     "output_type": "execute_result"
    }
   ],
   "source": [
    "cane.upper()"
   ]
  },
  {
   "cell_type": "markdown",
   "metadata": {},
   "source": [
    "Ma tenete a mente che in questo caso vi viene fornita una nuova versione della stringa, e non una modifica alla stringa stessa:"
   ]
  },
  {
   "cell_type": "code",
   "execution_count": 27,
   "metadata": {},
   "outputs": [
    {
     "data": {
      "text/plain": [
       "'Lucky'"
      ]
     },
     "execution_count": 27,
     "metadata": {},
     "output_type": "execute_result"
    }
   ],
   "source": [
    "cane"
   ]
  },
  {
   "cell_type": "markdown",
   "metadata": {},
   "source": [
    "Questo perché le stringhe sono valori immutabili.\n",
    "\n",
    "Parleremo bene dei dettagli tecnici su questo tipo di dato in un altro video più avanti, per ora tenete a mente che volendo modificare il contenuto vero e proprio, dovete riassegnare la variabile:"
   ]
  },
  {
   "cell_type": "code",
   "execution_count": 28,
   "metadata": {},
   "outputs": [
    {
     "name": "stdout",
     "output_type": "stream",
     "text": [
      "LUCKY\n"
     ]
    }
   ],
   "source": [
    "cane = cane.upper()\n",
    "print(cane)"
   ]
  },
  {
   "cell_type": "markdown",
   "metadata": {},
   "source": [
    "---"
   ]
  },
  {
   "cell_type": "markdown",
   "metadata": {},
   "source": [
    "Andiamo avanti introducendo isalpha() e isdecimal(): come i nomi suggeriscono, questi metodi controllano se una stringa è composta da sole lettere o soli numeri rispettivamente:"
   ]
  },
  {
   "cell_type": "code",
   "execution_count": 30,
   "metadata": {},
   "outputs": [
    {
     "data": {
      "text/plain": [
       "False"
      ]
     },
     "execution_count": 30,
     "metadata": {},
     "output_type": "execute_result"
    }
   ],
   "source": [
    "parole = \"asd \"\n",
    "parole.isalpha() # c'è lo spazio a dare fastidio"
   ]
  },
  {
   "cell_type": "code",
   "execution_count": 31,
   "metadata": {},
   "outputs": [
    {
     "data": {
      "text/plain": [
       "True"
      ]
     },
     "execution_count": 31,
     "metadata": {},
     "output_type": "execute_result"
    }
   ],
   "source": [
    "num = \"123\"\n",
    "num.isdecimal()"
   ]
  },
  {
   "cell_type": "markdown",
   "metadata": {},
   "source": [
    "Per verificare se invece la stringa è composta o da numeri o da lettere allo stesso tempo usiamo isalnum():"
   ]
  },
  {
   "cell_type": "code",
   "execution_count": 32,
   "metadata": {},
   "outputs": [
    {
     "name": "stdout",
     "output_type": "stream",
     "text": [
      "True\n"
     ]
    }
   ],
   "source": [
    "spam = \"asd123q\"\n",
    "print(num.isalnum())"
   ]
  },
  {
   "cell_type": "markdown",
   "metadata": {},
   "source": [
    "Questi metodi sono fantastici se implementati in un ciclo For.\n",
    "\n",
    "Ad esempio, supponiamo di avere una stringa composta da svariati caratteri e di voler estrarre solo lettere e numeri:"
   ]
  },
  {
   "cell_type": "code",
   "execution_count": 4,
   "metadata": {},
   "outputs": [
    {
     "name": "stdout",
     "output_type": "stream",
     "text": [
      "q\n",
      "w\n",
      "e\n",
      "5\n",
      "4\n"
     ]
    }
   ],
   "source": [
    "eggs = \"@qwe54!?+\"\n",
    "for carattere in eggs:\n",
    "    if carattere.isalnum() == True:\n",
    "        print(carattere)"
   ]
  },
  {
   "cell_type": "markdown",
   "metadata": {},
   "source": [
    "Per verificare se una stringa o un carattere è invece uno spazio bianco, usiamo isspace():"
   ]
  },
  {
   "cell_type": "code",
   "execution_count": 35,
   "metadata": {},
   "outputs": [
    {
     "name": "stdout",
     "output_type": "stream",
     "text": [
      "True\n"
     ]
    }
   ],
   "source": [
    "bacon = \"qwe rty\"\n",
    "print(bacon[3].isspace())"
   ]
  },
  {
   "cell_type": "code",
   "execution_count": 34,
   "metadata": {},
   "outputs": [
    {
     "name": "stdout",
     "output_type": "stream",
     "text": [
      "False\n"
     ]
    }
   ],
   "source": [
    "# quando c'è uno spazio, la stringa, \n",
    "# oltre a non essere alfabetica, non è nemmeno alfanumerica\n",
    "print(bacon.isalnum()) "
   ]
  },
  {
   "cell_type": "markdown",
   "metadata": {},
   "source": [
    "---"
   ]
  },
  {
   "cell_type": "markdown",
   "metadata": {},
   "source": [
    "Bene, passiamo ora agli ultimi due metodi che analizzeremo in questo video, split() e join():\n",
    "\n",
    "Il metodo join() è utilissimo quando ci troviamo con una Lista di stringhe o parole, e vogliamo unirle tra di loro per formare una nuova stringa risultante."
   ]
  },
  {
   "cell_type": "code",
   "execution_count": 37,
   "metadata": {},
   "outputs": [],
   "source": [
    "compiti = [\"portare il cane a passeggio\", \"finire di studiare\", \"fare la spesa\", \"lavare i panni\"]"
   ]
  },
  {
   "cell_type": "markdown",
   "metadata": {},
   "source": [
    "Anzitutto il metodo join viene chiamato su una stringa, che vogliamo utilizzare come collante diciamo tra le varie parole o stringhe vogliamo unire:"
   ]
  },
  {
   "cell_type": "code",
   "execution_count": 38,
   "metadata": {},
   "outputs": [
    {
     "name": "stdout",
     "output_type": "stream",
     "text": [
      "portare il cane a passeggio, finire di studiare, fare la spesa, lavare i panni\n"
     ]
    }
   ],
   "source": [
    "print(\", \".join(compiti))"
   ]
  },
  {
   "cell_type": "code",
   "execution_count": 39,
   "metadata": {},
   "outputs": [
    {
     "name": "stdout",
     "output_type": "stream",
     "text": [
      "oggi devo: portare il cane a passeggio, finire di studiare, fare la spesa, lavare i panni\n"
     ]
    }
   ],
   "source": [
    "da_fare = \"oggi devo: \" + \", \".join(compiti)\n",
    "print(da_fare)"
   ]
  },
  {
   "cell_type": "markdown",
   "metadata": {},
   "source": [
    "Possiamo anche chiamare join() su un carattere newline per separare i vari elementi con una nuova riga:"
   ]
  },
  {
   "cell_type": "code",
   "execution_count": 40,
   "metadata": {},
   "outputs": [
    {
     "name": "stdout",
     "output_type": "stream",
     "text": [
      "portare il cane a passeggio\n",
      "finire di studiare\n",
      "fare la spesa\n",
      "lavare i panni\n"
     ]
    }
   ],
   "source": [
    "da_fare = \"\\n\".join(compiti)\n",
    "print(da_fare)"
   ]
  },
  {
   "cell_type": "markdown",
   "metadata": {},
   "source": [
    "Al contrario, col metodo split() possiamo dividere una stringa su cui viene richiamato, in una lista di stringhe, in questo modo:"
   ]
  },
  {
   "cell_type": "code",
   "execution_count": 41,
   "metadata": {},
   "outputs": [
    {
     "name": "stdout",
     "output_type": "stream",
     "text": [
      "['1492', '1984', '123311', '555']\n"
     ]
    }
   ],
   "source": [
    "serie_numerica = \"1492-1984-123311-555\"\n",
    "print(serie_numerica.split(\"-\"))"
   ]
  },
  {
   "cell_type": "markdown",
   "metadata": {},
   "source": [
    "Quindi stavolta tra le parentesi di split() mettiamo il carattere o parola o stringa insomma, che segnala a split() dove effettuare questa suddivisione."
   ]
  },
  {
   "cell_type": "code",
   "execution_count": 42,
   "metadata": {},
   "outputs": [
    {
     "name": "stdout",
     "output_type": "stream",
     "text": [
      "['Nel', 'mezzo', 'del', 'cammin', 'di', 'nostra', 'vita']\n"
     ]
    }
   ],
   "source": [
    "citazione = \"Nel mezzo del cammin di nostra vita\"\n",
    "print(citazione.split(\" \"))"
   ]
  }
 ],
 "metadata": {
  "interpreter": {
   "hash": "34e585552094451cae220991e1ed44caa02093cab9026cc2bf65cee2cb2e025c"
  },
  "kernelspec": {
   "display_name": "Python 3.9.7 64-bit ('python_dev': conda)",
   "name": "python3"
  },
  "language_info": {
   "codemirror_mode": {
    "name": "ipython",
    "version": 3
   },
   "file_extension": ".py",
   "mimetype": "text/x-python",
   "name": "python",
   "nbconvert_exporter": "python",
   "pygments_lexer": "ipython3",
   "version": "3.9.7"
  },
  "orig_nbformat": 4
 },
 "nbformat": 4,
 "nbformat_minor": 2
}
